{
  "nbformat": 4,
  "nbformat_minor": 0,
  "metadata": {
    "colab": {
      "provenance": [],
      "collapsed_sections": [
        "HZGTJ7sfLo3K",
        "0f0DsNWMMRda",
        "b9LsACoaMh4A",
        "q7uFX7IqcKiD"
      ],
      "include_colab_link": true
    },
    "kernelspec": {
      "name": "python3",
      "display_name": "Python 3"
    },
    "language_info": {
      "name": "python"
    },
    "gpuClass": "standard"
  },
  "cells": [
    {
      "cell_type": "markdown",
      "metadata": {
        "id": "view-in-github",
        "colab_type": "text"
      },
      "source": [
        "<a href=\"https://colab.research.google.com/github/matthieu-sgi/Pool_Ball_tracking_AI/blob/main/Ball_tracking_simplest_backup.ipynb\" target=\"_parent\"><img src=\"https://colab.research.google.com/assets/colab-badge.svg\" alt=\"Open In Colab\"/></a>"
      ]
    },
    {
      "cell_type": "code",
      "execution_count": null,
      "metadata": {
        "id": "kFF9NvvZapx9"
      },
      "outputs": [],
      "source": [
        "from __future__ import annotations\n",
        "\n",
        "from matplotlib import pyplot as plt, cm\n",
        "from PIL import Image, ImageOps\n",
        "from scipy.ndimage import gaussian_filter\n",
        "from torch.optim import SGD\n",
        "from torch.nn import BatchNorm2d,Conv2d,MSELoss, Linear, MaxPool2d, Module, Sequential, ReLU , ConvTranspose2d, Upsample, CrossEntropyLoss, Sigmoid\n",
        "from torch.utils.data import DataLoader, Dataset\n",
        "from torchsummary import summary\n",
        "\n",
        "import numpy as np\n",
        "import os,os.path\n",
        "import pandas as pd\n",
        "import time\n",
        "import torch\n",
        "import torch.nn.functional as F\n",
        "import torchvision.transforms as T\n",
        "import random\n",
        "\n",
        "%matplotlib inline"
      ]
    },
    {
      "cell_type": "code",
      "source": [
        "from google.colab import drive\n",
        "drive.mount('/content/drive')"
      ],
      "metadata": {
        "id": "ukYowww6SRhw",
        "colab": {
          "base_uri": "https://localhost:8080/"
        },
        "outputId": "cd6cd8aa-247b-411b-c420-6e7553e7911c"
      },
      "execution_count": null,
      "outputs": [
        {
          "output_type": "stream",
          "name": "stdout",
          "text": [
            "Mounted at /content/drive\n"
          ]
        }
      ]
    },
    {
      "cell_type": "markdown",
      "source": [
        "# Dataset building"
      ],
      "metadata": {
        "id": "1NVS267Bz4xv"
      }
    },
    {
      "cell_type": "markdown",
      "source": [
        "### Transforms"
      ],
      "metadata": {
        "id": "eHVQXDuf1CUQ"
      }
    },
    {
      "cell_type": "code",
      "source": [
        "class ToTen(object):\n",
        "    \"\"\"Convert PIL image and numpy ndarray in sample to Tensors.\"\"\"\n",
        "\n",
        "    def __call__(self, sample : dict) -> tuple[torch.tensor, torch.tensor] :\n",
        "        image, masks = sample['image'], sample['target']\n",
        "        masks_to_tensors = torch.from_numpy(masks)\n",
        "        transform = T.ToTensor()\n",
        "        return {'image': transform(image),\n",
        "                'target': masks_to_tensors}\n",
        "    @property\n",
        "    def get_name(self) -> str:\n",
        "      return \"ToTensor\""
      ],
      "metadata": {
        "id": "MDcf8fRP1TRl"
      },
      "execution_count": null,
      "outputs": []
    },
    {
      "cell_type": "markdown",
      "source": [
        "### Dataset class"
      ],
      "metadata": {
        "id": "gOpEO3AH1zoQ"
      }
    },
    {
      "cell_type": "code",
      "source": [
        "class PoolImageDatasetSimplest(Dataset):\n",
        "  global x_min,x_max,y_min,y_max, train_prop\n",
        "\n",
        "  #Dimensions of my pool\n",
        "  width , height = 1.900, 0.956\n",
        "  x_min,x_max = -(width/2),width/2\n",
        "  y_min,y_max = -(height/2),height/2\n",
        "  train_prop = 0.75\n",
        "\n",
        "  def __init__(\n",
        "      self,\n",
        "      transforms = None,\n",
        "      csv_file_path : str = './coords.csv',\n",
        "      data_path : str = \"./images/\",\n",
        "      train : bool = True\n",
        "      ) -> None:\n",
        "\n",
        "    super().__init__()\n",
        "    self.labels = pd.read_csv(csv_file_path)\n",
        "    self.images_path = data_path\n",
        "    self.transforms = transforms\n",
        "    #define the resolution of the image in order to do the origine translation\n",
        "    self.image_width, self.image_height = Image.open(data_path+\"0.png\").size\n",
        "    # calling the cleaning function that includes mapping and translation of x and y\n",
        "    self._clean_values()\n",
        "    self.train = train\n",
        "    self.len = self.__len__()\n",
        "\n",
        "  @staticmethod\n",
        "  def mapping_and_translation(\n",
        "      value : float,\n",
        "      actual_ref_min : float,\n",
        "      actual_ref_max : float,\n",
        "      offset : int # offset = translation quantity\n",
        "      ) -> int : \n",
        "      \n",
        "      new_ref_max = offset\n",
        "      new_ref_min = -offset\n",
        "\n",
        "       # +0.5 is just for the rounding by excess\n",
        "       # And for the math formula I took the one from arduino function \"map()\"\n",
        "      new_value = int(((value - actual_ref_min) * (new_ref_max - new_ref_min)/ (actual_ref_max - actual_ref_min) + new_ref_min))\n",
        "      return new_value + offset\n",
        "    \n",
        "  def _clean_values(self):\n",
        "    # Removing Z value \n",
        "    self.labels.drop('z', inplace = True,axis=1)\n",
        "    #Removing all extreme X and Y values that are out of the pool table\n",
        "    self.labels.drop(self.labels[(self.labels['x']>=x_max) | (self.labels['x'] <= x_min) ].index, inplace=True) \n",
        "    self.labels.drop(self.labels[(self.labels.y >= y_max) | (self.labels.y <= y_min) ].index, inplace=True) #\n",
        "\n",
        "    #change coords if the translation changed\n",
        "    self.labels[\"x\"] = self.labels[\"x\"].apply(lambda x : self.mapping_and_translation(x,x_min,x_max,int(self.image_width/2)))\n",
        "    self.labels[\"y\"] = self.labels[\"y\"].apply(lambda y : self.mapping_and_translation(y,y_min,y_max,int(self.image_height/2)))\n",
        "  \n",
        "  def draw_ones(self,coords : np.ndarray) -> np.ndarray :\n",
        "    # print(coords)\n",
        "    arr = np.zeros((self.image_height,self.image_width),dtype = np.float32)\n",
        "    for x, y in coords:\n",
        "      arr[self.image_height - y,x] = 1.0 # self.image_height-y to flip\n",
        "    # arr_gaussian = gaussian_filter(arr, sigma=1.5)\n",
        "    # return torch.from_numpy(arr_gaussian)\n",
        "    return arr.astype(dtype=np.float32)\n",
        "\n",
        "  def __len__(self):\n",
        "    return int(len(os.listdir(self.images_path)) * train_prop) if self.train else int(len(os.listdir(self.images_path)) * (1-train_prop))\n",
        "  \n",
        "  def __getitem__(self, idx) -> dict:\n",
        "    if not self.train :\n",
        "      idx = idx + self.len\n",
        "    if torch.is_tensor(idx):\n",
        "        idx = idx.tolist()\n",
        "\n",
        "    img_name = os.path.join(self.images_path,\n",
        "                              f\"{str(idx)}.png\")\n",
        "    image = Image.open(img_name).convert('RGB') #Apply rgb conversion -> have 3 input channels instead of 4\n",
        "\n",
        "    coords = np.array(self.labels[self.labels.id == idx].iloc[:,[1,2]])\n",
        "    \n",
        "    # print(coords)\n",
        "\n",
        "    target = self.draw_ones(coords)\n",
        "    # print(type(target[0]))\n",
        "    sample = {'image': image, 'target': target}\n",
        "\n",
        "    if self.transforms:\n",
        "      sample = self.transforms(sample)\n",
        "\n",
        "\n",
        "    return sample"
      ],
      "metadata": {
        "id": "f-qx0tsYay_U"
      },
      "execution_count": null,
      "outputs": []
    },
    {
      "cell_type": "code",
      "source": [
        "csv_file_path =\"/content/drive/MyDrive/Createch/Pool_Project/.dataset/coords.csv\"\n",
        "data_path =\"/content/drive/MyDrive/Createch/Pool_Project/.dataset/images/\""
      ],
      "metadata": {
        "id": "M2p1c89YwYlo"
      },
      "execution_count": null,
      "outputs": []
    },
    {
      "cell_type": "code",
      "source": [
        "dataset = PoolImageDatasetSimplest(csv_file_path=csv_file_path,data_path = data_path, train = True)"
      ],
      "metadata": {
        "id": "tjOTPCLebiax"
      },
      "execution_count": null,
      "outputs": []
    },
    {
      "cell_type": "code",
      "source": [
        "plt.imshow(dataset[0][\"image\"])"
      ],
      "metadata": {
        "id": "yVJvVbbqb1mo",
        "colab": {
          "base_uri": "https://localhost:8080/",
          "height": 235
        },
        "outputId": "15218121-4cdf-43c9-e121-077bb1cdd9d6"
      },
      "execution_count": null,
      "outputs": [
        {
          "output_type": "execute_result",
          "data": {
            "text/plain": [
              "<matplotlib.image.AxesImage at 0x7f2198fb80d0>"
            ]
          },
          "metadata": {},
          "execution_count": 28
        },
        {
          "output_type": "display_data",
          "data": {
            "text/plain": [
              "<Figure size 432x288 with 1 Axes>"
            ],
            "image/png": "[encoded data removed]"
          },
          "metadata": {
            "needs_background": "light"
          }
        }
      ]
    },
    {
      "cell_type": "code",
      "source": [
        "target = dataset[0][\"target\"]\n",
        "plt.imshow(target)"
      ],
      "metadata": {
        "id": "37ijrU8PfM_m",
        "colab": {
          "base_uri": "https://localhost:8080/",
          "height": 235
        },
        "outputId": "d89b39e7-3cdd-4626-f563-6ff417931f94"
      },
      "execution_count": null,
      "outputs": [
        {
          "output_type": "execute_result",
          "data": {
            "text/plain": [
              "<matplotlib.image.AxesImage at 0x7f21a24ae1d0>"
            ]
          },
          "metadata": {},
          "execution_count": 8
        },
        {
          "output_type": "display_data",
          "data": {
            "text/plain": [
              "<Figure size 432x288 with 1 Axes>"
            ],
            "image/png": "[encoded data removed]"
          },
          "metadata": {
            "needs_background": "light"
          }
        }
      ]
    },
    {
      "cell_type": "markdown",
      "source": [
        "### DataLoader"
      ],
      "metadata": {
        "id": "C6u4B2sYz9rs"
      }
    },
    {
      "cell_type": "code",
      "source": [
        "batch_size = 128\n",
        "train_dataset = PoolImageDatasetSimplest(transforms=ToTen(),csv_file_path=csv_file_path,data_path = data_path,train = True)\n",
        "test_dataset = PoolImageDatasetSimplest(transforms=ToTen(),csv_file_path=csv_file_path,data_path = data_path,train = False)\n",
        "train_dataloader = DataLoader(train_dataset,batch_size=batch_size,shuffle = True,num_workers=2)\n",
        "test_dataloader = DataLoader(test_dataset,batch_size=batch_size,shuffle = False,num_workers=2)"
      ],
      "metadata": {
        "id": "Q7AsjNtC0BW7"
      },
      "execution_count": null,
      "outputs": []
    },
    {
      "cell_type": "code",
      "source": [
        "train_dataset[0][\"image\"].size()"
      ],
      "metadata": {
        "colab": {
          "base_uri": "https://localhost:8080/"
        },
        "id": "SUAr3Jluk4pG",
        "outputId": "615d8b2a-d0e3-4498-a92f-8ae07bd7fd12"
      },
      "execution_count": null,
      "outputs": [
        {
          "output_type": "execute_result",
          "data": {
            "text/plain": [
              "torch.Size([3, 64, 128])"
            ]
          },
          "metadata": {},
          "execution_count": 30
        }
      ]
    },
    {
      "cell_type": "markdown",
      "source": [
        "# Model building\n",
        "\n",
        "Building a U-Net, you have to define different parts of the model.\n",
        "\n",
        "As the name indicate, it's built in U shape. First you have to go down, using convolution and pooling. Then you go up and add previous states.\n",
        "\n",
        "At the end, we do an upscaling and conv to retrieve our origin size."
      ],
      "metadata": {
        "id": "90w7DXMRoW-5"
      }
    },
    {
      "cell_type": "markdown",
      "source": [
        "### Building convolution"
      ],
      "metadata": {
        "id": "r1uzHYkqKIkR"
      }
    },
    {
      "cell_type": "code",
      "source": [
        "class DoubleConv(Module):\n",
        "    \"\"\"(convolution => [BN] => ReLU) * 2\"\"\"\n",
        "\n",
        "    def __init__(self, in_channels, out_channels, mid_channels=None):\n",
        "        super().__init__()\n",
        "        if not mid_channels:\n",
        "            mid_channels = out_channels\n",
        "        self.double_conv = Sequential(\n",
        "            Conv2d(in_channels, mid_channels, kernel_size=3, padding=1, bias=False),\n",
        "            BatchNorm2d(mid_channels),\n",
        "            ReLU(inplace=True),\n",
        "            Conv2d(mid_channels, out_channels, kernel_size=3, padding=1, bias=False),\n",
        "            BatchNorm2d(out_channels),\n",
        "            ReLU(inplace=True)\n",
        "        )\n",
        "\n",
        "    def forward(self, x):\n",
        "        return self.double_conv(x)"
      ],
      "metadata": {
        "id": "QAiWDGKjKIBJ"
      },
      "execution_count": null,
      "outputs": []
    },
    {
      "cell_type": "markdown",
      "source": [
        "### Building Down"
      ],
      "metadata": {
        "id": "HZGTJ7sfLo3K"
      }
    },
    {
      "cell_type": "code",
      "source": [
        "class Down(Module):\n",
        "    \"\"\"Downscaling with maxpool then double conv\"\"\"\n",
        "\n",
        "    def __init__(self, in_channels, out_channels):\n",
        "        super().__init__()\n",
        "        self.maxpool_conv = Sequential(\n",
        "            MaxPool2d(2),\n",
        "            DoubleConv(in_channels, out_channels)\n",
        "        )\n",
        "\n",
        "    def forward(self, x):\n",
        "        return self.maxpool_conv(x)"
      ],
      "metadata": {
        "id": "CchJPUabKH7x"
      },
      "execution_count": null,
      "outputs": []
    },
    {
      "cell_type": "markdown",
      "source": [
        "### Building Up"
      ],
      "metadata": {
        "id": "0f0DsNWMMRda"
      }
    },
    {
      "cell_type": "code",
      "source": [
        "class Up(Module):\n",
        "    \"\"\"Upscaling then double conv\"\"\"\n",
        "\n",
        "    def __init__(self, in_channels, out_channels, bilinear=True):\n",
        "        super().__init__()\n",
        "\n",
        "        # if bilinear, use the normal convolutions to reduce the number of channels\n",
        "        if bilinear:\n",
        "            self.up = Upsample(scale_factor=2, mode='bilinear', align_corners=True)\n",
        "            self.conv = DoubleConv(in_channels, out_channels, in_channels // 2)\n",
        "        else:\n",
        "            self.up = ConvTranspose2d(in_channels, in_channels // 2, kernel_size=2, stride=2)\n",
        "            self.conv = DoubleConv(in_channels, out_channels)\n",
        "\n",
        "    def forward(self, x1, x2):\n",
        "        x1 = self.up(x1)\n",
        "        # input is CHW\n",
        "        diffY = x2.size()[2] - x1.size()[2]\n",
        "        diffX = x2.size()[3] - x1.size()[3]\n",
        "\n",
        "        x1 = F.pad(x1, [diffX // 2, diffX - diffX // 2,\n",
        "                        diffY // 2, diffY - diffY // 2])\n",
        "        # if you have padding issues, see\n",
        "        # https://github.com/HaiyongJiang/U-Net-Pytorch-Unstructured-Buggy/commit/0e854509c2cea854e247a9c615f175f76fbb2e3a\n",
        "        # https://github.com/xiaopeng-liao/Pytorch-UNet/commit/8ebac70e633bac59fc22bb5195e513d5832fb3bd\n",
        "        x = torch.cat([x2, x1], dim=1)\n",
        "        return self.conv(x)"
      ],
      "metadata": {
        "id": "zW58M9kEKHzk"
      },
      "execution_count": null,
      "outputs": []
    },
    {
      "cell_type": "markdown",
      "source": [
        "### Building the Outconv\n",
        "JE DOIS EXPLIQUER CE QUE CESTTTTTT"
      ],
      "metadata": {
        "id": "y_HikSBqMVZP"
      }
    },
    {
      "cell_type": "code",
      "source": [
        "class OutConv(Module):\n",
        "    def __init__(self, in_channels, out_channels):\n",
        "        super(OutConv, self).__init__()\n",
        "        self.conv = Conv2d(in_channels, out_channels, kernel_size=1)\n",
        "\n",
        "    def forward(self, x):\n",
        "        return self.conv(x)"
      ],
      "metadata": {
        "id": "CC39DiUtMaxj"
      },
      "execution_count": null,
      "outputs": []
    },
    {
      "cell_type": "markdown",
      "source": [
        "### Building the U-NET model\n",
        "\n",
        "I finally build this U-NET model"
      ],
      "metadata": {
        "id": "b9LsACoaMh4A"
      }
    },
    {
      "cell_type": "code",
      "source": [
        "class UNET(Module):\n",
        "  def __init__(self, n_channels, n_classes,bilinear = False) -> None:\n",
        "    super().__init__()\n",
        "\n",
        "    self.n_channels = n_channels\n",
        "    self.n_classes = n_classes\n",
        "    self.bilinear = bilinear\n",
        "\n",
        "    self.inc = DoubleConv(n_channels, 64)\n",
        "    self.down1 = Down(64, 128)\n",
        "    self.down2 = Down(128, 256)\n",
        "    self.down3 = Down(256, 512)\n",
        "    factor = 2 if bilinear else 1\n",
        "    self.down4 = Down(512, 1024 // factor)\n",
        "    self.up1 = Up(1024, 512 // factor, bilinear)\n",
        "    self.up2 = Up(512, 256 // factor, bilinear)\n",
        "    self.up3 = Up(256, 128 // factor, bilinear)\n",
        "    self.up4 = Up(128, 64, bilinear)\n",
        "    self.outc = OutConv(64, n_classes)\n",
        "    self.sig = Sigmoid()\n",
        "\n",
        "  def forward(self, x):\n",
        "    x1 = self.inc(x)\n",
        "    x2 = self.down1(x1)\n",
        "    x3 = self.down2(x2)\n",
        "    x4 = self.down3(x3)\n",
        "    x5 = self.down4(x4)\n",
        "    x = self.up1(x5, x4)\n",
        "    x = self.up2(x, x3)\n",
        "    x = self.up3(x, x2)\n",
        "    x = self.up4(x, x1)\n",
        "    logits = self.outc(x)\n",
        "    \n",
        "    return self.sig(logits)\n",
        "\n"
      ],
      "metadata": {
        "id": "bewT_UyNolDe"
      },
      "execution_count": null,
      "outputs": []
    },
    {
      "cell_type": "markdown",
      "source": [
        "# Train"
      ],
      "metadata": {
        "id": "CAk41sxetoYX"
      }
    },
    {
      "cell_type": "markdown",
      "source": [
        "### hyperparameters"
      ],
      "metadata": {
        "id": "BMlrRIvrtsVH"
      }
    },
    {
      "cell_type": "code",
      "source": [
        "\n",
        "model = UNET(3,1).to(\"cuda\")\n",
        "lr = 1e-3\n",
        "optimizer = SGD(model.parameters(),lr=lr)\n",
        "criterion = CrossEntropyLoss()\n",
        "criterion = criterion.to(\"cuda\")"
      ],
      "metadata": {
        "id": "0EUTmDuhtvtX"
      },
      "execution_count": null,
      "outputs": []
    },
    {
      "cell_type": "markdown",
      "source": [
        "### Visualization setup\n"
      ],
      "metadata": {
        "id": "q7uFX7IqcKiD"
      }
    },
    {
      "cell_type": "code",
      "source": [
        "!pip3 install wandb\n",
        "import wandb\n",
        "\n",
        "wandb.login()"
      ],
      "metadata": {
        "id": "jBI2r1_zcPNo"
      },
      "execution_count": null,
      "outputs": []
    },
    {
      "cell_type": "code",
      "source": [
        "epochs = 10\n",
        "wandb.init(\n",
        "      # Set the project where this run will be logged\n",
        "      project=\"simplest_IA\", \n",
        "      # We pass a run name (otherwise it’ll be randomly assigned, like sunshine-lollypop-10)\n",
        "      name=f\"experiment_with_valid_2000_ep\", \n",
        "      # Track hyperparameters and run metadata\n",
        "      config={\n",
        "      \"learning_rate\": lr,\n",
        "      \"architecture\": \"U-NET\",\n",
        "      \"dataset\": \"Blender_Dataset\",\n",
        "      \"dataset_size\" : 10000,\n",
        "      \"loss\" : \"CrossEntropyLoss\",\n",
        "      \"epochs\": epochs,\n",
        "      \"batch_size\": batch_size,\n",
        "\n",
        "      })"
      ],
      "metadata": {
        "id": "XsnwOPDuc6LU"
      },
      "execution_count": null,
      "outputs": []
    },
    {
      "cell_type": "markdown",
      "source": [
        "### Train loop"
      ],
      "metadata": {
        "id": "TIVpstV60VN3"
      }
    },
    {
      "cell_type": "code",
      "source": [
        "def step(model: Module, optim: torch.optim.Optimizer, criterion, loader: DataLoader, device: str = \"cuda:0\", train: bool = True) -> tuple[float, float] | float:\n",
        "\n",
        "\n",
        "  avg_loss, avg_acc = 0.0, 0.0\n",
        "  for sample in loader:\n",
        "      \n",
        "      x, target = sample[\"image\"].to(device), sample[\"target\"].to(device)\n",
        "\n",
        "\n",
        "      y_: torch.Tensor = model(x)\n",
        "\n",
        "      y_ = torch.squeeze(y_,dim=1)\n",
        "      loss = criterion(y_,target)\n",
        "\n",
        "      \n",
        "      # acc = (y_.argmax(dim=-1) == target).sum()\n",
        "      if train:\n",
        "          optim.zero_grad(set_to_none=None)\n",
        "          loss.backward()\n",
        "          optim.step()\n",
        "      avg_loss += loss.item() / len(loader)\n",
        "      # avg_acc  += acc.item()  / len(loader.dataset)\n",
        "\n",
        "  return avg_loss\n",
        "\n",
        "      \n"
      ],
      "metadata": {
        "id": "7V9vt0rBtqDV"
      },
      "execution_count": null,
      "outputs": []
    },
    {
      "cell_type": "code",
      "source": [
        "from tqdm import tqdm\n",
        "def train(\n",
        "    model: Module,\n",
        "    optim: torch.optim.Optimizer,\n",
        "    criterion,\n",
        "    train_loader: DataLoader,\n",
        "    test_loader : DataLoader,\n",
        "    device: str = \"cuda:0\",\n",
        "    train: bool = True,\n",
        "    epochs : int = 10\n",
        "    ) -> None:\n",
        "  best_loss = np.inf\n",
        "  for _ in tqdm(range(epochs)):\n",
        "\n",
        "    # Train\n",
        "    loss = step(model, optim, criterion, train_loader, train=True)\n",
        "    wandb.log({\"train_loss\" : loss})\n",
        "\n",
        "    # test\n",
        "    loss = step(model,optim,criterion,test_loader,train = False)\n",
        "    wandb.log({\"test_loss\" : loss})\n",
        "    if loss < best_loss:\n",
        "      best_loss = loss\n",
        "      torch.save(model.state_dict(),\"/content/drive/MyDrive/Createch/Pool_Project/weigths/best.txt\")"
      ],
      "metadata": {
        "id": "0rUm_zz-64OK"
      },
      "execution_count": null,
      "outputs": []
    },
    {
      "cell_type": "markdown",
      "source": [
        "### Valid loop"
      ],
      "metadata": {
        "id": "joiAYON0-Wr5"
      }
    },
    {
      "cell_type": "code",
      "source": [
        "def verif_close(coords : np.ndarray, x,y) -> bool:\n",
        "  eps = 2\n",
        "  for i in range(len(coords[0])):\n",
        "    if coords[0][i] == x:\n",
        "      return True if coords[1][i] - eps <= y and coords[1][i] + eps >= y else False\n",
        "    \n",
        "    if coords[1][i] == x:\n",
        "      return True if coords[0][i] - eps <= y and coords[0][i] + eps >= y else False\n"
      ],
      "metadata": {
        "id": "neWfArwnEnCL"
      },
      "execution_count": null,
      "outputs": []
    },
    {
      "cell_type": "code",
      "source": [
        "\n",
        "def get_center(input : torch.Tensor, kernel_size : int = 4) -> torch :\n",
        "  width = input.size()[2]\n",
        "  height = input.size()[1]\n",
        "  ret = torch.zeros(1,height,width,dtype=torch.float32)\n",
        "  for y  in range(height):\n",
        "    for x in range(width):\n",
        "      temp_value = input[0,y,x]\n",
        "      if temp_value !=0 :\n",
        "        min_x= 0 if x-kernel_size < 0 else x -kernel_size\n",
        "        min_y= 0 if y-kernel_size < 0 else y -kernel_size\n",
        "        max_x = width-1 if x+kernel_size> width else x+kernel_size \n",
        "        max_y = height-1 if y+kernel_size> height else y+kernel_size \n",
        "        local_max = temp_value\n",
        "        # modif = False\n",
        "        for j in range(min_y,max_y):\n",
        "          for i in range(min_x,max_x):\n",
        "            if input[0,j,i] > local_max and i > 2:\n",
        "              local_max = input[0,j,i]\n",
        "              modif = True\n",
        "\n",
        "        ret[0,y,x] = 1 if temp_value == local_max and x >2 and x< width -3 else 0.0\n",
        "  return ret\n",
        "            "
      ],
      "metadata": {
        "id": "uG_ZDWG3QBve"
      },
      "execution_count": null,
      "outputs": []
    },
    {
      "cell_type": "code",
      "source": [
        "model = UNET(3,1)\n",
        "model.load_state_dict(torch.load(\"/content/drive/MyDrive/Createch/Pool_Project/weigths/best_2000_epochs.txt\", map_location = torch.device('cpu')))\n",
        "model.eval()\n",
        "#model.cuda() ####TO CHANGE IF I HAVE COLAB CREDITS\n",
        "print()"
      ],
      "metadata": {
        "colab": {
          "base_uri": "https://localhost:8080/"
        },
        "outputId": "98ac8a8d-c89d-4a8a-e975-f866e952ce6a",
        "id": "967-9yFSo2Fr"
      },
      "execution_count": null,
      "outputs": [
        {
          "output_type": "stream",
          "name": "stdout",
          "text": [
            "\n"
          ]
        }
      ]
    },
    {
      "cell_type": "code",
      "source": [
        "sample = None\n",
        "for i, batch in enumerate(test_dataloader):\n",
        "  if i == 0:\n",
        "    sample = batch\n",
        "    break\n",
        "print(type(sample))\n",
        "transform = ToTen()\n",
        "# sample = transform(sample)\n",
        "image_sample , target= sample[\"image\"].to('cpu'), sample[\"target\"][0]\n",
        "output = model(image_sample)\n",
        "# output = None\n",
        "# \n",
        "# for sample in test_dataloader:\n",
        "  # with torch.inference_mode() :\n",
        "    # x, target = sample[\"image\"].to(\"cuda\"), sample[\"target\"]\n",
        "    # break\n",
        "# output"
      ],
      "metadata": {
        "colab": {
          "base_uri": "https://localhost:8080/"
        },
        "id": "r0ZYF8HLsBcs",
        "outputId": "489ef992-972f-43ad-a685-c4903bcf86bf"
      },
      "execution_count": null,
      "outputs": [
        {
          "output_type": "stream",
          "name": "stdout",
          "text": [
            "<class 'dict'>\n"
          ]
        }
      ]
    },
    {
      "cell_type": "code",
      "source": [
        "# image_sample\n",
        "output.max()\n",
        "thresh = torch.nn.Threshold(0.9,0,inplace = False)\n",
        "logic = thresh(output[0])\n",
        "logic\n",
        "# torch.max(output)"
      ],
      "metadata": {
        "colab": {
          "base_uri": "https://localhost:8080/"
        },
        "id": "RvBxxaFtsPyO",
        "outputId": "4b03020e-b991-4fa4-e499-1afadf7f37aa"
      },
      "execution_count": null,
      "outputs": [
        {
          "output_type": "execute_result",
          "data": {
            "text/plain": [
              "tensor([[[0.0000, 0.0000, 0.0000,  ..., 0.0000, 0.0000, 0.0000],\n",
              "         [0.0000, 0.0000, 0.0000,  ..., 0.0000, 0.0000, 0.0000],\n",
              "         [0.0000, 0.0000, 0.0000,  ..., 0.0000, 0.0000, 0.0000],\n",
              "         ...,\n",
              "         [0.9777, 0.9646, 0.0000,  ..., 0.0000, 0.0000, 0.0000],\n",
              "         [0.0000, 0.9195, 0.0000,  ..., 0.0000, 0.0000, 0.0000],\n",
              "         [0.0000, 0.0000, 0.0000,  ..., 0.0000, 0.0000, 0.0000]]],\n",
              "       grad_fn=<ThresholdBackward0>)"
            ]
          },
          "metadata": {},
          "execution_count": 21
        }
      ]
    },
    {
      "cell_type": "code",
      "source": [
        "hope_centered = get_center(logic)"
      ],
      "metadata": {
        "id": "dQNQxtyVYG-o"
      },
      "execution_count": null,
      "outputs": []
    },
    {
      "cell_type": "code",
      "source": [
        "hope_centered = torch.squeeze(hope_centered, dim = 0)\n",
        "hope_centered.size()"
      ],
      "metadata": {
        "colab": {
          "base_uri": "https://localhost:8080/"
        },
        "id": "L67fbwRB05i3",
        "outputId": "633bbdd0-257e-4033-95b0-3c84c12a8c88"
      },
      "execution_count": null,
      "outputs": [
        {
          "output_type": "execute_result",
          "data": {
            "text/plain": [
              "torch.Size([64, 128])"
            ]
          },
          "metadata": {},
          "execution_count": 23
        }
      ]
    },
    {
      "cell_type": "code",
      "source": [
        "def extract_coords(input : torch.Tensor)-> np.darray:\n",
        "  coords = [[],[]]\n",
        "  width = input.size()[1]\n",
        "  height = input.size()[0]\n",
        "  for y in range(height):\n",
        "    for x in range(width):\n",
        "      if input[y,x] == 1 and not verif_close(coords,x,y):\n",
        "        coords[0].append(x)\n",
        "        coords[1].append(y)\n",
        "  return np.array(coords)"
      ],
      "metadata": {
        "id": "TLh0W7CIyhYf"
      },
      "execution_count": null,
      "outputs": []
    },
    {
      "cell_type": "code",
      "source": [
        "predict_coords = extract_coords(hope_centered)\n",
        "print(f\"Model output coords (x y) : \\n{predict_coords}\")\n",
        "# print(target.size())\n",
        "target_coords = extract_coords(target)\n",
        "print(f\"Target coords (x y) : \\n{target_coords}\")"
      ],
      "metadata": {
        "colab": {
          "base_uri": "https://localhost:8080/"
        },
        "id": "vh-hT2zsziJE",
        "outputId": "d7fadf18-2703-4b1b-ee2c-d2c15d92b3d2"
      },
      "execution_count": null,
      "outputs": [
        {
          "output_type": "stream",
          "name": "stdout",
          "text": [
            "Model output coords (x y) : \n",
            "[[  5 119  47  52  61  15 111]\n",
            " [  8  15  28  36  54  56  58]]\n",
            "Target coords (x y) : \n",
            "[[  3 121  46  51  61  14 112]\n",
            " [  8  15  29  36  54  56  59]]\n"
          ]
        }
      ]
    },
    {
      "cell_type": "code",
      "source": [
        "# from pyparsing.helpers import Any\n",
        "# from scipy.spatial import KDTree\n",
        "\n",
        "def mean_euclidian_distance(target_coords : np.ndarray, predict_coords : np.ndarray) -> np.ndarray :\n",
        "  dist = []\n",
        "  for x,y in zip(target_coords[0],target_coords[1]):\n",
        "    dist_min = (np.sqrt(np.power(x-predict_coords[0],2) + np.power(y-predict_coords[1],2))).min()\n",
        "    dist.append(dist_min)\n",
        "  return (np.array(dist)).mean()"
      ],
      "metadata": {
        "id": "O1eKCfSIYAAV"
      },
      "execution_count": null,
      "outputs": []
    },
    {
      "cell_type": "code",
      "source": [
        "dist = mean_euclidian_distance(target_coords,predict_coords)\n",
        "dist"
      ],
      "metadata": {
        "colab": {
          "base_uri": "https://localhost:8080/"
        },
        "id": "SOsn0EXNaEoa",
        "outputId": "f180da50-c52f-4f34-c9e7-ba4d596005c9"
      },
      "execution_count": null,
      "outputs": [
        {
          "output_type": "execute_result",
          "data": {
            "text/plain": [
              "1.2612038749637413"
            ]
          },
          "metadata": {},
          "execution_count": 27
        }
      ]
    },
    {
      "cell_type": "code",
      "source": [
        "def valid(model : Module, loader : DataLoader, device: str = \"cuda:0\", nb_batch : int = 1, display : bool = False) -> None :\n",
        "  mean_dist = 0.0\n",
        "  nb_false_positive = 0.0\n",
        "  nb_true_negative = 0.0\n",
        "  nb = nb_batch * \n",
        "\n",
        "  y_ = None\n",
        "  avg_loss, avg_acc = 0.0, 0.0\n",
        "  start = time.time()\n",
        "  for sample in loader:\n",
        "    with torch.inference_mode() :\n",
        "\n",
        "      x, target = sample[\"image\"].to(device), sample[\"target\"]\n",
        "      y_: torch.Tensor = model(x)\n",
        "\n",
        "      for _ in range(batch_size * nb_batch) :\n",
        "        ind = random.randint(0,batch_size-1)\n",
        "        # print(y_.size())\n",
        "        # print(\"0 : \",y_[0].size())\n",
        "        # print(\"1 : \",y_[1].size())\n",
        "        # print(\"2 : \",y_[2].size())\n",
        "        # print(\"3 : \",y_[3].size())\n",
        "        thresh_function = torch.nn.Threshold(0.9,0,inplace = False)\n",
        "        output_threshed = thresh_function(y_[ind])\n",
        "        # print(output_threshed.size())\n",
        "        output_centered = get_center(output_threshed)\n",
        "        output_centered = torch.squeeze(output_centered,dim = 0)\n",
        "        output_extracted, target_extracted= extract_coords(target[ind]),extract_coords(output_centered) \n",
        "        nb_false_positive += len(output_extracted) - len(target_extracted) if len(output_extracted) - len(target_extracted) >= 0 else  0.0\n",
        "        nb_true_negative += -len(output_extracted) + len(target_extracted) if -len(output_extracted) + len(target_extracted) < 0 else  0.0\n",
        "\n",
        "        dist = mean_euclidian_distance(output_extracted, target_extracted)\n",
        "        mean_dist += dist\n",
        "        print(f\"distance : {dist:.2e} Sw for one inference : {time.time() - start}\")\n",
        "        if display : \n",
        "          output_displayed = torch.squeeze(y_[ind],dim=1)\n",
        "          f, axarr = plt.subplots(2,2)\n",
        "          axarr[0,0].imshow(to_pil(output_displayed))\n",
        "          axarr[0,0].title.set_text(\"Raw output\")\n",
        "\n",
        "          axarr[0,1].imshow(to_pil(output_threshed))\n",
        "          axarr[0,1].title.set_text(\"Threshed output\")\n",
        "\n",
        "          axarr[1,0].imshow(to_pil(output_centered))\n",
        "          axarr[1,0].title.set_text(\"Local maximum output\")\n",
        "\n",
        "          axarr[1,1].imshow(to_pil(target))\n",
        "          axarr[1,1].title.set_text(\"Target\")\n",
        "      mean_dist /= nb_batch\n",
        "      nb_false_positive /= nb\n",
        "      nb_true_negative /= nb\n",
        "      print(f\"Mean distance of the valid ({nb} runs) : {mean_dist:.2e}\")\n",
        "      print(f\"Number of false positive {nb_false_positive:.2e} | Number of true negative {nb_true_negative:.2e}\")\n",
        "\n",
        "\n",
        "      break\n"
      ],
      "metadata": {
        "id": "I9Mn_MFR-WfZ"
      },
      "execution_count": null,
      "outputs": []
    },
    {
      "cell_type": "code",
      "source": [
        "valid(model,test_dataloader, device = \"cpu\",nb= 100,display = False)"
      ],
      "metadata": {
        "id": "2WYBd7E7y86v",
        "colab": {
          "base_uri": "https://localhost:8080/"
        },
        "outputId": "90d27a99-3409-4829-a86d-39002eeac363"
      },
      "execution_count": null,
      "outputs": [
        {
          "output_type": "stream",
          "name": "stdout",
          "text": [
            "distance : 1.05e+00 Sw for one inference : 42.456997871398926\n",
            "distance : 1.40e+00 Sw for one inference : 42.80746841430664\n",
            "distance : 1.41e+00 Sw for one inference : 43.07988786697388\n",
            "distance : 1.42e+00 Sw for one inference : 43.39807152748108\n",
            "distance : 1.09e+00 Sw for one inference : 43.69017267227173\n",
            "distance : 1.33e+00 Sw for one inference : 44.05208873748779\n",
            "distance : 3.90e+00 Sw for one inference : 44.37248182296753\n",
            "distance : 1.75e+01 Sw for one inference : 44.61732602119446\n",
            "distance : 4.58e+00 Sw for one inference : 44.966939210891724\n",
            "distance : 2.99e+00 Sw for one inference : 45.23588585853577\n",
            "distance : 1.02e+01 Sw for one inference : 45.549484968185425\n",
            "distance : 1.07e+00 Sw for one inference : 45.865073680877686\n",
            "distance : 9.83e-01 Sw for one inference : 46.16902780532837\n",
            "distance : 1.74e+00 Sw for one inference : 46.4299156665802\n",
            "distance : 3.90e+00 Sw for one inference : 46.75082492828369\n",
            "distance : 1.17e+00 Sw for one inference : 47.10682964324951\n",
            "distance : 6.67e-01 Sw for one inference : 47.38694882392883\n",
            "distance : 3.41e+00 Sw for one inference : 47.67013955116272\n",
            "distance : 2.50e-01 Sw for one inference : 47.978190898895264\n",
            "distance : 3.90e+00 Sw for one inference : 48.29352378845215\n",
            "distance : 2.18e+01 Sw for one inference : 48.529381275177\n",
            "distance : 9.35e-01 Sw for one inference : 48.842522382736206\n",
            "distance : 8.65e-01 Sw for one inference : 49.17894983291626\n",
            "distance : 7.85e-01 Sw for one inference : 49.517308712005615\n",
            "distance : 2.22e+01 Sw for one inference : 49.74783897399902\n",
            "distance : 1.23e+00 Sw for one inference : 50.04165983200073\n",
            "distance : 1.44e+00 Sw for one inference : 50.35097002983093\n",
            "distance : 9.51e-01 Sw for one inference : 50.705647230148315\n",
            "distance : 1.31e+00 Sw for one inference : 50.97842836380005\n",
            "distance : 2.67e+01 Sw for one inference : 51.2491352558136\n",
            "distance : 1.82e+00 Sw for one inference : 51.575783491134644\n",
            "distance : 8.83e-01 Sw for one inference : 51.93723487854004\n",
            "distance : 9.12e+00 Sw for one inference : 52.2045955657959\n",
            "distance : 6.04e-01 Sw for one inference : 52.49360108375549\n",
            "distance : 6.31e-01 Sw for one inference : 52.76638865470886\n",
            "distance : 1.33e+00 Sw for one inference : 53.08544182777405\n",
            "distance : 1.13e+00 Sw for one inference : 53.39692044258118\n",
            "distance : 1.19e+00 Sw for one inference : 53.750436305999756\n",
            "distance : 1.34e+00 Sw for one inference : 54.066831827163696\n",
            "distance : 8.76e+00 Sw for one inference : 54.35819411277771\n",
            "distance : 6.83e-01 Sw for one inference : 54.631115674972534\n",
            "distance : 1.26e+00 Sw for one inference : 54.943220138549805\n",
            "distance : 6.01e-01 Sw for one inference : 55.30940389633179\n",
            "distance : 7.85e-01 Sw for one inference : 55.64409899711609\n",
            "distance : 1.61e+00 Sw for one inference : 55.954221963882446\n",
            "distance : 1.07e+00 Sw for one inference : 56.27100229263306\n",
            "distance : 1.88e+00 Sw for one inference : 56.540486097335815\n",
            "distance : 1.82e+00 Sw for one inference : 56.8693950176239\n",
            "distance : 1.35e+01 Sw for one inference : 57.169827461242676\n",
            "distance : 1.05e+00 Sw for one inference : 57.48425579071045\n",
            "distance : 6.23e+00 Sw for one inference : 58.26674175262451\n",
            "distance : 4.84e+00 Sw for one inference : 58.58203649520874\n",
            "distance : 8.24e-01 Sw for one inference : 59.327028036117554\n",
            "distance : 1.35e+00 Sw for one inference : 59.6649808883667\n",
            "distance : 1.23e+00 Sw for one inference : 59.971678733825684\n",
            "distance : 1.05e+00 Sw for one inference : 60.2926287651062\n",
            "distance : 1.14e+00 Sw for one inference : 60.54199552536011\n",
            "distance : 1.13e+00 Sw for one inference : 60.84688949584961\n",
            "distance : 1.26e+00 Sw for one inference : 61.15814280509949\n",
            "distance : 4.64e+00 Sw for one inference : 61.42717623710632\n",
            "distance : 6.00e-01 Sw for one inference : 61.72969722747803\n",
            "distance : 6.46e+00 Sw for one inference : 62.114728689193726\n",
            "distance : 1.42e+00 Sw for one inference : 62.43673253059387\n",
            "distance : 1.70e+00 Sw for one inference : 62.71941828727722\n",
            "distance : 6.00e-01 Sw for one inference : 63.02317190170288\n",
            "distance : 1.44e+00 Sw for one inference : 63.32814574241638\n",
            "distance : 9.35e-01 Sw for one inference : 63.637487173080444\n",
            "distance : 8.96e-01 Sw for one inference : 63.96066641807556\n",
            "distance : 1.12e+01 Sw for one inference : 64.21099281311035\n",
            "distance : 8.96e-01 Sw for one inference : 64.5354654788971\n",
            "distance : 6.01e-01 Sw for one inference : 64.89447069168091\n",
            "distance : 6.40e+01 Sw for one inference : 65.17445087432861\n",
            "distance : 4.17e+00 Sw for one inference : 65.45181202888489\n",
            "distance : 9.27e-01 Sw for one inference : 65.74435353279114\n",
            "distance : 1.27e+00 Sw for one inference : 66.14759564399719\n",
            "distance : 8.57e-01 Sw for one inference : 66.42992234230042\n",
            "distance : 2.22e-01 Sw for one inference : 66.72901439666748\n",
            "distance : 9.83e-01 Sw for one inference : 67.03469109535217\n",
            "distance : 8.57e-01 Sw for one inference : 67.3165135383606\n",
            "distance : 1.51e+01 Sw for one inference : 67.61146140098572\n",
            "distance : 6.00e-01 Sw for one inference : 67.90834546089172\n",
            "distance : 1.07e+00 Sw for one inference : 68.2145631313324\n",
            "distance : 1.26e+00 Sw for one inference : 68.53930687904358\n",
            "distance : 6.46e+00 Sw for one inference : 68.80491852760315\n",
            "distance : 1.23e+00 Sw for one inference : 69.10087156295776\n",
            "distance : 8.57e-01 Sw for one inference : 69.38866686820984\n",
            "distance : 1.23e+01 Sw for one inference : 69.64813089370728\n",
            "distance : 1.34e+00 Sw for one inference : 69.93427467346191\n",
            "distance : 1.41e+00 Sw for one inference : 70.21731638908386\n",
            "distance : 1.05e+00 Sw for one inference : 70.53032946586609\n",
            "distance : 8.65e-01 Sw for one inference : 70.85158109664917\n",
            "distance : 1.17e+00 Sw for one inference : 71.20491576194763\n",
            "distance : 1.54e+01 Sw for one inference : 71.47686266899109\n",
            "distance : 1.12e+01 Sw for one inference : 71.73178601264954\n",
            "distance : 4.27e-01 Sw for one inference : 72.0689160823822\n",
            "distance : 1.13e+00 Sw for one inference : 72.36935114860535\n",
            "distance : 4.27e-01 Sw for one inference : 72.70399880409241\n",
            "distance : 1.33e+00 Sw for one inference : 73.01721143722534\n",
            "distance : 7.07e-01 Sw for one inference : 73.26661276817322\n",
            "distance : 7.07e-01 Sw for one inference : 73.51639461517334\n",
            "Mean distance of the valid (100 runs) : 3.93e+00\n",
            "Number of false positive 0.00e+00 | Number of true negative 0.00e+00\n"
          ]
        }
      ]
    },
    {
      "cell_type": "markdown",
      "source": [
        "# Inference"
      ],
      "metadata": {
        "id": "hQLCIIgc0cq3"
      }
    },
    {
      "cell_type": "code",
      "source": [
        "# train(model,optim = optimizer,criterion = criterion,train_loader = train_dataloader, test_loader = test_dataloader, epochs=epochs)\n"
      ],
      "metadata": {
        "id": "qSfUBqS10eK1"
      },
      "execution_count": null,
      "outputs": []
    },
    {
      "cell_type": "code",
      "source": [
        "model = UNET(3,1)\n",
        "model.load_state_dict(torch.load(\"/content/drive/MyDrive/Createch/Pool_Project/weigths/best_2000_epochs.txt\", map_location = torch.device('cpu')))\n",
        "model.eval()\n",
        "#model.cuda() ####TO CHANGE IF I HAVE COLAB CREDITS\n",
        "print()"
      ],
      "metadata": {
        "colab": {
          "base_uri": "https://localhost:8080/"
        },
        "id": "i5gIlElbBsmX",
        "outputId": "4700eab6-5af9-4e4e-f504-888254f094c4"
      },
      "execution_count": null,
      "outputs": [
        {
          "output_type": "stream",
          "name": "stdout",
          "text": [
            "\n"
          ]
        }
      ]
    },
    {
      "cell_type": "code",
      "source": [
        "# summary(model,(128,64))\n",
        "summary(model,(3,64,128),batch_size=batch_size)"
      ],
      "metadata": {
        "colab": {
          "base_uri": "https://localhost:8080/"
        },
        "id": "beLGYxxEjQHB",
        "outputId": "e4adbfa4-76e1-48f0-97c1-625715a30d41"
      },
      "execution_count": null,
      "outputs": [
        {
          "output_type": "stream",
          "name": "stdout",
          "text": [
            "----------------------------------------------------------------\n",
            "        Layer (type)               Output Shape         Param #\n",
            "================================================================\n",
            "            Conv2d-1         [128, 64, 64, 128]           1,728\n",
            "       BatchNorm2d-2         [128, 64, 64, 128]             128\n",
            "              ReLU-3         [128, 64, 64, 128]               0\n",
            "            Conv2d-4         [128, 64, 64, 128]          36,864\n",
            "       BatchNorm2d-5         [128, 64, 64, 128]             128\n",
            "              ReLU-6         [128, 64, 64, 128]               0\n",
            "        DoubleConv-7         [128, 64, 64, 128]               0\n",
            "         MaxPool2d-8          [128, 64, 32, 64]               0\n",
            "            Conv2d-9         [128, 128, 32, 64]          73,728\n",
            "      BatchNorm2d-10         [128, 128, 32, 64]             256\n",
            "             ReLU-11         [128, 128, 32, 64]               0\n",
            "           Conv2d-12         [128, 128, 32, 64]         147,456\n",
            "      BatchNorm2d-13         [128, 128, 32, 64]             256\n",
            "             ReLU-14         [128, 128, 32, 64]               0\n",
            "       DoubleConv-15         [128, 128, 32, 64]               0\n",
            "             Down-16         [128, 128, 32, 64]               0\n",
            "        MaxPool2d-17         [128, 128, 16, 32]               0\n",
            "           Conv2d-18         [128, 256, 16, 32]         294,912\n",
            "      BatchNorm2d-19         [128, 256, 16, 32]             512\n",
            "             ReLU-20         [128, 256, 16, 32]               0\n",
            "           Conv2d-21         [128, 256, 16, 32]         589,824\n",
            "      BatchNorm2d-22         [128, 256, 16, 32]             512\n",
            "             ReLU-23         [128, 256, 16, 32]               0\n",
            "       DoubleConv-24         [128, 256, 16, 32]               0\n",
            "             Down-25         [128, 256, 16, 32]               0\n",
            "        MaxPool2d-26          [128, 256, 8, 16]               0\n",
            "           Conv2d-27          [128, 512, 8, 16]       1,179,648\n",
            "      BatchNorm2d-28          [128, 512, 8, 16]           1,024\n",
            "             ReLU-29          [128, 512, 8, 16]               0\n",
            "           Conv2d-30          [128, 512, 8, 16]       2,359,296\n",
            "      BatchNorm2d-31          [128, 512, 8, 16]           1,024\n",
            "             ReLU-32          [128, 512, 8, 16]               0\n",
            "       DoubleConv-33          [128, 512, 8, 16]               0\n",
            "             Down-34          [128, 512, 8, 16]               0\n",
            "        MaxPool2d-35           [128, 512, 4, 8]               0\n",
            "           Conv2d-36          [128, 1024, 4, 8]       4,718,592\n",
            "      BatchNorm2d-37          [128, 1024, 4, 8]           2,048\n",
            "             ReLU-38          [128, 1024, 4, 8]               0\n",
            "           Conv2d-39          [128, 1024, 4, 8]       9,437,184\n",
            "      BatchNorm2d-40          [128, 1024, 4, 8]           2,048\n",
            "             ReLU-41          [128, 1024, 4, 8]               0\n",
            "       DoubleConv-42          [128, 1024, 4, 8]               0\n",
            "             Down-43          [128, 1024, 4, 8]               0\n",
            "  ConvTranspose2d-44          [128, 512, 8, 16]       2,097,664\n",
            "           Conv2d-45          [128, 512, 8, 16]       4,718,592\n",
            "      BatchNorm2d-46          [128, 512, 8, 16]           1,024\n",
            "             ReLU-47          [128, 512, 8, 16]               0\n",
            "           Conv2d-48          [128, 512, 8, 16]       2,359,296\n",
            "      BatchNorm2d-49          [128, 512, 8, 16]           1,024\n",
            "             ReLU-50          [128, 512, 8, 16]               0\n",
            "       DoubleConv-51          [128, 512, 8, 16]               0\n",
            "               Up-52          [128, 512, 8, 16]               0\n",
            "  ConvTranspose2d-53         [128, 256, 16, 32]         524,544\n",
            "           Conv2d-54         [128, 256, 16, 32]       1,179,648\n",
            "      BatchNorm2d-55         [128, 256, 16, 32]             512\n",
            "             ReLU-56         [128, 256, 16, 32]               0\n",
            "           Conv2d-57         [128, 256, 16, 32]         589,824\n",
            "      BatchNorm2d-58         [128, 256, 16, 32]             512\n",
            "             ReLU-59         [128, 256, 16, 32]               0\n",
            "       DoubleConv-60         [128, 256, 16, 32]               0\n",
            "               Up-61         [128, 256, 16, 32]               0\n",
            "  ConvTranspose2d-62         [128, 128, 32, 64]         131,200\n",
            "           Conv2d-63         [128, 128, 32, 64]         294,912\n",
            "      BatchNorm2d-64         [128, 128, 32, 64]             256\n",
            "             ReLU-65         [128, 128, 32, 64]               0\n",
            "           Conv2d-66         [128, 128, 32, 64]         147,456\n",
            "      BatchNorm2d-67         [128, 128, 32, 64]             256\n",
            "             ReLU-68         [128, 128, 32, 64]               0\n",
            "       DoubleConv-69         [128, 128, 32, 64]               0\n",
            "               Up-70         [128, 128, 32, 64]               0\n",
            "  ConvTranspose2d-71         [128, 64, 64, 128]          32,832\n",
            "           Conv2d-72         [128, 64, 64, 128]          73,728\n",
            "      BatchNorm2d-73         [128, 64, 64, 128]             128\n",
            "             ReLU-74         [128, 64, 64, 128]               0\n",
            "           Conv2d-75         [128, 64, 64, 128]          36,864\n",
            "      BatchNorm2d-76         [128, 64, 64, 128]             128\n",
            "             ReLU-77         [128, 64, 64, 128]               0\n",
            "       DoubleConv-78         [128, 64, 64, 128]               0\n",
            "               Up-79         [128, 64, 64, 128]               0\n",
            "           Conv2d-80          [128, 1, 64, 128]              65\n",
            "          OutConv-81          [128, 1, 64, 128]               0\n",
            "          Sigmoid-82          [128, 1, 64, 128]               0\n",
            "================================================================\n",
            "Total params: 31,037,633\n",
            "Trainable params: 31,037,633\n",
            "Non-trainable params: 0\n",
            "----------------------------------------------------------------\n",
            "Input size (MB): 12.00\n",
            "Forward/backward pass size (MB): 16328.00\n",
            "Params size (MB): 118.40\n",
            "Estimated Total Size (MB): 16458.40\n",
            "----------------------------------------------------------------\n"
          ]
        }
      ]
    },
    {
      "cell_type": "code",
      "source": [
        "f, axarr = plt.subplots(2,2)\n",
        "\n",
        "to_pil = T.ToPILImage()\n",
        "print(logic.size())\n",
        "\n",
        "# print(logic.size())\n",
        "\n",
        "axarr[0,0].imshow(to_pil(output[0]))\n",
        "axarr[0,0].title.set_text(\"1\")\n",
        "\n",
        "axarr[0,1].imshow(to_pil(logic))\n",
        "axarr[0,1].title.set_text(\"2\")\n",
        "\n",
        "axarr[1,0].imshow(to_pil(hope_centered))\n",
        "axarr[1,0].title.set_text(\"3\")\n",
        "\n",
        "axarr[1,1].imshow(to_pil(target))\n",
        "axarr[1,1].title.set_text(\"4\")\n"
      ],
      "metadata": {
        "colab": {
          "base_uri": "https://localhost:8080/",
          "height": 276
        },
        "id": "MfTeyvXL8NOi",
        "outputId": "06a86c0f-13fb-4225-db23-009fb41177b9"
      },
      "execution_count": null,
      "outputs": [
        {
          "output_type": "stream",
          "name": "stdout",
          "text": [
            "torch.Size([1, 64, 128])\n"
          ]
        },
        {
          "output_type": "display_data",
          "data": {
            "text/plain": [
              "<Figure size 432x288 with 4 Axes>"
            ],
            "image/png": "[encoded data removed]"
          },
          "metadata": {
            "needs_background": "light"
          }
        }
      ]
    },
    {
      "cell_type": "code",
      "source": [],
      "metadata": {
        "id": "yHDBnqCVyVJp"
      },
      "execution_count": null,
      "outputs": []
    }
  ]
}