{
  "cells": [
    {
      "cell_type": "code",
      "execution_count": 1,
      "metadata": {
        "id": "kFF9NvvZapx9"
      },
      "outputs": [],
      "source": [
        "from __future__ import annotations\n",
        "\n",
        "from matplotlib import pyplot as plt, cm\n",
        "from PIL import Image, ImageOps\n",
        "from scipy.ndimage import gaussian_filter\n",
        "from torch.optim import SGD\n",
        "from torch.nn import BatchNorm2d,Conv2d,MSELoss, Linear, MaxPool2d, Module, Sequential, ReLU , ConvTranspose2d, Upsample, CrossEntropyLoss, Sigmoid\n",
        "from torch.utils.data import DataLoader, Dataset\n",
        "from torchsummary import summary\n",
        "from tqdm import tqdm\n",
        "\n",
        "import numpy as np\n",
        "import os,os.path\n",
        "import pandas as pd\n",
        "import time\n",
        "import torch\n",
        "import torch.nn.functional as F\n",
        "import torchvision.transforms as T\n",
        "import random\n",
        "\n",
        "%matplotlib inline"
      ]
    },
    {
      "cell_type": "code",
      "execution_count": 2,
      "metadata": {
        "colab": {
          "base_uri": "https://localhost:8080/"
        },
        "id": "ukYowww6SRhw",
        "outputId": "5dc439d5-35f1-46fb-e852-95757f330512"
      },
      "outputs": [],
      "source": [
        "# from google.colab import drive\n",
        "# drive.mount('/content/drive')"
      ]
    },
    {
      "cell_type": "markdown",
      "metadata": {
        "id": "1NVS267Bz4xv"
      },
      "source": [
        "# Dataset building"
      ]
    },
    {
      "cell_type": "markdown",
      "metadata": {
        "id": "eHVQXDuf1CUQ"
      },
      "source": [
        "### Transforms"
      ]
    },
    {
      "cell_type": "code",
      "execution_count": 3,
      "metadata": {
        "id": "MDcf8fRP1TRl"
      },
      "outputs": [],
      "source": [
        "class ToTen(object):\n",
        "    \"\"\"Convert PIL image and numpy ndarray in sample to Tensors.\"\"\"\n",
        "\n",
        "    def __call__(self, sample : dict) -> tuple[torch.tensor, torch.tensor] :\n",
        "        image, masks = sample['image'], sample['target']\n",
        "        masks_to_tensors = torch.from_numpy(masks)\n",
        "        masks_to_tensors = torch.unsqueeze(masks_to_tensors, dim = 0)\n",
        "        transform = T.ToTensor()\n",
        "        return {'image': transform(image),\n",
        "                'target': masks_to_tensors}\n",
        "    @property\n",
        "    def get_name(self) -> str:\n",
        "      return \"ToTensor\""
      ]
    },
    {
      "cell_type": "markdown",
      "metadata": {
        "id": "gOpEO3AH1zoQ"
      },
      "source": [
        "### Dataset class"
      ]
    },
    {
      "cell_type": "code",
      "execution_count": 4,
      "metadata": {
        "id": "f-qx0tsYay_U"
      },
      "outputs": [],
      "source": [
        "class PoolImageDatasetSimplest(Dataset):\n",
        "  global x_min,x_max,y_min,y_max, train_prop\n",
        "\n",
        "  #Dimensions of my pool\n",
        "  width , height = 1.900, 0.956\n",
        "  x_min,x_max = -(width/2),width/2\n",
        "  y_min,y_max = -(height/2),height/2\n",
        "  train_prop = 0.75\n",
        "\n",
        "  def __init__(\n",
        "      self,\n",
        "      transforms = None,\n",
        "      csv_file_path : str = './coords.csv',\n",
        "      data_path : str = \"./images/\",\n",
        "      train : bool = True\n",
        "      ) -> None:\n",
        "\n",
        "    super().__init__()\n",
        "    self.labels = pd.read_csv(csv_file_path)\n",
        "    self.images_path = data_path\n",
        "    self.transforms = transforms\n",
        "    #define the resolution of the image in order to do the origine translation\n",
        "    self.image_width, self.image_height = Image.open(data_path+\"0.png\").size\n",
        "    # calling the cleaning function that includes mapping and translation of x and y\n",
        "    self._clean_values()\n",
        "    self.train = train\n",
        "    self.len = self.__len__()\n",
        "\n",
        "  @staticmethod\n",
        "  def mapping_and_translation(\n",
        "      value : float,\n",
        "      actual_ref_min : float,\n",
        "      actual_ref_max : float,\n",
        "      offset : int # offset = translation quantity\n",
        "      ) -> int : \n",
        "      \n",
        "      new_ref_max = offset\n",
        "      new_ref_min = -offset\n",
        "\n",
        "       # +0.5 is just for the rounding by excess\n",
        "       # And for the math formula I took the one from arduino function \"map()\"\n",
        "      new_value = int(((value - actual_ref_min) * (new_ref_max - new_ref_min)/ (actual_ref_max - actual_ref_min) + new_ref_min))\n",
        "      return new_value + offset\n",
        "    \n",
        "  def _clean_values(self):\n",
        "    # Removing Z value \n",
        "    self.labels.drop('z', inplace = True,axis=1)\n",
        "    #Removing all extreme X and Y values that are out of the pool table\n",
        "    self.labels.drop(self.labels[(self.labels['x']>=x_max) | (self.labels['x'] <= x_min) ].index, inplace=True) \n",
        "    self.labels.drop(self.labels[(self.labels.y >= y_max) | (self.labels.y <= y_min) ].index, inplace=True) #\n",
        "\n",
        "    #change coords if the translation changed\n",
        "    self.labels[\"x\"] = self.labels[\"x\"].apply(lambda x : self.mapping_and_translation(x,x_min,x_max,int(self.image_width/2)))\n",
        "    self.labels[\"y\"] = self.labels[\"y\"].apply(lambda y : self.mapping_and_translation(y,y_min,y_max,int(self.image_height/2)))\n",
        "  \n",
        "  def draw_ones(self,coords : np.ndarray) -> np.ndarray :\n",
        "    # print(coords)\n",
        "    arr = np.zeros((self.image_height,self.image_width),dtype = np.float32)\n",
        "    for x, y in coords:\n",
        "      arr[self.image_height - y,x] = 1.0 # self.image_height-y to flip\n",
        "    # arr_gaussian = gaussian_filter(arr, sigma=1.5)\n",
        "    # return torch.from_numpy(arr_gaussian)\n",
        "    return arr.astype(dtype=np.float32)\n",
        "\n",
        "  def __len__(self):\n",
        "    return int(len(os.listdir(self.images_path)) * train_prop) if self.train else int(len(os.listdir(self.images_path)) * (1-train_prop))\n",
        "  \n",
        "  def __getitem__(self, idx) -> dict:\n",
        "    if not self.train :\n",
        "      idx = idx + self.len\n",
        "    if torch.is_tensor(idx):\n",
        "        idx = idx.tolist()\n",
        "\n",
        "    img_name = os.path.join(self.images_path,\n",
        "                              f\"{str(idx)}.png\")\n",
        "    image = Image.open(img_name).convert('RGB') #Apply rgb conversion -> have 3 input channels instead of 4\n",
        "\n",
        "    coords = np.array(self.labels[self.labels.id == idx].iloc[:,[1,2]])\n",
        "    \n",
        "    # print(coords)\n",
        "\n",
        "    target = self.draw_ones(coords)\n",
        "    # print(type(target[0]))\n",
        "    sample = {'image': image, 'target': target}\n",
        "\n",
        "    if self.transforms:\n",
        "      sample = self.transforms(sample)\n",
        "\n",
        "\n",
        "    return sample"
      ]
    },
    {
      "cell_type": "code",
      "execution_count": 5,
      "metadata": {
        "id": "M2p1c89YwYlo"
      },
      "outputs": [],
      "source": [
        "# csv_file_path =\"/content/drive/MyDrive/Createch/Pool_Project/.dataset/coords.csv\"\n",
        "# data_path =\"/content/drive/MyDrive/Createch/Pool_Project/.dataset/images/\"\n",
        "csv_file_path = \"./.dataset/coords.csv\"\n",
        "data_path = \"./.dataset/images/\""
      ]
    },
    {
      "cell_type": "code",
      "execution_count": 6,
      "metadata": {
        "id": "tjOTPCLebiax"
      },
      "outputs": [],
      "source": [
        "dataset = PoolImageDatasetSimplest(csv_file_path=csv_file_path,data_path = data_path, train = True)"
      ]
    },
    {
      "cell_type": "code",
      "execution_count": 7,
      "metadata": {
        "colab": {
          "base_uri": "https://localhost:8080/",
          "height": 106
        },
        "id": "yVJvVbbqb1mo",
        "outputId": "ac148071-ae1e-425a-de3f-1f5d05269df5"
      },
      "outputs": [
        {
          "data": {
            "text/plain": [
              "<matplotlib.image.AxesImage at 0x7f2c08b499a0>"
            ]
          },
          "execution_count": 7,
          "metadata": {},
          "output_type": "execute_result"
        },
        {
          "data": {
            "image/png": "[encoded data removed]",
            "text/plain": [
              "<Figure size 432x288 with 1 Axes>"
            ]
          },
          "metadata": {
            "needs_background": "light"
          },
          "output_type": "display_data"
        }
      ],
      "source": [
        "plt.imshow(dataset[0][\"image\"])"
      ]
    },
    {
      "cell_type": "code",
      "execution_count": 8,
      "metadata": {
        "colab": {
          "base_uri": "https://localhost:8080/",
          "height": 106
        },
        "id": "37ijrU8PfM_m",
        "outputId": "a3d4455c-e6dc-4ca6-8910-992e62f884d9"
      },
      "outputs": [
        {
          "data": {
            "text/plain": [
              "<matplotlib.image.AxesImage at 0x7f2c08d28520>"
            ]
          },
          "execution_count": 8,
          "metadata": {},
          "output_type": "execute_result"
        },
        {
          "data": {
            "image/png": "[encoded data removed]",
            "text/plain": [
              "<Figure size 432x288 with 1 Axes>"
            ]
          },
          "metadata": {
            "needs_background": "light"
          },
          "output_type": "display_data"
        }
      ],
      "source": [
        "target = dataset[0][\"target\"]\n",
        "plt.imshow(target)"
      ]
    },
    {
      "cell_type": "markdown",
      "metadata": {
        "id": "C6u4B2sYz9rs"
      },
      "source": [
        "### DataLoader"
      ]
    },
    {
      "cell_type": "code",
      "execution_count": 9,
      "metadata": {
        "id": "Q7AsjNtC0BW7"
      },
      "outputs": [],
      "source": [
        "batch_size = 256\n",
        "train_dataset = PoolImageDatasetSimplest(transforms=ToTen(),csv_file_path=csv_file_path,data_path = data_path,train = True)\n",
        "test_dataset = PoolImageDatasetSimplest(transforms=ToTen(),csv_file_path=csv_file_path,data_path = data_path,train = False)\n",
        "train_dataloader = DataLoader(train_dataset,batch_size=batch_size,shuffle = True,num_workers=2)\n",
        "test_dataloader = DataLoader(test_dataset,batch_size=batch_size,shuffle = False,num_workers=2)"
      ]
    },
    {
      "cell_type": "code",
      "execution_count": 10,
      "metadata": {
        "colab": {
          "base_uri": "https://localhost:8080/"
        },
        "id": "SUAr3Jluk4pG",
        "outputId": "1f998545-2a45-44a4-b2ad-74d981730ed6"
      },
      "outputs": [
        {
          "data": {
            "text/plain": [
              "torch.Size([3, 64, 128])"
            ]
          },
          "execution_count": 10,
          "metadata": {},
          "output_type": "execute_result"
        }
      ],
      "source": [
        "train_dataset[0][\"image\"].size()"
      ]
    },
    {
      "cell_type": "markdown",
      "metadata": {
        "id": "90w7DXMRoW-5"
      },
      "source": [
        "# Model building\n",
        "\n",
        "Building a U-Net, you have to define different parts of the model.\n",
        "\n",
        "As the name indicate, it's built in U shape. First you have to go down, using convolution and pooling. Then you go up and add previous states.\n",
        "\n",
        "At the end, we do an upscaling and conv to retrieve our original size."
      ]
    },
    {
      "cell_type": "markdown",
      "metadata": {
        "id": "b9LsACoaMh4A"
      },
      "source": [
        "### Building the U-NET model\n"
      ]
    },
    {
      "cell_type": "code",
      "execution_count": 11,
      "metadata": {
        "id": "bewT_UyNolDe"
      },
      "outputs": [],
      "source": [
        "import torch.nn as nn\n",
        "class myUnet(nn.Module):\n",
        "    def __init__(self):\n",
        "        super(myUnet, self).__init__()\n",
        "        #  down-sampling blocks\n",
        "        k_size = 3\n",
        "        self.conv1 = nn.Conv2d(3, 32, k_size, padding=(k_size-1)//2)\n",
        "        self.conv2 = nn.Conv2d(32, 64, k_size, padding=(k_size-1)//2)\n",
        "        self.conv3 = nn.Conv2d(64, 32, k_size, padding=(k_size-1)//2)\n",
        "        # self.conv4 = nn.Conv2d(64, 128, k_size, padding=(k_size-1)//2)\n",
        "        #  up-sampling locks\n",
        "        # self.conv5 = nn.Conv2d(128, 64, k_size, padding=(k_size-1)//2)\n",
        "        self.conv6 = nn.Conv2d(2* 32, 64, k_size, padding=(k_size-1)//2)\n",
        "        self.conv7 = nn.Conv2d(2* 64, 32, k_size, padding=(k_size-1)//2)\n",
        "        self.conv8 = nn.Conv2d(2 * 32, 1, k_size, padding=(k_size-1)//2)\n",
        "        #  fully connected layer\n",
        "        self.fc1 = nn.Linear(32*8*16, 128)\n",
        "        self.fc2 = nn.Linear(128, 128)\n",
        "        self.fc3 = nn.Linear(128, 32*8*16)\n",
        "        #  maxpooling\n",
        "        self.maxpool = nn.MaxPool2d(2, 2)\n",
        "        #  upsampling\n",
        "        self.upsample = nn.Upsample(scale_factor=2, mode='bilinear', align_corners=True)\n",
        "        #  batch normalization\n",
        "        self.bn1 = nn.BatchNorm2d(32)\n",
        "        self.bn2 = nn.BatchNorm2d(64)\n",
        "        self.bn3 = nn.BatchNorm2d(32)\n",
        "        self.bn4 = nn.BatchNorm2d(128)\n",
        "        self.bn5 = nn.BatchNorm2d(64)\n",
        "        self.bn6 = nn.BatchNorm2d(64)\n",
        "        self.bn7 = nn.BatchNorm2d(32)\n",
        "        self.bn8 = nn.BatchNorm2d(1)\n",
        "        #  dropout\n",
        "        self.dropout = nn.Dropout(0.2)\n",
        "        # activation function\n",
        "        self.activ_conv = nn.ReLU()\n",
        "        self.activ_linear = nn.SELU()\n",
        "        # flatten and reshape\n",
        "        self.flatten = nn.Flatten()\n",
        "        self.reshape = nn.Unflatten(1, (32, 8, 16))\n",
        "        self.final = nn.Sigmoid()\n",
        "\n",
        "        # #  initialize weights\n",
        "        # for m in self.modules():\n",
        "        #     if isinstance(m, nn.Conv2d):\n",
        "        #         nn.init.kaiming_normal_(m.weight, mode='fan_out', nonlinearity='relu')\n",
        "        #         if m.bias is not None:\n",
        "        #             nn.init.constant_(m.bias, 0)\n",
        "        #     elif isinstance(m, nn.BatchNorm2d):\n",
        "        #         nn.init.constant_(m.weight, 1)\n",
        "        #         nn.init.constant_(m.bias, 0)\n",
        "        #     elif isinstance(m, nn.Linear):\n",
        "        #         nn.init.normal_(m.weight, 0, 0.01)\n",
        "        #         nn.init.constant_(m.bias, 0)\n",
        "        \n",
        "    def forward(self, x):\n",
        "        #  down-sampling blocks\n",
        "        x1 = self.bn1(self.activ_conv(self.conv1(x)))\n",
        "        x = self.maxpool(x1)\n",
        "        x2 = self.bn2(self.activ_conv(self.conv2(x)))\n",
        "        x = self.maxpool(x2)\n",
        "        x3 = self.bn3(self.activ_conv(self.conv3(x)))\n",
        "        x = self.maxpool(x3)\n",
        "        # x4 = self.bn4(self.activ_conv(self.conv4(x)))\n",
        "        # x = self.maxpool(x4)\n",
        "        #  fully connected layer\n",
        "        # print(x.shape)\n",
        "        # x = self.flatten(x)\n",
        "        # x = (self.activ_linear(self.fc1(x)))\n",
        "        # x = self.dropout(x)\n",
        "        # x = (self.activ_linear(self.fc2(x)))\n",
        "        # x = self.dropout(x)\n",
        "        # x = (self.activ_linear(self.fc3(x)))\n",
        "        # #  up-sampling blocks\n",
        "        # x = self.reshape(x)\n",
        "        x = self.upsample(x)\n",
        "        # x = x + x4\n",
        "        # x = self.bn5(self.activ_conv(self.conv5(x)))\n",
        "        # x = self.upsample(x)\n",
        "        x = torch.cat((x,x3), dim = 1)\n",
        "        # print(x.shape)\n",
        "        x = self.bn6(self.activ_conv(self.conv6(x)))\n",
        "        x = self.upsample(x)\n",
        "        x = torch.cat((x,x2), dim = 1)\n",
        "        # x = x + x2\n",
        "        # print(x.shape)\n",
        "        x = self.bn7(self.activ_conv(self.conv7(x)))\n",
        "        x = self.upsample(x)\n",
        "        x = torch.cat((x,x1), dim = 1)\n",
        "        # x = x + x1\n",
        "        x = self.conv8(x) # self.bn8(self.final(self.conv8(x)))\n",
        "        return x"
      ]
    },
    {
      "cell_type": "markdown",
      "metadata": {
        "id": "CAk41sxetoYX"
      },
      "source": [
        "# Train"
      ]
    },
    {
      "cell_type": "markdown",
      "metadata": {
        "id": "BMlrRIvrtsVH"
      },
      "source": [
        "### hyperparameters"
      ]
    },
    {
      "cell_type": "code",
      "execution_count": 12,
      "metadata": {
        "colab": {
          "base_uri": "https://localhost:8080/"
        },
        "id": "0EUTmDuhtvtX",
        "outputId": "c36374b2-07a8-485b-c66e-556091ca1f35"
      },
      "outputs": [
        {
          "name": "stdout",
          "output_type": "stream",
          "text": [
            "==========================================================================================\n",
            "Layer (type:depth-idx)                   Output Shape              Param #\n",
            "==========================================================================================\n",
            "├─Conv2d: 1-1                            [-1, 32, 64, 128]         896\n",
            "├─ReLU: 1-2                              [-1, 32, 64, 128]         --\n",
            "├─BatchNorm2d: 1-3                       [-1, 32, 64, 128]         64\n",
            "├─MaxPool2d: 1-4                         [-1, 32, 32, 64]          --\n",
            "├─Conv2d: 1-5                            [-1, 64, 32, 64]          18,496\n",
            "├─ReLU: 1-6                              [-1, 64, 32, 64]          --\n",
            "├─BatchNorm2d: 1-7                       [-1, 64, 32, 64]          128\n",
            "├─MaxPool2d: 1-8                         [-1, 64, 16, 32]          --\n",
            "├─Conv2d: 1-9                            [-1, 32, 16, 32]          18,464\n",
            "├─ReLU: 1-10                             [-1, 32, 16, 32]          --\n",
            "├─BatchNorm2d: 1-11                      [-1, 32, 16, 32]          64\n",
            "├─MaxPool2d: 1-12                        [-1, 32, 8, 16]           --\n",
            "├─Upsample: 1-13                         [-1, 32, 16, 32]          --\n",
            "├─Conv2d: 1-14                           [-1, 64, 16, 32]          36,928\n",
            "├─ReLU: 1-15                             [-1, 64, 16, 32]          --\n",
            "├─BatchNorm2d: 1-16                      [-1, 64, 16, 32]          128\n",
            "├─Upsample: 1-17                         [-1, 64, 32, 64]          --\n",
            "├─Conv2d: 1-18                           [-1, 32, 32, 64]          36,896\n",
            "├─ReLU: 1-19                             [-1, 32, 32, 64]          --\n",
            "├─BatchNorm2d: 1-20                      [-1, 32, 32, 64]          64\n",
            "├─Upsample: 1-21                         [-1, 32, 64, 128]         --\n",
            "├─Conv2d: 1-22                           [-1, 1, 64, 128]          577\n",
            "==========================================================================================\n",
            "Total params: 112,705\n",
            "Trainable params: 112,705\n",
            "Non-trainable params: 0\n",
            "Total mult-adds (M): 153.35\n",
            "==========================================================================================\n",
            "Input size (MB): 0.09\n",
            "Forward/backward pass size (MB): 7.81\n",
            "Params size (MB): 0.43\n",
            "Estimated Total Size (MB): 8.34\n",
            "==========================================================================================\n"
          ]
        }
      ],
      "source": [
        "\n",
        "model = myUnet()\n",
        "model.to(\"cuda\")\n",
        "summary(model, (3,64,128)) #batch_size = 128)  # 128, 3, 64, 128\n",
        "lr = 1e-3\n",
        "optimizer = SGD(model.parameters(),lr=lr)\n",
        "criterion = nn.BCEWithLogitsLoss()\n",
        "criterion = criterion.to(\"cuda\")\n",
        "epochs = 100"
      ]
    },
    {
      "cell_type": "markdown",
      "metadata": {
        "id": "q7uFX7IqcKiD"
      },
      "source": [
        "### Visualization setup\n"
      ]
    },
    {
      "cell_type": "code",
      "execution_count": 13,
      "metadata": {
        "colab": {
          "base_uri": "https://localhost:8080/"
        },
        "id": "jBI2r1_zcPNo",
        "outputId": "d28b2d63-5cd7-4e21-bab1-7d6123ad4d78"
      },
      "outputs": [
        {
          "name": "stderr",
          "output_type": "stream",
          "text": [
            "/usr/lib/python3/dist-packages/requests/__init__.py:89: RequestsDependencyWarning: urllib3 (1.26.12) or chardet (3.0.4) doesn't match a supported version!\n",
            "  warnings.warn(\"urllib3 ({}) or chardet ({}) doesn't match a supported \"\n",
            "Failed to detect the name of this notebook, you can set it manually with the WANDB_NOTEBOOK_NAME environment variable to enable code saving.\n",
            "/usr/lib/python3/dist-packages/requests/__init__.py:89: RequestsDependencyWarning: urllib3 (1.26.12) or chardet (3.0.4) doesn't match a supported version!\n",
            "  warnings.warn(\"urllib3 ({}) or chardet ({}) doesn't match a supported \"\n",
            "\u001b[34m\u001b[1mwandb\u001b[0m: Currently logged in as: \u001b[33msn00wden\u001b[0m. Use \u001b[1m`wandb login --relogin`\u001b[0m to force relogin\n"
          ]
        },
        {
          "data": {
            "text/plain": [
              "True"
            ]
          },
          "execution_count": 13,
          "metadata": {},
          "output_type": "execute_result"
        }
      ],
      "source": [
        "# !pip3 install wandb\n",
        "import wandb\n",
        "\n",
        "wandb.login()"
      ]
    },
    {
      "cell_type": "code",
      "execution_count": 14,
      "metadata": {
        "colab": {
          "base_uri": "https://localhost:8080/",
          "height": 91
        },
        "id": "XsnwOPDuc6LU",
        "outputId": "319a9d25-0d0c-4fd3-b9c4-24ba50a5d4c8"
      },
      "outputs": [
        {
          "data": {
            "text/html": [
              "wandb version 0.13.7 is available!  To upgrade, please run:\n",
              " $ pip install wandb --upgrade"
            ],
            "text/plain": [
              "<IPython.core.display.HTML object>"
            ]
          },
          "metadata": {},
          "output_type": "display_data"
        },
        {
          "data": {
            "text/html": [
              "Tracking run with wandb version 0.13.4"
            ],
            "text/plain": [
              "<IPython.core.display.HTML object>"
            ]
          },
          "metadata": {},
          "output_type": "display_data"
        },
        {
          "data": {
            "text/html": [
              "Run data is saved locally in <code>/home/alfred/nicolas/matthieu/wandb/run-20230110_164426-1jqt7idi</code>"
            ],
            "text/plain": [
              "<IPython.core.display.HTML object>"
            ]
          },
          "metadata": {},
          "output_type": "display_data"
        },
        {
          "data": {
            "text/html": [
              "Syncing run <strong><a href=\"https://wandb.ai/sn00wden/simplest_IA/runs/1jqt7idi\" target=\"_blank\">u-net_V3_100</a></strong> to <a href=\"https://wandb.ai/sn00wden/simplest_IA\" target=\"_blank\">Weights & Biases</a> (<a href=\"https://wandb.me/run\" target=\"_blank\">docs</a>)<br/>"
            ],
            "text/plain": [
              "<IPython.core.display.HTML object>"
            ]
          },
          "metadata": {},
          "output_type": "display_data"
        },
        {
          "data": {
            "text/html": [
              "<button onClick=\"this.nextSibling.style.display='block';this.style.display='none';\">Display W&B run</button><iframe src=\"https://wandb.ai/sn00wden/simplest_IA/runs/1jqt7idi?jupyter=true\" style=\"border:none;width:100%;height:420px;display:none;\"></iframe>"
            ],
            "text/plain": [
              "<wandb.sdk.wandb_run.Run at 0x7f2bf8153970>"
            ]
          },
          "execution_count": 14,
          "metadata": {},
          "output_type": "execute_result"
        }
      ],
      "source": [
        "\n",
        "wandb.init(\n",
        "      # Set the project where this run will be logged\n",
        "      project=\"simplest_IA\", \n",
        "      # We pass a run name (otherwise it’ll be randomly assigned, like sunshine-lollypop-10)\n",
        "      name=f\"u-net_V3_{epochs}\", \n",
        "      # Track hyperparameters and run metadata\n",
        "      config={\n",
        "      \"learning_rate\": lr,\n",
        "      \"architecture\": \"my U-NET\",\n",
        "      \"dataset\": \"Blender_Dataset\",\n",
        "      \"dataset_size\" : 10000,\n",
        "      \"loss\" : \"BCEWLogits\",\n",
        "      \"epochs\": epochs,\n",
        "      \"batch_size\": batch_size,\n",
        "\n",
        "      })"
      ]
    },
    {
      "cell_type": "code",
      "execution_count": 15,
      "metadata": {
        "colab": {
          "base_uri": "https://localhost:8080/"
        },
        "id": "5ARavYmfAf1p",
        "outputId": "a767c502-3105-4a85-dd58-49da2abf0ef0"
      },
      "outputs": [
        {
          "data": {
            "text/plain": [
              "[]"
            ]
          },
          "execution_count": 15,
          "metadata": {},
          "output_type": "execute_result"
        }
      ],
      "source": [
        "wandb.watch(\n",
        "    model,\n",
        "    criterion = criterion,\n",
        "    log = 'all',\n",
        "    log_freq = 2\n",
        ")"
      ]
    },
    {
      "cell_type": "markdown",
      "metadata": {
        "id": "joiAYON0-Wr5"
      },
      "source": [
        "### Valid loop"
      ]
    },
    {
      "cell_type": "code",
      "execution_count": 16,
      "metadata": {
        "id": "7V9vt0rBtqDV"
      },
      "outputs": [],
      "source": [
        "def  step(model: Module, optim: torch.optim.Optimizer, criterion, loader: DataLoader, device: str = \"cuda:0\", train: bool = True) -> tuple[float, float] | float:\n",
        "\n",
        "\n",
        "  avg_loss, avg_acc = 0.0, 0.0\n",
        "  for sample in tqdm(loader):\n",
        "      \n",
        "      x, target = sample[\"image\"].to(device), sample[\"target\"].to(device)\n",
        "\n",
        "      # print(x.shape)\n",
        "      y_: torch.Tensor = model(x)\n",
        "\n",
        "    #   y_ = torch.squeeze(y_,dim=1)\n",
        "      loss = criterion(y_,target)\n",
        "\n",
        "      \n",
        "      # acc = (y_.argmax(dim=-1) == target).sum()\n",
        "      if train:\n",
        "          optim.zero_grad(set_to_none=None)\n",
        "          loss.backward()\n",
        "          optim.step()\n",
        "      avg_loss += loss.item() / len(loader)\n",
        "      # avg_acc  += acc.item()  / len(loader.dataset)\n",
        "\n",
        "  return avg_loss\n",
        "\n",
        "      \n"
      ]
    },
    {
      "cell_type": "markdown",
      "metadata": {
        "id": "wuApBh1qKqbN"
      },
      "source": [
        "#### Useful functions"
      ]
    },
    {
      "cell_type": "code",
      "execution_count": 17,
      "metadata": {
        "id": "neWfArwnEnCL"
      },
      "outputs": [],
      "source": [
        "def verif_close(coords : np.ndarray, x,y) -> bool:\n",
        "  eps = 2\n",
        "  for i in range(len(coords[0])):\n",
        "    if coords[0][i] == x:\n",
        "      return True if coords[1][i] - eps <= y and coords[1][i] + eps >= y else False\n",
        "    \n",
        "    if coords[1][i] == x:\n",
        "      return True if coords[0][i] - eps <= y and coords[0][i] + eps >= y else False\n"
      ]
    },
    {
      "cell_type": "code",
      "execution_count": 18,
      "metadata": {
        "id": "uG_ZDWG3QBve"
      },
      "outputs": [],
      "source": [
        "\n",
        "def get_center(input : torch.Tensor, kernel_size : int = 4) -> torch :\n",
        "  width = input.size()[2]\n",
        "  height = input.size()[1]\n",
        "  ret = torch.zeros(1,height,width,dtype=torch.float32)\n",
        "  for y  in range(height):\n",
        "    for x in range(width):\n",
        "      temp_value = input[0,y,x]\n",
        "      if temp_value !=0 :\n",
        "        min_x= 0 if x-kernel_size < 0 else x -kernel_size\n",
        "        min_y= 0 if y-kernel_size < 0 else y -kernel_size\n",
        "        max_x = width-1 if x+kernel_size> width else x+kernel_size \n",
        "        max_y = height-1 if y+kernel_size> height else y+kernel_size \n",
        "        local_max = temp_value\n",
        "        # modif = False\n",
        "        for j in range(min_y,max_y):\n",
        "          for i in range(min_x,max_x):\n",
        "            if input[0,j,i] > local_max and i > 2:\n",
        "              local_max = input[0,j,i]\n",
        "              modif = True\n",
        "\n",
        "        ret[0,y,x] = 1 if temp_value == local_max and x >2 and x< width -3 else 0.0\n",
        "  return ret\n",
        "            "
      ]
    },
    {
      "cell_type": "code",
      "execution_count": 19,
      "metadata": {
        "id": "TLh0W7CIyhYf"
      },
      "outputs": [],
      "source": [
        "def extract_coords(input : torch.Tensor)-> np.darray:\n",
        "  coords = [[],[]]\n",
        "  width = input.size()[1]\n",
        "  height = input.size()[0]\n",
        "  for y in range(height):\n",
        "    for x in range(width):\n",
        "      if input[y,x] == 1 and not verif_close(coords,x,y):\n",
        "        coords[0].append(x)\n",
        "        coords[1].append(y)\n",
        "  return np.array(coords)"
      ]
    },
    {
      "cell_type": "code",
      "execution_count": 20,
      "metadata": {
        "id": "O1eKCfSIYAAV"
      },
      "outputs": [],
      "source": [
        "\n",
        "\n",
        "def mean_euclidian_distance(target_coords : np.ndarray, predict_coords : np.ndarray) -> np.ndarray :\n",
        "  dist = []\n",
        "  for x,y in zip(target_coords[0],target_coords[1]):\n",
        "    dist_min = np.min(np.sqrt(np.power(x-predict_coords[0],2) + np.power(y-predict_coords[1],2)))\n",
        "    dist.append(dist_min)\n",
        "  return (np.array(dist)).mean()"
      ]
    },
    {
      "cell_type": "markdown",
      "metadata": {
        "id": "Mi5mAwl-Kwbb"
      },
      "source": [
        "#### Final Valid function"
      ]
    },
    {
      "cell_type": "code",
      "execution_count": 21,
      "metadata": {
        "id": "I9Mn_MFR-WfZ"
      },
      "outputs": [],
      "source": [
        "def valid(model : Module, loader : DataLoader, device: str = \"cuda:0\", nb : int =  100, display : bool = False) -> float :\n",
        "  mean_dist = 0.0\n",
        "  nb_false_positive = 0.0\n",
        "  nb_true_negative = 0.0\n",
        "  # nb = nb_batch * batch_size\n",
        "\n",
        "  y_ = None\n",
        "  avg_loss, avg_acc = 0.0, 0.0\n",
        "  start = time.time()\n",
        "  for sample in loader:\n",
        "    with torch.inference_mode() :\n",
        "\n",
        "      x, target = sample[\"image\"].to(device), sample[\"target\"]\n",
        "      y_: torch.Tensor = model(x)\n",
        "\n",
        "      for _ in range(nb) :\n",
        "        ind = random.randint(0,batch_size-1)\n",
        "        # print(y_.size())\n",
        "        # print(\"0 : \",y_[0].size())\n",
        "        # print(\"1 : \",y_[1].size())\n",
        "        # print(\"2 : \",y_[2].size())\n",
        "        # print(\"3 : \",y_[3].size())\n",
        "        thresh_function = torch.nn.Threshold(0.9,0,inplace = False)\n",
        "        output_threshed = thresh_function(y_[ind])\n",
        "        # print(output_threshed.size())\n",
        "        output_centered = get_center(output_threshed)\n",
        "        output_centered = torch.squeeze(output_centered,dim = 0)\n",
        "        output_extracted, target_extracted= extract_coords(target[ind]),extract_coords(output_centered) \n",
        "        nb_false_positive += len(output_extracted) - len(target_extracted) if len(output_extracted) - len(target_extracted) >= 0 else  0.0\n",
        "        nb_true_negative += -len(output_extracted) + len(target_extracted) if -len(output_extracted) + len(target_extracted) < 0 else  0.0\n",
        "\n",
        "        dist = mean_euclidian_distance(output_extracted, target_extracted)\n",
        "        mean_dist += dist\n",
        "        if display : \n",
        "          print(f\"distance : {dist:.2e} Sw for one inference : {time.time() - start}\")\n",
        "          output_displayed = torch.squeeze(y_[ind],dim=1)\n",
        "          f, axarr = plt.subplots(2,2)\n",
        "          axarr[0,0].imshow(to_pil(output_displayed))\n",
        "          axarr[0,0].title.set_text(\"Raw output\")\n",
        "\n",
        "          axarr[0,1].imshow(to_pil(output_threshed))\n",
        "          axarr[0,1].title.set_text(\"Threshed output\")\n",
        "\n",
        "          axarr[1,0].imshow(to_pil(output_centered))\n",
        "          axarr[1,0].title.set_text(\"Local maximum output\")\n",
        "\n",
        "          axarr[1,1].imshow(to_pil(target))\n",
        "          axarr[1,1].title.set_text(\"Target\")\n",
        "      mean_dist /= nb\n",
        "      nb_false_positive /= nb\n",
        "      nb_true_negative /= nb\n",
        "      print(f\"\\nMean distance of the valid ({nb} runs) : {mean_dist:.2e}\")\n",
        "      print(f\"Number of false positive {nb_false_positive:.2e} | Number of true negative {nb_true_negative:.2e}\")\n",
        "\n",
        "      return mean_dist\n",
        "      # break\n"
      ]
    },
    {
      "cell_type": "code",
      "execution_count": 22,
      "metadata": {
        "id": "2WYBd7E7y86v"
      },
      "outputs": [],
      "source": [
        "# valid(model,test_dataloader, device = \"cuda\",nb= 100,display = False)"
      ]
    },
    {
      "cell_type": "markdown",
      "metadata": {
        "id": "TIVpstV60VN3"
      },
      "source": [
        "### Train"
      ]
    },
    {
      "cell_type": "markdown",
      "metadata": {
        "id": "9adJ-RsMPFkp"
      },
      "source": [
        "#### Train loop"
      ]
    },
    {
      "cell_type": "code",
      "execution_count": 23,
      "metadata": {
        "id": "0rUm_zz-64OK"
      },
      "outputs": [],
      "source": [
        "def train(\n",
        "    model: Module,\n",
        "    optim: torch.optim.Optimizer,\n",
        "    criterion,\n",
        "    train_loader: DataLoader,\n",
        "    test_loader : DataLoader,\n",
        "    device: str = \"cuda:0\",\n",
        "    train: bool = True,\n",
        "    epochs : int = 10\n",
        "    ) -> None:\n",
        "  best_loss = np.inf\n",
        "  for i in tqdm(range(epochs)):\n",
        "\n",
        "    # Train\n",
        "    loss = step(model, optim, criterion, train_loader, train=True)\n",
        "    wandb.log({\"train_loss\" : loss})\n",
        "\n",
        "    # test\n",
        "    loss = step(model,optim,criterion,test_loader,train = False)\n",
        "    wandb.log({\"test_loss\" : loss})\n",
        "    # if i%2 == 0:\n",
        "    #   mean_dist = valid(model, test_loader, nb = 50 )\n",
        "    #   wandb.log({\"mean_distance\" : mean_dist})\n",
        "\n",
        "\n",
        "    if loss < best_loss:\n",
        "      best_loss = loss\n",
        "      torch.save(model.state_dict(),\"./best_upgrade_up.txt\")"
      ]
    },
    {
      "cell_type": "markdown",
      "metadata": {
        "id": "jn_uFXZCPCUl"
      },
      "source": [
        "#### Training"
      ]
    },
    {
      "cell_type": "code",
      "execution_count": 24,
      "metadata": {
        "colab": {
          "base_uri": "https://localhost:8080/",
          "height": 1000
        },
        "id": "qSfUBqS10eK1",
        "outputId": "bf0cc42a-d9f9-4090-f571-18dfe8ebab36"
      },
      "outputs": [
        {
          "name": "stderr",
          "output_type": "stream",
          "text": [
            "100%|██████████| 30/30 [00:09<00:00,  3.23it/s]\n",
            "100%|██████████| 10/10 [00:02<00:00,  4.67it/s]\n",
            "100%|██████████| 30/30 [00:09<00:00,  3.30it/s]\n",
            "100%|██████████| 10/10 [00:02<00:00,  3.48it/s]\n",
            "100%|██████████| 30/30 [00:09<00:00,  3.22it/s]\n",
            "100%|██████████| 10/10 [00:01<00:00,  5.18it/s]\n",
            "100%|██████████| 30/30 [00:09<00:00,  3.18it/s]\n",
            "100%|██████████| 10/10 [00:02<00:00,  4.62it/s]\n",
            "100%|██████████| 30/30 [00:09<00:00,  3.31it/s]\n",
            "100%|██████████| 10/10 [00:02<00:00,  4.71it/s]\n",
            "100%|██████████| 30/30 [00:08<00:00,  3.39it/s]\n",
            "100%|██████████| 10/10 [00:02<00:00,  4.57it/s]\n",
            "100%|██████████| 30/30 [00:09<00:00,  3.24it/s]\n",
            "100%|██████████| 10/10 [00:02<00:00,  4.64it/s]\n",
            "100%|██████████| 30/30 [00:08<00:00,  3.36it/s]\n",
            "100%|██████████| 10/10 [00:02<00:00,  4.67it/s]\n",
            "100%|██████████| 30/30 [00:08<00:00,  3.51it/s]\n",
            "100%|██████████| 10/10 [00:02<00:00,  4.57it/s]\n",
            "100%|██████████| 30/30 [00:09<00:00,  3.33it/s]\n",
            "100%|██████████| 10/10 [00:02<00:00,  4.37it/s]\n",
            "100%|██████████| 30/30 [00:08<00:00,  3.45it/s]]\n",
            "100%|██████████| 10/10 [00:02<00:00,  4.77it/s]\n",
            "100%|██████████| 30/30 [00:08<00:00,  3.41it/s]]\n",
            "100%|██████████| 10/10 [00:02<00:00,  4.76it/s]\n",
            "100%|██████████| 30/30 [00:09<00:00,  3.21it/s]]\n",
            "100%|██████████| 10/10 [00:02<00:00,  4.99it/s]\n",
            "100%|██████████| 30/30 [00:08<00:00,  3.34it/s]]\n",
            "100%|██████████| 10/10 [00:02<00:00,  4.94it/s]\n",
            "100%|██████████| 30/30 [00:09<00:00,  3.17it/s]]\n",
            "100%|██████████| 10/10 [00:02<00:00,  4.64it/s]\n",
            "100%|██████████| 30/30 [00:09<00:00,  3.29it/s]]\n",
            "100%|██████████| 10/10 [00:02<00:00,  4.74it/s]\n",
            "100%|██████████| 30/30 [00:08<00:00,  3.34it/s]]\n",
            "100%|██████████| 10/10 [00:02<00:00,  4.94it/s]\n",
            "100%|██████████| 30/30 [00:09<00:00,  3.21it/s]]\n",
            "100%|██████████| 10/10 [00:02<00:00,  4.86it/s]\n",
            "100%|██████████| 30/30 [00:09<00:00,  3.31it/s]]\n",
            "100%|██████████| 10/10 [00:01<00:00,  5.03it/s]\n",
            "100%|██████████| 30/30 [00:09<00:00,  3.24it/s]]\n",
            "100%|██████████| 10/10 [00:02<00:00,  4.93it/s]\n",
            "100%|██████████| 30/30 [00:09<00:00,  3.30it/s]]\n",
            "100%|██████████| 10/10 [00:02<00:00,  4.26it/s]\n",
            "100%|██████████| 30/30 [00:08<00:00,  3.45it/s]]\n",
            "100%|██████████| 10/10 [00:02<00:00,  4.30it/s]\n",
            "100%|██████████| 30/30 [00:08<00:00,  3.42it/s]]\n",
            "100%|██████████| 10/10 [00:02<00:00,  4.60it/s]\n",
            "100%|██████████| 30/30 [00:08<00:00,  3.44it/s]]\n",
            "100%|██████████| 10/10 [00:02<00:00,  4.77it/s]\n",
            "100%|██████████| 30/30 [00:08<00:00,  3.37it/s]]\n",
            "100%|██████████| 10/10 [00:02<00:00,  4.48it/s]\n",
            "100%|██████████| 30/30 [00:09<00:00,  3.31it/s]]\n",
            "100%|██████████| 10/10 [00:02<00:00,  4.61it/s]\n",
            "100%|██████████| 30/30 [00:09<00:00,  3.33it/s]]\n",
            "100%|██████████| 10/10 [00:02<00:00,  4.32it/s]\n",
            "100%|██████████| 30/30 [00:09<00:00,  3.28it/s]]\n",
            "100%|██████████| 10/10 [00:02<00:00,  4.81it/s]\n",
            "100%|██████████| 30/30 [00:09<00:00,  3.23it/s]]\n",
            "100%|██████████| 10/10 [00:02<00:00,  4.51it/s]\n",
            "100%|██████████| 30/30 [00:09<00:00,  3.10it/s]]\n",
            "100%|██████████| 10/10 [00:02<00:00,  4.80it/s]\n",
            "100%|██████████| 30/30 [00:09<00:00,  3.29it/s]]\n",
            "100%|██████████| 10/10 [00:02<00:00,  4.89it/s]\n",
            "100%|██████████| 30/30 [00:09<00:00,  3.17it/s]]\n",
            "100%|██████████| 10/10 [00:02<00:00,  4.83it/s]\n",
            "100%|██████████| 30/30 [00:08<00:00,  3.44it/s]]\n",
            "100%|██████████| 10/10 [00:02<00:00,  4.73it/s]\n",
            "100%|██████████| 30/30 [00:09<00:00,  3.33it/s]]\n",
            "100%|██████████| 10/10 [00:02<00:00,  4.78it/s]\n",
            "100%|██████████| 30/30 [00:08<00:00,  3.44it/s]]\n",
            "100%|██████████| 10/10 [00:02<00:00,  4.84it/s]\n",
            "100%|██████████| 30/30 [00:09<00:00,  3.10it/s]]\n",
            "100%|██████████| 10/10 [00:02<00:00,  4.75it/s]\n",
            "100%|██████████| 30/30 [00:11<00:00,  2.67it/s]]\n",
            "100%|██████████| 10/10 [00:03<00:00,  2.72it/s]\n",
            "100%|██████████| 30/30 [00:09<00:00,  3.08it/s]]\n",
            "100%|██████████| 10/10 [00:02<00:00,  4.43it/s]\n",
            "100%|██████████| 30/30 [00:09<00:00,  3.20it/s]]\n",
            "100%|██████████| 10/10 [00:02<00:00,  4.79it/s]\n",
            "100%|██████████| 30/30 [00:09<00:00,  3.16it/s]]\n",
            "100%|██████████| 10/10 [00:02<00:00,  4.74it/s]\n",
            "100%|██████████| 30/30 [00:13<00:00,  2.30it/s]]\n",
            "100%|██████████| 10/10 [00:02<00:00,  4.57it/s]\n",
            "100%|██████████| 30/30 [00:09<00:00,  3.17it/s]]\n",
            "100%|██████████| 10/10 [00:02<00:00,  4.54it/s]\n",
            "100%|██████████| 30/30 [00:08<00:00,  3.50it/s]]\n",
            "100%|██████████| 10/10 [00:01<00:00,  5.11it/s]\n",
            "100%|██████████| 30/30 [00:08<00:00,  3.40it/s]]\n",
            "100%|██████████| 10/10 [00:02<00:00,  4.70it/s]\n",
            "100%|██████████| 30/30 [00:08<00:00,  3.34it/s]]\n",
            "100%|██████████| 10/10 [00:02<00:00,  4.31it/s]\n",
            "100%|██████████| 30/30 [00:08<00:00,  3.41it/s]]\n",
            "100%|██████████| 10/10 [00:02<00:00,  4.85it/s]\n",
            "100%|██████████| 30/30 [00:08<00:00,  3.41it/s]]\n",
            "100%|██████████| 10/10 [00:01<00:00,  5.01it/s]\n",
            "100%|██████████| 30/30 [00:08<00:00,  3.56it/s]]\n",
            "100%|██████████| 10/10 [00:02<00:00,  4.91it/s]\n",
            "100%|██████████| 30/30 [00:08<00:00,  3.36it/s]]\n",
            "100%|██████████| 10/10 [00:01<00:00,  5.19it/s]\n",
            "100%|██████████| 30/30 [00:08<00:00,  3.46it/s]]\n",
            "100%|██████████| 10/10 [00:02<00:00,  4.98it/s]\n",
            "100%|██████████| 30/30 [00:08<00:00,  3.63it/s]]\n",
            "100%|██████████| 10/10 [00:01<00:00,  5.04it/s]\n",
            "100%|██████████| 30/30 [00:09<00:00,  3.31it/s]]\n",
            "100%|██████████| 10/10 [00:01<00:00,  5.04it/s]\n",
            "100%|██████████| 30/30 [00:08<00:00,  3.35it/s]]\n",
            "100%|██████████| 10/10 [00:02<00:00,  4.89it/s]\n",
            "100%|██████████| 30/30 [00:08<00:00,  3.47it/s]]\n",
            "100%|██████████| 10/10 [00:02<00:00,  4.79it/s]\n",
            "100%|██████████| 30/30 [00:08<00:00,  3.49it/s]]\n",
            "100%|██████████| 10/10 [00:02<00:00,  4.89it/s]\n",
            "100%|██████████| 30/30 [00:08<00:00,  3.46it/s]]\n",
            "100%|██████████| 10/10 [00:01<00:00,  5.04it/s]\n",
            "100%|██████████| 30/30 [00:08<00:00,  3.40it/s]]\n",
            "100%|██████████| 10/10 [00:02<00:00,  4.83it/s]\n",
            "100%|██████████| 30/30 [00:08<00:00,  3.36it/s]]\n",
            "100%|██████████| 10/10 [00:01<00:00,  5.33it/s]\n",
            "100%|██████████| 30/30 [00:08<00:00,  3.49it/s]]\n",
            "100%|██████████| 10/10 [00:01<00:00,  5.05it/s]\n",
            "100%|██████████| 30/30 [00:08<00:00,  3.37it/s]]\n",
            "100%|██████████| 10/10 [00:02<00:00,  4.87it/s]\n",
            "100%|██████████| 30/30 [00:08<00:00,  3.38it/s]]\n",
            "100%|██████████| 10/10 [00:01<00:00,  5.00it/s]\n",
            "100%|██████████| 30/30 [00:08<00:00,  3.60it/s]]\n",
            "100%|██████████| 10/10 [00:02<00:00,  4.89it/s]\n",
            "100%|██████████| 30/30 [00:08<00:00,  3.35it/s]]\n",
            "100%|██████████| 10/10 [00:02<00:00,  4.96it/s]\n",
            "100%|██████████| 30/30 [00:08<00:00,  3.40it/s]]\n",
            "100%|██████████| 10/10 [00:02<00:00,  4.57it/s]\n",
            "100%|██████████| 30/30 [00:08<00:00,  3.38it/s]]\n",
            "100%|██████████| 10/10 [00:02<00:00,  4.79it/s]\n",
            "100%|██████████| 30/30 [00:08<00:00,  3.48it/s]]\n",
            "100%|██████████| 10/10 [00:02<00:00,  4.98it/s]\n",
            "100%|██████████| 30/30 [00:08<00:00,  3.39it/s]]\n",
            "100%|██████████| 10/10 [00:02<00:00,  4.82it/s]\n",
            "100%|██████████| 30/30 [00:08<00:00,  3.38it/s]]\n",
            "100%|██████████| 10/10 [00:02<00:00,  4.80it/s]\n",
            "100%|██████████| 30/30 [00:08<00:00,  3.38it/s]]\n",
            "100%|██████████| 10/10 [00:02<00:00,  4.90it/s]\n",
            "100%|██████████| 30/30 [00:08<00:00,  3.37it/s]]\n",
            "100%|██████████| 10/10 [00:02<00:00,  4.43it/s]\n",
            "100%|██████████| 30/30 [00:09<00:00,  3.31it/s]]\n",
            "100%|██████████| 10/10 [00:02<00:00,  4.71it/s]\n",
            "100%|██████████| 30/30 [00:08<00:00,  3.41it/s]]\n",
            "100%|██████████| 10/10 [00:02<00:00,  4.52it/s]\n",
            "100%|██████████| 30/30 [00:09<00:00,  3.15it/s]]\n",
            "100%|██████████| 10/10 [00:02<00:00,  4.83it/s]\n",
            "100%|██████████| 30/30 [00:09<00:00,  3.26it/s]]\n",
            "100%|██████████| 10/10 [00:02<00:00,  4.52it/s]\n",
            "100%|██████████| 30/30 [00:09<00:00,  3.21it/s]]\n",
            "100%|██████████| 10/10 [00:02<00:00,  4.60it/s]\n",
            "100%|██████████| 30/30 [00:09<00:00,  3.21it/s]]\n",
            "100%|██████████| 10/10 [00:02<00:00,  4.54it/s]\n",
            "100%|██████████| 30/30 [00:08<00:00,  3.35it/s]]\n",
            "100%|██████████| 10/10 [00:02<00:00,  4.64it/s]\n",
            "100%|██████████| 30/30 [00:09<00:00,  3.16it/s]]\n",
            "100%|██████████| 10/10 [00:02<00:00,  4.77it/s]\n",
            "100%|██████████| 30/30 [00:09<00:00,  3.28it/s]]\n",
            "100%|██████████| 10/10 [00:02<00:00,  4.79it/s]\n",
            "100%|██████████| 30/30 [00:09<00:00,  3.33it/s]]\n",
            "100%|██████████| 10/10 [00:02<00:00,  4.50it/s]\n",
            "100%|██████████| 30/30 [00:09<00:00,  3.31it/s]]\n",
            "100%|██████████| 10/10 [00:02<00:00,  4.39it/s]\n",
            "100%|██████████| 30/30 [00:09<00:00,  3.20it/s]]\n",
            "100%|██████████| 10/10 [00:02<00:00,  4.58it/s]\n",
            "100%|██████████| 30/30 [00:09<00:00,  3.22it/s]]\n",
            "100%|██████████| 10/10 [00:02<00:00,  4.89it/s]\n",
            "100%|██████████| 30/30 [00:08<00:00,  3.39it/s]]\n",
            "100%|██████████| 10/10 [00:02<00:00,  4.54it/s]\n",
            "100%|██████████| 30/30 [00:09<00:00,  3.26it/s]]\n",
            "100%|██████████| 10/10 [00:02<00:00,  4.27it/s]\n",
            "100%|██████████| 30/30 [00:15<00:00,  1.89it/s]]\n",
            "100%|██████████| 10/10 [00:11<00:00,  1.13s/it]\n",
            "100%|██████████| 30/30 [00:38<00:00,  1.27s/it]]\n",
            "100%|██████████| 10/10 [00:02<00:00,  3.47it/s]\n",
            "100%|██████████| 30/30 [00:09<00:00,  3.23it/s]]\n",
            "100%|██████████| 10/10 [00:02<00:00,  4.74it/s]\n",
            "100%|██████████| 30/30 [00:09<00:00,  3.19it/s]]\n",
            "100%|██████████| 10/10 [00:02<00:00,  4.72it/s]\n",
            "100%|██████████| 30/30 [00:09<00:00,  3.20it/s]]\n",
            "100%|██████████| 10/10 [00:02<00:00,  4.92it/s]\n",
            "100%|██████████| 30/30 [00:09<00:00,  3.28it/s]]\n",
            "100%|██████████| 10/10 [00:02<00:00,  4.78it/s]\n",
            "100%|██████████| 30/30 [00:09<00:00,  3.33it/s]]\n",
            "100%|██████████| 10/10 [00:02<00:00,  4.55it/s]\n",
            "100%|██████████| 30/30 [00:09<00:00,  3.26it/s]]\n",
            "100%|██████████| 10/10 [00:02<00:00,  4.21it/s]\n",
            "100%|██████████| 30/30 [00:09<00:00,  3.25it/s]]\n",
            "100%|██████████| 10/10 [00:02<00:00,  4.50it/s]\n",
            "100%|██████████| 30/30 [00:09<00:00,  3.29it/s]]\n",
            "100%|██████████| 10/10 [00:02<00:00,  4.59it/s]\n",
            "100%|██████████| 30/30 [00:09<00:00,  3.27it/s]]\n",
            "100%|██████████| 10/10 [00:02<00:00,  4.70it/s]\n",
            "100%|██████████| 30/30 [00:08<00:00,  3.36it/s]]\n",
            "100%|██████████| 10/10 [00:02<00:00,  4.80it/s]\n",
            "100%|██████████| 30/30 [00:09<00:00,  3.28it/s]]\n",
            "100%|██████████| 10/10 [00:02<00:00,  4.91it/s]\n",
            "100%|██████████| 30/30 [00:09<00:00,  3.30it/s]]\n",
            "100%|██████████| 10/10 [00:02<00:00,  4.72it/s]\n",
            "100%|██████████| 30/30 [00:08<00:00,  3.34it/s]]\n",
            "100%|██████████| 10/10 [00:02<00:00,  4.67it/s]\n",
            "100%|██████████| 100/100 [19:33<00:00, 11.73s/it]\n"
          ]
        }
      ],
      "source": [
        "train(model,optim = optimizer,criterion = criterion,train_loader = train_dataloader, test_loader = test_dataloader, device=\"cuda:0\", epochs=epochs)\n",
        "# except KeyboardInterrupt:\n",
        "  # torch.save(model.state_dict(),\"/content/drive/MyDrive/Createch/Pool_Project/weigths/best_upgrade.txt\")"
      ]
    },
    {
      "cell_type": "markdown",
      "metadata": {
        "id": "hQLCIIgc0cq3"
      },
      "source": [
        "# Inference"
      ]
    },
    {
      "cell_type": "markdown",
      "metadata": {
        "id": "RkxBltXLHyS9"
      },
      "source": [
        "### Testing "
      ]
    },
    {
      "cell_type": "code",
      "execution_count": 25,
      "metadata": {
        "id": "967-9yFSo2Fr"
      },
      "outputs": [
        {
          "data": {
            "text/plain": [
              "myUnet(\n",
              "  (conv1): Conv2d(3, 32, kernel_size=(3, 3), stride=(1, 1), padding=(1, 1))\n",
              "  (conv2): Conv2d(32, 64, kernel_size=(3, 3), stride=(1, 1), padding=(1, 1))\n",
              "  (conv3): Conv2d(64, 32, kernel_size=(3, 3), stride=(1, 1), padding=(1, 1))\n",
              "  (conv6): Conv2d(64, 64, kernel_size=(3, 3), stride=(1, 1), padding=(1, 1))\n",
              "  (conv7): Conv2d(128, 32, kernel_size=(3, 3), stride=(1, 1), padding=(1, 1))\n",
              "  (conv8): Conv2d(64, 1, kernel_size=(3, 3), stride=(1, 1), padding=(1, 1))\n",
              "  (fc1): Linear(in_features=4096, out_features=128, bias=True)\n",
              "  (fc2): Linear(in_features=128, out_features=128, bias=True)\n",
              "  (fc3): Linear(in_features=128, out_features=4096, bias=True)\n",
              "  (maxpool): MaxPool2d(kernel_size=2, stride=2, padding=0, dilation=1, ceil_mode=False)\n",
              "  (upsample): Upsample(scale_factor=2.0, mode=bilinear)\n",
              "  (bn1): BatchNorm2d(32, eps=1e-05, momentum=0.1, affine=True, track_running_stats=True)\n",
              "  (bn2): BatchNorm2d(64, eps=1e-05, momentum=0.1, affine=True, track_running_stats=True)\n",
              "  (bn3): BatchNorm2d(32, eps=1e-05, momentum=0.1, affine=True, track_running_stats=True)\n",
              "  (bn4): BatchNorm2d(128, eps=1e-05, momentum=0.1, affine=True, track_running_stats=True)\n",
              "  (bn5): BatchNorm2d(64, eps=1e-05, momentum=0.1, affine=True, track_running_stats=True)\n",
              "  (bn6): BatchNorm2d(64, eps=1e-05, momentum=0.1, affine=True, track_running_stats=True)\n",
              "  (bn7): BatchNorm2d(32, eps=1e-05, momentum=0.1, affine=True, track_running_stats=True)\n",
              "  (bn8): BatchNorm2d(1, eps=1e-05, momentum=0.1, affine=True, track_running_stats=True)\n",
              "  (dropout): Dropout(p=0.2, inplace=False)\n",
              "  (activ_conv): ReLU()\n",
              "  (activ_linear): SELU()\n",
              "  (flatten): Flatten(start_dim=1, end_dim=-1)\n",
              "  (reshape): Unflatten(dim=1, unflattened_size=(32, 8, 16))\n",
              "  (final): Sigmoid()\n",
              ")"
            ]
          },
          "execution_count": 25,
          "metadata": {},
          "output_type": "execute_result"
        }
      ],
      "source": [
        "####################################### For testing purpose only #########################################\n",
        "# model = UNET(3,1)\n",
        "model.load_state_dict(torch.load(\"./best_upgrade_up.txt\", map_location = torch.device('cuda')))\n",
        "model.eval()\n",
        "model.cuda() ####TO CHANGE IF I HAVE COLAB CREDITS"
      ]
    },
    {
      "cell_type": "code",
      "execution_count": 26,
      "metadata": {
        "id": "r0ZYF8HLsBcs"
      },
      "outputs": [
        {
          "name": "stderr",
          "output_type": "stream",
          "text": [
            "Traceback (most recent call last):\n",
            "  File \"/usr/lib/python3.8/multiprocessing/util.py\", line 300, in _run_finalizers\n",
            "    finalizer()\n",
            "  File \"/usr/lib/python3.8/multiprocessing/util.py\", line 224, in __call__\n",
            "    res = self._callback(*self._args, **self._kwargs)\n",
            "  File \"/usr/lib/python3.8/multiprocessing/util.py\", line 133, in _remove_temp_dir\n",
            "    rmtree(tempdir)\n",
            "  File \"/usr/lib/python3.8/shutil.py\", line 722, in rmtree\n",
            "    onerror(os.rmdir, path, sys.exc_info())\n",
            "  File \"/usr/lib/python3.8/shutil.py\", line 720, in rmtree\n",
            "    os.rmdir(path)\n",
            "OSError: [Errno 39] Directory not empty: '/tmp/pymp-gsj257oj'\n"
          ]
        },
        {
          "name": "stdout",
          "output_type": "stream",
          "text": [
            "<class 'dict'>\n"
          ]
        }
      ],
      "source": [
        "sample = None\n",
        "for i, batch in enumerate(test_dataloader):\n",
        "  if i == 0:\n",
        "    sample = batch\n",
        "    break\n",
        "print(type(sample))\n",
        "transform = ToTen()\n",
        "# sample = transform(sample)\n",
        "image_sample , target= sample[\"image\"].to('cuda'), sample[\"target\"][0]\n",
        "output = model(image_sample)\n",
        "# output = None\n",
        "# \n",
        "# for sample in test_dataloader:\n",
        "  # with torch.inference_mode() :\n",
        "    # x, target = sample[\"image\"].to(\"cuda\"), sample[\"target\"]\n",
        "    # break\n",
        "# output"
      ]
    },
    {
      "cell_type": "code",
      "execution_count": 27,
      "metadata": {
        "id": "RvBxxaFtsPyO"
      },
      "outputs": [
        {
          "data": {
            "text/plain": [
              "tensor([[[0., 0., 0.,  ..., 0., 0., 0.],\n",
              "         [0., 0., 0.,  ..., 0., 0., 0.],\n",
              "         [0., 0., 0.,  ..., 0., 0., 0.],\n",
              "         ...,\n",
              "         [0., 0., 0.,  ..., 0., 0., 0.],\n",
              "         [0., 0., 0.,  ..., 0., 0., 0.],\n",
              "         [0., 0., 0.,  ..., 0., 0., 0.]]], device='cuda:0',\n",
              "       grad_fn=<ThresholdBackward0>)"
            ]
          },
          "execution_count": 27,
          "metadata": {},
          "output_type": "execute_result"
        }
      ],
      "source": [
        "# image_sample\n",
        "output.max()\n",
        "thresh = torch.nn.Threshold(0.9,0,inplace = False)\n",
        "logic = thresh(output[0])\n",
        "logic\n",
        "# torch.max(output)"
      ]
    },
    {
      "cell_type": "code",
      "execution_count": 28,
      "metadata": {
        "id": "dQNQxtyVYG-o"
      },
      "outputs": [],
      "source": [
        "hope_centered = get_center(logic)"
      ]
    },
    {
      "cell_type": "code",
      "execution_count": 29,
      "metadata": {
        "id": "L67fbwRB05i3"
      },
      "outputs": [
        {
          "data": {
            "text/plain": [
              "torch.Size([64, 128])"
            ]
          },
          "execution_count": 29,
          "metadata": {},
          "output_type": "execute_result"
        }
      ],
      "source": [
        "hope_centered = torch.squeeze(hope_centered, dim = 0)\n",
        "hope_centered.size()"
      ]
    },
    {
      "cell_type": "code",
      "execution_count": 30,
      "metadata": {
        "id": "vh-hT2zsziJE"
      },
      "outputs": [
        {
          "name": "stdout",
          "output_type": "stream",
          "text": [
            "Model output coords (x y) : \n",
            "[]\n"
          ]
        },
        {
          "ename": "RuntimeError",
          "evalue": "Boolean value of Tensor with more than one value is ambiguous",
          "output_type": "error",
          "traceback": [
            "\u001b[0;31m---------------------------------------------------------------------------\u001b[0m",
            "\u001b[0;31mRuntimeError\u001b[0m                              Traceback (most recent call last)",
            "\u001b[1;32m/home/alfred/nicolas/matthieu/Ball_tracking_u-net_V3.ipynb Cell 51\u001b[0m in \u001b[0;36m<module>\u001b[0;34m\u001b[0m\n\u001b[1;32m      <a href='vscode-notebook-cell:/home/alfred/nicolas/matthieu/Ball_tracking_u-net_V3.ipynb#Y101sZmlsZQ%3D%3D?line=1'>2</a>\u001b[0m \u001b[39mprint\u001b[39m(\u001b[39mf\u001b[39m\u001b[39m\"\u001b[39m\u001b[39mModel output coords (x y) : \u001b[39m\u001b[39m\\n\u001b[39;00m\u001b[39m{\u001b[39;00mpredict_coords\u001b[39m}\u001b[39;00m\u001b[39m\"\u001b[39m)\n\u001b[1;32m      <a href='vscode-notebook-cell:/home/alfred/nicolas/matthieu/Ball_tracking_u-net_V3.ipynb#Y101sZmlsZQ%3D%3D?line=2'>3</a>\u001b[0m \u001b[39m# print(target.size())\u001b[39;00m\n\u001b[0;32m----> <a href='vscode-notebook-cell:/home/alfred/nicolas/matthieu/Ball_tracking_u-net_V3.ipynb#Y101sZmlsZQ%3D%3D?line=3'>4</a>\u001b[0m target_coords \u001b[39m=\u001b[39m extract_coords(target)\n\u001b[1;32m      <a href='vscode-notebook-cell:/home/alfred/nicolas/matthieu/Ball_tracking_u-net_V3.ipynb#Y101sZmlsZQ%3D%3D?line=4'>5</a>\u001b[0m \u001b[39mprint\u001b[39m(\u001b[39mf\u001b[39m\u001b[39m\"\u001b[39m\u001b[39mTarget coords (x y) : \u001b[39m\u001b[39m\\n\u001b[39;00m\u001b[39m{\u001b[39;00mtarget_coords\u001b[39m}\u001b[39;00m\u001b[39m\"\u001b[39m)\n",
            "\u001b[1;32m/home/alfred/nicolas/matthieu/Ball_tracking_u-net_V3.ipynb Cell 51\u001b[0m in \u001b[0;36mextract_coords\u001b[0;34m(input)\u001b[0m\n\u001b[1;32m      <a href='vscode-notebook-cell:/home/alfred/nicolas/matthieu/Ball_tracking_u-net_V3.ipynb#Y101sZmlsZQ%3D%3D?line=4'>5</a>\u001b[0m \u001b[39mfor\u001b[39;00m y \u001b[39min\u001b[39;00m \u001b[39mrange\u001b[39m(height):\n\u001b[1;32m      <a href='vscode-notebook-cell:/home/alfred/nicolas/matthieu/Ball_tracking_u-net_V3.ipynb#Y101sZmlsZQ%3D%3D?line=5'>6</a>\u001b[0m   \u001b[39mfor\u001b[39;00m x \u001b[39min\u001b[39;00m \u001b[39mrange\u001b[39m(width):\n\u001b[0;32m----> <a href='vscode-notebook-cell:/home/alfred/nicolas/matthieu/Ball_tracking_u-net_V3.ipynb#Y101sZmlsZQ%3D%3D?line=6'>7</a>\u001b[0m     \u001b[39mif\u001b[39;00m \u001b[39minput\u001b[39m[y,x] \u001b[39m==\u001b[39m \u001b[39m1\u001b[39m \u001b[39mand\u001b[39;00m \u001b[39mnot\u001b[39;00m verif_close(coords,x,y):\n\u001b[1;32m      <a href='vscode-notebook-cell:/home/alfred/nicolas/matthieu/Ball_tracking_u-net_V3.ipynb#Y101sZmlsZQ%3D%3D?line=7'>8</a>\u001b[0m       coords[\u001b[39m0\u001b[39m]\u001b[39m.\u001b[39mappend(x)\n\u001b[1;32m      <a href='vscode-notebook-cell:/home/alfred/nicolas/matthieu/Ball_tracking_u-net_V3.ipynb#Y101sZmlsZQ%3D%3D?line=8'>9</a>\u001b[0m       coords[\u001b[39m1\u001b[39m]\u001b[39m.\u001b[39mappend(y)\n",
            "\u001b[0;31mRuntimeError\u001b[0m: Boolean value of Tensor with more than one value is ambiguous"
          ]
        }
      ],
      "source": [
        "predict_coords = extract_coords(hope_centered)\n",
        "print(f\"Model output coords (x y) : \\n{predict_coords}\")\n",
        "# print(target.size())\n",
        "target_coords = extract_coords(target)\n",
        "print(f\"Target coords (x y) : \\n{target_coords}\")"
      ]
    },
    {
      "cell_type": "code",
      "execution_count": null,
      "metadata": {
        "id": "SOsn0EXNaEoa"
      },
      "outputs": [
        {
          "data": {
            "text/plain": [
              "14.103686138808992"
            ]
          },
          "execution_count": 88,
          "metadata": {},
          "output_type": "execute_result"
        }
      ],
      "source": [
        "dist = mean_euclidian_distance(target_coords,predict_coords)\n",
        "dist"
      ]
    },
    {
      "cell_type": "code",
      "execution_count": null,
      "metadata": {
        "id": "i5gIlElbBsmX"
      },
      "outputs": [],
      "source": [
        "# model = UNET(3,1)\n",
        "# model.load_state_dict(torch.load(\"/content/drive/MyDrive/Createch/Pool_Project/weigths/best_upgrade.txt\", map_location = torch.device('cuda')))\n",
        "# model.eval()\n",
        "# model.cuda() ####TO CHANGE IF I HAVE COLAB CREDITS\n"
      ]
    },
    {
      "cell_type": "code",
      "execution_count": null,
      "metadata": {
        "id": "beLGYxxEjQHB"
      },
      "outputs": [
        {
          "name": "stdout",
          "output_type": "stream",
          "text": [
            "torch.Size([2, 64, 16, 32])\n",
            "torch.Size([2, 128, 32, 64])\n",
            "==========================================================================================\n",
            "Layer (type:depth-idx)                   Output Shape              Param #\n",
            "==========================================================================================\n",
            "├─Conv2d: 1-1                            [-1, 32, 64, 128]         896\n",
            "├─ReLU: 1-2                              [-1, 32, 64, 128]         --\n",
            "├─BatchNorm2d: 1-3                       [-1, 32, 64, 128]         64\n",
            "├─MaxPool2d: 1-4                         [-1, 32, 32, 64]          --\n",
            "├─Conv2d: 1-5                            [-1, 64, 32, 64]          18,496\n",
            "├─ReLU: 1-6                              [-1, 64, 32, 64]          --\n",
            "├─BatchNorm2d: 1-7                       [-1, 64, 32, 64]          128\n",
            "├─MaxPool2d: 1-8                         [-1, 64, 16, 32]          --\n",
            "├─Conv2d: 1-9                            [-1, 32, 16, 32]          18,464\n",
            "├─ReLU: 1-10                             [-1, 32, 16, 32]          --\n",
            "├─BatchNorm2d: 1-11                      [-1, 32, 16, 32]          64\n",
            "├─MaxPool2d: 1-12                        [-1, 32, 8, 16]           --\n",
            "├─Flatten: 1-13                          [-1, 4096]                --\n",
            "├─Linear: 1-14                           [-1, 128]                 524,416\n",
            "├─SELU: 1-15                             [-1, 128]                 --\n",
            "├─Dropout: 1-16                          [-1, 128]                 --\n",
            "├─Linear: 1-17                           [-1, 128]                 16,512\n",
            "├─SELU: 1-18                             [-1, 128]                 --\n",
            "├─Dropout: 1-19                          [-1, 128]                 --\n",
            "├─Linear: 1-20                           [-1, 4096]                528,384\n",
            "├─SELU: 1-21                             [-1, 4096]                --\n",
            "├─Unflatten: 1-22                        [-1, 32, 8, 16]           --\n",
            "├─Upsample: 1-23                         [-1, 32, 16, 32]          --\n",
            "├─Conv2d: 1-24                           [-1, 64, 16, 32]          36,928\n",
            "├─ReLU: 1-25                             [-1, 64, 16, 32]          --\n",
            "├─BatchNorm2d: 1-26                      [-1, 64, 16, 32]          128\n",
            "├─Upsample: 1-27                         [-1, 64, 32, 64]          --\n",
            "├─Conv2d: 1-28                           [-1, 32, 32, 64]          36,896\n",
            "├─ReLU: 1-29                             [-1, 32, 32, 64]          --\n",
            "├─BatchNorm2d: 1-30                      [-1, 32, 32, 64]          64\n",
            "├─Upsample: 1-31                         [-1, 32, 64, 128]         --\n",
            "├─Conv2d: 1-32                           [-1, 1, 64, 128]          577\n",
            "==========================================================================================\n",
            "Total params: 1,182,017\n",
            "Trainable params: 1,182,017\n",
            "Non-trainable params: 0\n",
            "Total mult-adds (M): 154.42\n",
            "==========================================================================================\n",
            "Input size (MB): 0.09\n",
            "Forward/backward pass size (MB): 7.85\n",
            "Params size (MB): 4.51\n",
            "Estimated Total Size (MB): 12.45\n",
            "==========================================================================================\n"
          ]
        },
        {
          "data": {
            "text/plain": [
              "==========================================================================================\n",
              "Layer (type:depth-idx)                   Output Shape              Param #\n",
              "==========================================================================================\n",
              "├─Conv2d: 1-1                            [-1, 32, 64, 128]         896\n",
              "├─ReLU: 1-2                              [-1, 32, 64, 128]         --\n",
              "├─BatchNorm2d: 1-3                       [-1, 32, 64, 128]         64\n",
              "├─MaxPool2d: 1-4                         [-1, 32, 32, 64]          --\n",
              "├─Conv2d: 1-5                            [-1, 64, 32, 64]          18,496\n",
              "├─ReLU: 1-6                              [-1, 64, 32, 64]          --\n",
              "├─BatchNorm2d: 1-7                       [-1, 64, 32, 64]          128\n",
              "├─MaxPool2d: 1-8                         [-1, 64, 16, 32]          --\n",
              "├─Conv2d: 1-9                            [-1, 32, 16, 32]          18,464\n",
              "├─ReLU: 1-10                             [-1, 32, 16, 32]          --\n",
              "├─BatchNorm2d: 1-11                      [-1, 32, 16, 32]          64\n",
              "├─MaxPool2d: 1-12                        [-1, 32, 8, 16]           --\n",
              "├─Flatten: 1-13                          [-1, 4096]                --\n",
              "├─Linear: 1-14                           [-1, 128]                 524,416\n",
              "├─SELU: 1-15                             [-1, 128]                 --\n",
              "├─Dropout: 1-16                          [-1, 128]                 --\n",
              "├─Linear: 1-17                           [-1, 128]                 16,512\n",
              "├─SELU: 1-18                             [-1, 128]                 --\n",
              "├─Dropout: 1-19                          [-1, 128]                 --\n",
              "├─Linear: 1-20                           [-1, 4096]                528,384\n",
              "├─SELU: 1-21                             [-1, 4096]                --\n",
              "├─Unflatten: 1-22                        [-1, 32, 8, 16]           --\n",
              "├─Upsample: 1-23                         [-1, 32, 16, 32]          --\n",
              "├─Conv2d: 1-24                           [-1, 64, 16, 32]          36,928\n",
              "├─ReLU: 1-25                             [-1, 64, 16, 32]          --\n",
              "├─BatchNorm2d: 1-26                      [-1, 64, 16, 32]          128\n",
              "├─Upsample: 1-27                         [-1, 64, 32, 64]          --\n",
              "├─Conv2d: 1-28                           [-1, 32, 32, 64]          36,896\n",
              "├─ReLU: 1-29                             [-1, 32, 32, 64]          --\n",
              "├─BatchNorm2d: 1-30                      [-1, 32, 32, 64]          64\n",
              "├─Upsample: 1-31                         [-1, 32, 64, 128]         --\n",
              "├─Conv2d: 1-32                           [-1, 1, 64, 128]          577\n",
              "==========================================================================================\n",
              "Total params: 1,182,017\n",
              "Trainable params: 1,182,017\n",
              "Non-trainable params: 0\n",
              "Total mult-adds (M): 154.42\n",
              "==========================================================================================\n",
              "Input size (MB): 0.09\n",
              "Forward/backward pass size (MB): 7.85\n",
              "Params size (MB): 4.51\n",
              "Estimated Total Size (MB): 12.45\n",
              "=========================================================================================="
            ]
          },
          "execution_count": 89,
          "metadata": {},
          "output_type": "execute_result"
        }
      ],
      "source": [
        "# summary(model,(128,64))\n",
        "summary(model,(3,64,128))#,batch_size=batch_size)"
      ]
    },
    {
      "cell_type": "code",
      "execution_count": 31,
      "metadata": {
        "id": "MfTeyvXL8NOi"
      },
      "outputs": [
        {
          "data": {
            "image/png": "[encoded data removed]",
            "text/plain": [
              "<Figure size 432x288 with 4 Axes>"
            ]
          },
          "metadata": {
            "needs_background": "light"
          },
          "output_type": "display_data"
        },
        {
          "ename": "",
          "evalue": "",
          "output_type": "error",
          "traceback": [
            "\u001b[1;31mThe Kernel crashed while executing code in the the current cell or a previous cell. Please review the code in the cell(s) to identify a possible cause of the failure. Click <a href='https://aka.ms/vscodeJupyterKernelCrash'>here</a> for more info. View Jupyter <a href='command:jupyter.viewOutput'>log</a> for further details."
          ]
        }
      ],
      "source": [
        "f, axarr = plt.subplots(2,2)\n",
        "\n",
        "to_pil = T.ToPILImage()\n",
        "# print(logic.size())\n",
        "\n",
        "# print(logic.size())\n",
        "\n",
        "axarr[0,0].imshow(to_pil(output[0]))\n",
        "axarr[0,0].title.set_text(\"1\")\n",
        "\n",
        "axarr[0,1].imshow(to_pil(logic))\n",
        "axarr[0,1].title.set_text(\"2\")\n",
        "\n",
        "axarr[1,0].imshow(to_pil(hope_centered))\n",
        "axarr[1,0].title.set_text(\"3\")\n",
        "\n",
        "axarr[1,1].imshow(to_pil(target))\n",
        "axarr[1,1].title.set_text(\"4\")\n"
      ]
    }
  ],
  "metadata": {
    "colab": {
      "collapsed_sections": [
        "gOpEO3AH1zoQ",
        "wuApBh1qKqbN",
        "Mi5mAwl-Kwbb"
      ],
      "provenance": []
    },
    "gpuClass": "standard",
    "kernelspec": {
      "display_name": "Python 3",
      "language": "python",
      "name": "python3"
    },
    "language_info": {
      "codemirror_mode": {
        "name": "ipython",
        "version": 3
      },
      "file_extension": ".py",
      "mimetype": "text/x-python",
      "name": "python",
      "nbconvert_exporter": "python",
      "pygments_lexer": "ipython3",
      "version": "3.8.10"
    },
    "vscode": {
      "interpreter": {
        "hash": "916dbcbb3f70747c44a77c7bcd40155683ae19c65e1c03b4aa3499c5328201f1"
      }
    }
  },
  "nbformat": 4,
  "nbformat_minor": 0
}
