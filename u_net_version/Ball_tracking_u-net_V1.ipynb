{
  "cells": [
    {
      "cell_type": "code",
      "execution_count": 1,
      "metadata": {
        "id": "kFF9NvvZapx9"
      },
      "outputs": [],
      "source": [
        "from __future__ import annotations\n",
        "\n",
        "from matplotlib import pyplot as plt, cm\n",
        "from PIL import Image, ImageOps\n",
        "from scipy.ndimage import gaussian_filter\n",
        "from torch.optim import SGD\n",
        "from torch.nn import BatchNorm2d,Conv2d,MSELoss, Linear, MaxPool2d, Module, Sequential, ReLU , ConvTranspose2d, Upsample, CrossEntropyLoss, Sigmoid\n",
        "from torch.utils.data import DataLoader, Dataset\n",
        "from torchsummary import summary\n",
        "from tqdm import tqdm\n",
        "\n",
        "import numpy as np\n",
        "import os,os.path\n",
        "import pandas as pd\n",
        "import time\n",
        "import torch\n",
        "import torch.nn as nn\n",
        "import torch.nn.functional as F\n",
        "import torchvision.transforms as T\n",
        "import random\n",
        "\n",
        "%matplotlib inline"
      ]
    },
    {
      "cell_type": "code",
      "execution_count": 2,
      "metadata": {
        "colab": {
          "base_uri": "https://localhost:8080/"
        },
        "id": "ukYowww6SRhw",
        "outputId": "192e57a0-5729-4f10-a5e6-7a12b8765e46"
      },
      "outputs": [],
      "source": [
        "# from google.colab import drive\n",
        "# drive.mount('/content/drive')"
      ]
    },
    {
      "cell_type": "markdown",
      "metadata": {
        "id": "1NVS267Bz4xv"
      },
      "source": [
        "# Dataset building"
      ]
    },
    {
      "cell_type": "markdown",
      "metadata": {
        "id": "eHVQXDuf1CUQ"
      },
      "source": [
        "### Transforms"
      ]
    },
    {
      "cell_type": "code",
      "execution_count": 3,
      "metadata": {
        "id": "MDcf8fRP1TRl"
      },
      "outputs": [],
      "source": [
        "class ToTen(object):\n",
        "    \"\"\"Convert PIL image and numpy ndarray in sample to Tensors.\"\"\"\n",
        "\n",
        "    def __call__(self, sample : dict) -> tuple[torch.tensor, torch.tensor] :\n",
        "        image, masks = sample['image'], sample['target']\n",
        "        masks_to_tensors = torch.from_numpy(masks)\n",
        "        masks_to_tensors = torch.unsqueeze(masks_to_tensors, dim = 0)\n",
        "        transform = T.ToTensor()\n",
        "        return {'image': transform(image),\n",
        "                'target': masks_to_tensors}\n",
        "    @property\n",
        "    def get_name(self) -> str:\n",
        "      return \"ToTensor\""
      ]
    },
    {
      "cell_type": "markdown",
      "metadata": {
        "id": "gOpEO3AH1zoQ"
      },
      "source": [
        "### Dataset class"
      ]
    },
    {
      "cell_type": "code",
      "execution_count": 4,
      "metadata": {
        "id": "f-qx0tsYay_U"
      },
      "outputs": [],
      "source": [
        "class PoolImageDatasetSimplest(Dataset):\n",
        "  global x_min,x_max,y_min,y_max, train_prop\n",
        "\n",
        "  #Dimensions of my pool\n",
        "  width , height = 1.900, 0.956\n",
        "  x_min,x_max = -(width/2),width/2\n",
        "  y_min,y_max = -(height/2),height/2\n",
        "  train_prop = 0.75\n",
        "\n",
        "  def __init__(\n",
        "      self,\n",
        "      transforms = None,\n",
        "      csv_file_path : str = './coords.csv',\n",
        "      data_path : str = \"./images/\",\n",
        "      train : bool = True\n",
        "      ) -> None:\n",
        "\n",
        "    super().__init__()\n",
        "    self.labels = pd.read_csv(csv_file_path)\n",
        "    self.images_path = data_path\n",
        "    self.transforms = transforms\n",
        "    #define the resolution of the image in order to do the origine translation\n",
        "    self.image_width, self.image_height = Image.open(data_path+\"0.png\").size\n",
        "    # calling the cleaning function that includes mapping and translation of x and y\n",
        "    self._clean_values()\n",
        "    self.train = train\n",
        "    self.len = self.__len__()\n",
        "\n",
        "  @staticmethod\n",
        "  def mapping_and_translation(\n",
        "      value : float,\n",
        "      actual_ref_min : float,\n",
        "      actual_ref_max : float,\n",
        "      offset : int # offset = translation quantity\n",
        "      ) -> int : \n",
        "      \n",
        "      new_ref_max = offset\n",
        "      new_ref_min = -offset\n",
        "\n",
        "       # +0.5 is just for the rounding by excess\n",
        "       # And for the math formula I took the one from arduino function \"map()\"\n",
        "      new_value = int(((value - actual_ref_min) * (new_ref_max - new_ref_min)/ (actual_ref_max - actual_ref_min) + new_ref_min))\n",
        "      return new_value + offset\n",
        "    \n",
        "  def _clean_values(self):\n",
        "    # Removing Z value \n",
        "    self.labels.drop('z', inplace = True,axis=1)\n",
        "    #Removing all extreme X and Y values that are out of the pool table\n",
        "    self.labels.drop(self.labels[(self.labels['x']>=x_max) | (self.labels['x'] <= x_min) ].index, inplace=True) \n",
        "    self.labels.drop(self.labels[(self.labels.y >= y_max) | (self.labels.y <= y_min) ].index, inplace=True) #\n",
        "\n",
        "    #change coords if the translation changed\n",
        "    self.labels[\"x\"] = self.labels[\"x\"].apply(lambda x : self.mapping_and_translation(x,x_min,x_max,int(self.image_width/2)))\n",
        "    self.labels[\"y\"] = self.labels[\"y\"].apply(lambda y : self.mapping_and_translation(y,y_min,y_max,int(self.image_height/2)))\n",
        "  \n",
        "  def draw_ones(self,coords : np.ndarray) -> np.ndarray :\n",
        "    # print(coords)\n",
        "    arr = np.zeros((self.image_height,self.image_width),dtype = np.float32)\n",
        "    for x, y in coords:\n",
        "      arr[self.image_height - y,x] = 1.0 # self.image_height-y to flip\n",
        "    # arr_gaussian = gaussian_filter(arr, sigma=1.5)\n",
        "    # return torch.from_numpy(arr_gaussian)\n",
        "    return arr.astype(dtype=np.float32)\n",
        "\n",
        "  def __len__(self):\n",
        "    return int(len(os.listdir(self.images_path)) * train_prop) if self.train else int(len(os.listdir(self.images_path)) * (1-train_prop))\n",
        "  \n",
        "  def __getitem__(self, idx) -> dict:\n",
        "    if not self.train :\n",
        "      idx = idx + self.len\n",
        "    if torch.is_tensor(idx):\n",
        "        idx = idx.tolist()\n",
        "\n",
        "    img_name = os.path.join(self.images_path,\n",
        "                              f\"{str(idx)}.png\")\n",
        "    image = Image.open(img_name).convert('RGB') #Apply rgb conversion -> have 3 input channels instead of 4\n",
        "\n",
        "    coords = np.array(self.labels[self.labels.id == idx].iloc[:,[1,2]])\n",
        "    \n",
        "    # print(coords)\n",
        "\n",
        "    target = self.draw_ones(coords)\n",
        "    # print(type(target[0]))\n",
        "    sample = {'image': image, 'target': target}\n",
        "\n",
        "    if self.transforms:\n",
        "      sample = self.transforms(sample)\n",
        "\n",
        "\n",
        "    return sample"
      ]
    },
    {
      "cell_type": "code",
      "execution_count": 5,
      "metadata": {
        "id": "M2p1c89YwYlo"
      },
      "outputs": [],
      "source": [
        "# csv_file_path =\"/content/drive/MyDrive/Createch/Pool_Project/.dataset/coords.csv\"\n",
        "# data_path =\"/content/drive/MyDrive/Createch/Pool_Project/.dataset/images/\"\n",
        "csv_file_path = \"./.dataset/coords.csv\"\n",
        "data_path = \"./.dataset/images/\""
      ]
    },
    {
      "cell_type": "code",
      "execution_count": 6,
      "metadata": {
        "id": "tjOTPCLebiax"
      },
      "outputs": [],
      "source": [
        "dataset = PoolImageDatasetSimplest(csv_file_path=csv_file_path,data_path = data_path, train = True)"
      ]
    },
    {
      "cell_type": "code",
      "execution_count": 7,
      "metadata": {
        "colab": {
          "base_uri": "https://localhost:8080/",
          "height": 235
        },
        "id": "yVJvVbbqb1mo",
        "outputId": "b5d6f5b6-99ac-4054-ec78-255fde76addd"
      },
      "outputs": [
        {
          "data": {
            "text/plain": [
              "<matplotlib.image.AxesImage at 0x7f2681119a00>"
            ]
          },
          "execution_count": 7,
          "metadata": {},
          "output_type": "execute_result"
        },
        {
          "data": {
            "image/png": "[encoded data removed]",
            "text/plain": [
              "<Figure size 432x288 with 1 Axes>"
            ]
          },
          "metadata": {
            "needs_background": "light"
          },
          "output_type": "display_data"
        }
      ],
      "source": [
        "plt.imshow(dataset[0][\"image\"])"
      ]
    },
    {
      "cell_type": "code",
      "execution_count": 8,
      "metadata": {
        "colab": {
          "base_uri": "https://localhost:8080/",
          "height": 235
        },
        "id": "37ijrU8PfM_m",
        "outputId": "9b799dec-e07c-4468-ea94-f82ff825c0f0"
      },
      "outputs": [
        {
          "data": {
            "text/plain": [
              "<matplotlib.image.AxesImage at 0x7f26812f4520>"
            ]
          },
          "execution_count": 8,
          "metadata": {},
          "output_type": "execute_result"
        },
        {
          "data": {
            "image/png": "[encoded data removed]",
            "text/plain": [
              "<Figure size 432x288 with 1 Axes>"
            ]
          },
          "metadata": {
            "needs_background": "light"
          },
          "output_type": "display_data"
        }
      ],
      "source": [
        "target = dataset[0][\"target\"]\n",
        "plt.imshow(target)"
      ]
    },
    {
      "cell_type": "markdown",
      "metadata": {
        "id": "C6u4B2sYz9rs"
      },
      "source": [
        "### DataLoader"
      ]
    },
    {
      "cell_type": "code",
      "execution_count": 9,
      "metadata": {
        "id": "Q7AsjNtC0BW7"
      },
      "outputs": [],
      "source": [
        "batch_size = 64\n",
        "train_dataset = PoolImageDatasetSimplest(transforms=ToTen(),csv_file_path=csv_file_path,data_path = data_path,train = True)\n",
        "test_dataset = PoolImageDatasetSimplest(transforms=ToTen(),csv_file_path=csv_file_path,data_path = data_path,train = False)\n",
        "train_dataloader = DataLoader(train_dataset,batch_size=batch_size,shuffle = True,num_workers=2)\n",
        "test_dataloader = DataLoader(test_dataset,batch_size=batch_size,shuffle = False,num_workers=2)"
      ]
    },
    {
      "cell_type": "code",
      "execution_count": 10,
      "metadata": {
        "colab": {
          "base_uri": "https://localhost:8080/"
        },
        "id": "SUAr3Jluk4pG",
        "outputId": "c79e2a0e-3a6a-4f24-a7cc-8d2c095083e5"
      },
      "outputs": [
        {
          "data": {
            "text/plain": [
              "torch.Size([3, 64, 128])"
            ]
          },
          "execution_count": 10,
          "metadata": {},
          "output_type": "execute_result"
        }
      ],
      "source": [
        "train_dataset[0][\"image\"].size()"
      ]
    },
    {
      "cell_type": "markdown",
      "metadata": {
        "id": "90w7DXMRoW-5"
      },
      "source": [
        "# Model building\n",
        "\n",
        "Building a U-Net, you have to define different parts of the model.\n",
        "\n",
        "As the name indicate, it's built in U shape. First you have to go down, using convolution and pooling. Then you go up and add previous states.\n",
        "\n",
        "At the end, we do an upscaling and conv to retrieve our original size."
      ]
    },
    {
      "cell_type": "markdown",
      "metadata": {
        "id": "r1uzHYkqKIkR"
      },
      "source": [
        "### Building convolution"
      ]
    },
    {
      "cell_type": "code",
      "execution_count": 11,
      "metadata": {
        "id": "QAiWDGKjKIBJ"
      },
      "outputs": [],
      "source": [
        "class DoubleConv(Module):\n",
        "    \"\"\"(convolution => [BN] => ReLU) * 2\"\"\"\n",
        "\n",
        "    def __init__(self, in_channels, out_channels, mid_channels=None):\n",
        "        super().__init__()\n",
        "        if not mid_channels:\n",
        "            mid_channels = out_channels\n",
        "        self.double_conv = Sequential(\n",
        "            Conv2d(in_channels, mid_channels, kernel_size=3, padding=1, bias=False),\n",
        "            BatchNorm2d(mid_channels),\n",
        "            ReLU(inplace=True),\n",
        "            Conv2d(mid_channels, out_channels, kernel_size=3, padding=1, bias=False),\n",
        "            BatchNorm2d(out_channels),\n",
        "            ReLU(inplace=True)\n",
        "        )\n",
        "\n",
        "    def forward(self, x):\n",
        "        return self.double_conv(x)"
      ]
    },
    {
      "cell_type": "markdown",
      "metadata": {
        "id": "HZGTJ7sfLo3K"
      },
      "source": [
        "### Building Down"
      ]
    },
    {
      "cell_type": "code",
      "execution_count": 12,
      "metadata": {
        "id": "CchJPUabKH7x"
      },
      "outputs": [],
      "source": [
        "class Down(Module):\n",
        "    \"\"\"Downscaling with maxpool then double conv\"\"\"\n",
        "\n",
        "    def __init__(self, in_channels, out_channels):\n",
        "        super().__init__()\n",
        "        self.maxpool_conv = Sequential(\n",
        "            MaxPool2d(2),\n",
        "            DoubleConv(in_channels, out_channels)\n",
        "        )\n",
        "\n",
        "    def forward(self, x):\n",
        "        return self.maxpool_conv(x)"
      ]
    },
    {
      "cell_type": "markdown",
      "metadata": {
        "id": "0f0DsNWMMRda"
      },
      "source": [
        "### Building Up"
      ]
    },
    {
      "cell_type": "code",
      "execution_count": 13,
      "metadata": {
        "id": "zW58M9kEKHzk"
      },
      "outputs": [],
      "source": [
        "class Up(Module):\n",
        "    \"\"\"Upscaling then double conv\"\"\"\n",
        "\n",
        "    def __init__(self, in_channels, out_channels) : #, bilinear=True):\n",
        "        super().__init__()\n",
        "\n",
        "        # # if bilinear, use the normal convolutions to reduce the number of channels\n",
        "        # if bilinear:\n",
        "        #     self.up = Upsample(scale_factor=2, mode='bilinear', align_corners=True)\n",
        "        #     self.conv = DoubleConv(in_channels, out_channels, in_channels // 2)\n",
        "        # else:\n",
        "        self.up = ConvTranspose2d(in_channels, in_channels // 2, kernel_size=2, stride=2)\n",
        "        self.conv = DoubleConv(in_channels, out_channels)\n",
        "\n",
        "    def forward(self, x1, x2):\n",
        "        x1 = self.up(x1)\n",
        "        # input is CHW\n",
        "        diffY = x2.size()[2] - x1.size()[2]\n",
        "        diffX = x2.size()[3] - x1.size()[3]\n",
        "\n",
        "        x1 = F.pad(x1, [diffX // 2, diffX - diffX // 2,\n",
        "                        diffY // 2, diffY - diffY // 2])\n",
        "\n",
        "        x = torch.cat([x2, x1], dim=1)\n",
        "        return self.conv(x)"
      ]
    },
    {
      "cell_type": "markdown",
      "metadata": {
        "id": "y_HikSBqMVZP"
      },
      "source": [
        "### Building the final convolution\n"
      ]
    },
    {
      "cell_type": "code",
      "execution_count": 14,
      "metadata": {
        "id": "CC39DiUtMaxj"
      },
      "outputs": [],
      "source": [
        "class FinalConv(Module):\n",
        "    def __init__(self, in_channels, out_channels):\n",
        "        super(FinalConv, self).__init__()\n",
        "        self.conv = Conv2d(in_channels, out_channels, kernel_size=1)\n",
        "\n",
        "    def forward(self, x):\n",
        "        return self.conv(x)"
      ]
    },
    {
      "cell_type": "markdown",
      "metadata": {
        "id": "b9LsACoaMh4A"
      },
      "source": [
        "### Building the U-NET model\n"
      ]
    },
    {
      "cell_type": "code",
      "execution_count": 15,
      "metadata": {
        "id": "bewT_UyNolDe"
      },
      "outputs": [],
      "source": [
        "class UNET(Module):\n",
        "  def __init__(self, n_channels, n_classes,bilinear = False) -> None:\n",
        "    super().__init__()\n",
        "\n",
        "    self.n_channels = n_channels\n",
        "    self.n_classes = n_classes\n",
        "    self.bilinear = bilinear\n",
        "\n",
        "    self.inc = DoubleConv(n_channels, 64)\n",
        "    self.down1 = Down(64, 128)\n",
        "    self.down2 = Down(128, 256)\n",
        "    self.down3 = Down(256, 512)\n",
        "    factor = 2 if bilinear else 1\n",
        "    self.down4 = Down(512, 1024 // factor)\n",
        "    self.up1 = Up(1024, 512 // factor)#, bilinear)\n",
        "    self.up2 = Up(512, 256 // factor )#, bilinear)\n",
        "    self.up3 = Up(256, 128 // factor )#, bilinear)\n",
        "    self.up4 = Up(128, 64)#, bilinear)\n",
        "    self.fconv = FinalConv(64, n_classes)\n",
        "    self.sig = Sigmoid()\n",
        "\n",
        "  def forward(self, x):\n",
        "    x1 = self.inc(x)\n",
        "    x2 = self.down1(x1)\n",
        "    x3 = self.down2(x2)\n",
        "    x4 = self.down3(x3)\n",
        "    x5 = self.down4(x4)\n",
        "    x = self.up1(x5, x4)\n",
        "    x = self.up2(x, x3)\n",
        "    x = self.up3(x, x2)\n",
        "    x = self.up4(x, x1)\n",
        "    logits = self.fconv(x)\n",
        "    \n",
        "    return self.sig(logits)\n",
        "\n"
      ]
    },
    {
      "cell_type": "markdown",
      "metadata": {
        "id": "CAk41sxetoYX"
      },
      "source": [
        "# Train"
      ]
    },
    {
      "cell_type": "markdown",
      "metadata": {
        "id": "BMlrRIvrtsVH"
      },
      "source": [
        "### hyperparameters"
      ]
    },
    {
      "cell_type": "code",
      "execution_count": 16,
      "metadata": {
        "id": "0EUTmDuhtvtX"
      },
      "outputs": [
        {
          "name": "stdout",
          "output_type": "stream",
          "text": [
            "==========================================================================================\n",
            "Layer (type:depth-idx)                   Output Shape              Param #\n",
            "==========================================================================================\n",
            "├─DoubleConv: 1-1                        [-1, 64, 64, 128]         --\n",
            "|    └─Sequential: 2-1                   [-1, 64, 64, 128]         --\n",
            "|    |    └─Conv2d: 3-1                  [-1, 64, 64, 128]         1,728\n",
            "|    |    └─BatchNorm2d: 3-2             [-1, 64, 64, 128]         128\n",
            "|    |    └─ReLU: 3-3                    [-1, 64, 64, 128]         --\n",
            "|    |    └─Conv2d: 3-4                  [-1, 64, 64, 128]         36,864\n",
            "|    |    └─BatchNorm2d: 3-5             [-1, 64, 64, 128]         128\n",
            "|    |    └─ReLU: 3-6                    [-1, 64, 64, 128]         --\n",
            "├─Down: 1-2                              [-1, 128, 32, 64]         --\n",
            "|    └─Sequential: 2-2                   [-1, 128, 32, 64]         --\n",
            "|    |    └─MaxPool2d: 3-7               [-1, 64, 32, 64]          --\n",
            "|    |    └─DoubleConv: 3-8              [-1, 128, 32, 64]         221,696\n",
            "├─Down: 1-3                              [-1, 256, 16, 32]         --\n",
            "|    └─Sequential: 2-3                   [-1, 256, 16, 32]         --\n",
            "|    |    └─MaxPool2d: 3-9               [-1, 128, 16, 32]         --\n",
            "|    |    └─DoubleConv: 3-10             [-1, 256, 16, 32]         885,760\n",
            "├─Down: 1-4                              [-1, 512, 8, 16]          --\n",
            "|    └─Sequential: 2-4                   [-1, 512, 8, 16]          --\n",
            "|    |    └─MaxPool2d: 3-11              [-1, 256, 8, 16]          --\n",
            "|    |    └─DoubleConv: 3-12             [-1, 512, 8, 16]          3,540,992\n",
            "├─Down: 1-5                              [-1, 1024, 4, 8]          --\n",
            "|    └─Sequential: 2-5                   [-1, 1024, 4, 8]          --\n",
            "|    |    └─MaxPool2d: 3-13              [-1, 512, 4, 8]           --\n",
            "|    |    └─DoubleConv: 3-14             [-1, 1024, 4, 8]          14,159,872\n",
            "├─Up: 1-6                                [-1, 512, 8, 16]          --\n",
            "|    └─ConvTranspose2d: 2-6              [-1, 512, 8, 16]          2,097,664\n",
            "|    └─DoubleConv: 2-7                   [-1, 512, 8, 16]          --\n",
            "|    |    └─Sequential: 3-15             [-1, 512, 8, 16]          7,079,936\n",
            "├─Up: 1-7                                [-1, 256, 16, 32]         --\n",
            "|    └─ConvTranspose2d: 2-8              [-1, 256, 16, 32]         524,544\n",
            "|    └─DoubleConv: 2-9                   [-1, 256, 16, 32]         --\n",
            "|    |    └─Sequential: 3-16             [-1, 256, 16, 32]         1,770,496\n",
            "├─Up: 1-8                                [-1, 128, 32, 64]         --\n",
            "|    └─ConvTranspose2d: 2-10             [-1, 128, 32, 64]         131,200\n",
            "|    └─DoubleConv: 2-11                  [-1, 128, 32, 64]         --\n",
            "|    |    └─Sequential: 3-17             [-1, 128, 32, 64]         442,880\n",
            "├─Up: 1-9                                [-1, 64, 64, 128]         --\n",
            "|    └─ConvTranspose2d: 2-12             [-1, 64, 64, 128]         32,832\n",
            "|    └─DoubleConv: 2-13                  [-1, 64, 64, 128]         --\n",
            "|    |    └─Sequential: 3-18             [-1, 64, 64, 128]         110,848\n",
            "├─FinalConv: 1-10                        [-1, 1, 64, 128]          --\n",
            "|    └─Conv2d: 2-14                      [-1, 1, 64, 128]          65\n",
            "├─Sigmoid: 1-11                          [-1, 1, 64, 128]          --\n",
            "==========================================================================================\n",
            "Total params: 31,037,633\n",
            "Trainable params: 31,037,633\n",
            "Non-trainable params: 0\n",
            "Total mult-adds (G): 5.12\n",
            "==========================================================================================\n",
            "Input size (MB): 0.09\n",
            "Forward/backward pass size (MB): 53.56\n",
            "Params size (MB): 118.40\n",
            "Estimated Total Size (MB): 172.06\n",
            "==========================================================================================\n"
          ]
        }
      ],
      "source": [
        "model = UNET(3,1)\n",
        "model.to(\"cuda\")\n",
        "summary(model, (3,64,128)) #batch_size = 128)  # 128, 3, 64, 128\n",
        "lr = 1e-3\n",
        "optimizer = SGD(model.parameters(),lr=lr)\n",
        "criterion = nn.BCEWithLogitsLoss()\n",
        "criterion = criterion.to(\"cuda\")\n",
        "epochs = 30"
      ]
    },
    {
      "cell_type": "markdown",
      "metadata": {
        "id": "q7uFX7IqcKiD"
      },
      "source": [
        "### Visualization setup\n"
      ]
    },
    {
      "cell_type": "code",
      "execution_count": 17,
      "metadata": {
        "colab": {
          "base_uri": "https://localhost:8080/",
          "height": 1000
        },
        "id": "jBI2r1_zcPNo",
        "outputId": "a20ca849-1161-47a2-eac3-7210bdc171a3"
      },
      "outputs": [
        {
          "name": "stdout",
          "output_type": "stream",
          "text": [
            "Error processing line 1 of /home/alfred/miniconda3/lib/python3.9/site-packages/distutils-precedence.pth:\n",
            "\n",
            "  Traceback (most recent call last):\n",
            "    File \"/home/alfred/miniconda3/lib/python3.9/site.py\", line 169, in addpackage\n",
            "      exec(line)\n",
            "    File \"<string>\", line 1, in <module>\n",
            "  ModuleNotFoundError: No module named '_distutils_hack'\n",
            "\n",
            "Remainder of file ignored\n",
            "Collecting wandb\n",
            "  Using cached wandb-0.13.7-py2.py3-none-any.whl (1.9 MB)\n",
            "Requirement already satisfied: psutil>=5.0.0 in /home/alfred/miniconda3/lib/python3.9/site-packages (from wandb) (5.9.4)\n",
            "Collecting docker-pycreds>=0.4.0\n",
            "  Using cached docker_pycreds-0.4.0-py2.py3-none-any.whl (9.0 kB)\n",
            "Requirement already satisfied: setuptools in /home/alfred/miniconda3/lib/python3.9/site-packages (from wandb) (3.3)\n",
            "Collecting promise<3,>=2.0\n",
            "  Using cached promise-2.3.tar.gz (19 kB)\n",
            "  Preparing metadata (setup.py) ... \u001b[?25lerror\n",
            "  \u001b[1;31merror\u001b[0m: \u001b[1msubprocess-exited-with-error\u001b[0m\n",
            "  \n",
            "  \u001b[31m×\u001b[0m \u001b[32mpython setup.py egg_info\u001b[0m did not run successfully.\n",
            "  \u001b[31m│\u001b[0m exit code: \u001b[1;36m1\u001b[0m\n",
            "  \u001b[31m╰─>\u001b[0m \u001b[31m[21 lines of output]\u001b[0m\n",
            "  \u001b[31m   \u001b[0m Error processing line 1 of /home/alfred/miniconda3/lib/python3.9/site-packages/distutils-precedence.pth:\n",
            "  \u001b[31m   \u001b[0m \n",
            "  \u001b[31m   \u001b[0m   Traceback (most recent call last):\n",
            "  \u001b[31m   \u001b[0m     File \"/home/alfred/miniconda3/lib/python3.9/site.py\", line 169, in addpackage\n",
            "  \u001b[31m   \u001b[0m       exec(line)\n",
            "  \u001b[31m   \u001b[0m     File \"<string>\", line 1, in <module>\n",
            "  \u001b[31m   \u001b[0m   ModuleNotFoundError: No module named '_distutils_hack'\n",
            "  \u001b[31m   \u001b[0m \n",
            "  \u001b[31m   \u001b[0m Remainder of file ignored\n",
            "  \u001b[31m   \u001b[0m Traceback (most recent call last):\n",
            "  \u001b[31m   \u001b[0m   File \"<string>\", line 2, in <module>\n",
            "  \u001b[31m   \u001b[0m   File \"<pip-setuptools-caller>\", line 14, in <module>\n",
            "  \u001b[31m   \u001b[0m   File \"/home/alfred/miniconda3/lib/python3.9/site-packages/setuptools/__init__.py\", line 12, in <module>\n",
            "  \u001b[31m   \u001b[0m     from setuptools.extension import Extension\n",
            "  \u001b[31m   \u001b[0m   File \"/home/alfred/miniconda3/lib/python3.9/site-packages/setuptools/extension.py\", line 7, in <module>\n",
            "  \u001b[31m   \u001b[0m     from setuptools.dist import _get_unpatched\n",
            "  \u001b[31m   \u001b[0m   File \"/home/alfred/miniconda3/lib/python3.9/site-packages/setuptools/dist.py\", line 16, in <module>\n",
            "  \u001b[31m   \u001b[0m     import pkg_resources\n",
            "  \u001b[31m   \u001b[0m   File \"/home/alfred/miniconda3/lib/python3.9/site-packages/pkg_resources.py\", line 1479, in <module>\n",
            "  \u001b[31m   \u001b[0m     register_loader_type(importlib_bootstrap.SourceFileLoader, DefaultProvider)\n",
            "  \u001b[31m   \u001b[0m AttributeError: module 'importlib._bootstrap' has no attribute 'SourceFileLoader'\n",
            "  \u001b[31m   \u001b[0m \u001b[31m[end of output]\u001b[0m\n",
            "  \n",
            "  \u001b[1;35mnote\u001b[0m: This error originates from a subprocess, and is likely not a problem with pip.\n",
            "\u001b[?25h\u001b[1;31merror\u001b[0m: \u001b[1mmetadata-generation-failed\u001b[0m\n",
            "\n",
            "\u001b[31m×\u001b[0m Encountered error while generating package metadata.\n",
            "\u001b[31m╰─>\u001b[0m See above for output.\n",
            "\n",
            "\u001b[1;35mnote\u001b[0m: This is an issue with the package mentioned above, not pip.\n",
            "\u001b[1;36mhint\u001b[0m: See above for details.\n"
          ]
        },
        {
          "name": "stderr",
          "output_type": "stream",
          "text": [
            "/usr/lib/python3/dist-packages/requests/__init__.py:89: RequestsDependencyWarning: urllib3 (1.26.12) or chardet (3.0.4) doesn't match a supported version!\n",
            "  warnings.warn(\"urllib3 ({}) or chardet ({}) doesn't match a supported \"\n",
            "Failed to detect the name of this notebook, you can set it manually with the WANDB_NOTEBOOK_NAME environment variable to enable code saving.\n",
            "/usr/lib/python3/dist-packages/requests/__init__.py:89: RequestsDependencyWarning: urllib3 (1.26.12) or chardet (3.0.4) doesn't match a supported version!\n",
            "  warnings.warn(\"urllib3 ({}) or chardet ({}) doesn't match a supported \"\n",
            "\u001b[34m\u001b[1mwandb\u001b[0m: Currently logged in as: \u001b[33msn00wden\u001b[0m. Use \u001b[1m`wandb login --relogin`\u001b[0m to force relogin\n"
          ]
        },
        {
          "data": {
            "text/plain": [
              "True"
            ]
          },
          "execution_count": 17,
          "metadata": {},
          "output_type": "execute_result"
        }
      ],
      "source": [
        "!pip3 install wandb\n",
        "import wandb\n",
        "\n",
        "wandb.login()"
      ]
    },
    {
      "cell_type": "code",
      "execution_count": 18,
      "metadata": {
        "colab": {
          "base_uri": "https://localhost:8080/",
          "height": 108
        },
        "id": "XsnwOPDuc6LU",
        "outputId": "45220631-6e14-49f7-cef9-ef613c0ac095"
      },
      "outputs": [
        {
          "data": {
            "text/html": [
              "wandb version 0.13.7 is available!  To upgrade, please run:\n",
              " $ pip install wandb --upgrade"
            ],
            "text/plain": [
              "<IPython.core.display.HTML object>"
            ]
          },
          "metadata": {},
          "output_type": "display_data"
        },
        {
          "data": {
            "text/html": [
              "Tracking run with wandb version 0.13.4"
            ],
            "text/plain": [
              "<IPython.core.display.HTML object>"
            ]
          },
          "metadata": {},
          "output_type": "display_data"
        },
        {
          "data": {
            "text/html": [
              "Run data is saved locally in <code>/home/alfred/nicolas/matthieu/wandb/run-20230110_161141-211xs8t7</code>"
            ],
            "text/plain": [
              "<IPython.core.display.HTML object>"
            ]
          },
          "metadata": {},
          "output_type": "display_data"
        },
        {
          "data": {
            "text/html": [
              "Syncing run <strong><a href=\"https://wandb.ai/sn00wden/simplest_IA/runs/211xs8t7\" target=\"_blank\">experiment_w_Unet_V1</a></strong> to <a href=\"https://wandb.ai/sn00wden/simplest_IA\" target=\"_blank\">Weights & Biases</a> (<a href=\"https://wandb.me/run\" target=\"_blank\">docs</a>)<br/>"
            ],
            "text/plain": [
              "<IPython.core.display.HTML object>"
            ]
          },
          "metadata": {},
          "output_type": "display_data"
        },
        {
          "data": {
            "text/html": [
              "<button onClick=\"this.nextSibling.style.display='block';this.style.display='none';\">Display W&B run</button><iframe src=\"https://wandb.ai/sn00wden/simplest_IA/runs/211xs8t7?jupyter=true\" style=\"border:none;width:100%;height:420px;display:none;\"></iframe>"
            ],
            "text/plain": [
              "<wandb.sdk.wandb_run.Run at 0x7f267582dd30>"
            ]
          },
          "execution_count": 18,
          "metadata": {},
          "output_type": "execute_result"
        }
      ],
      "source": [
        "\n",
        "wandb.init(\n",
        "      # Set the project where this run will be logged\n",
        "      project=\"simplest_IA\", \n",
        "      # We pass a run name (otherwise it’ll be randomly assigned, like sunshine-lollypop-10)\n",
        "      name=f\"experiment_w_Unet_V1\", \n",
        "      # Track hyperparameters and run metadata\n",
        "      config={\n",
        "      \"learning_rate\": lr,\n",
        "      \"architecture\": \"U-NET\",\n",
        "      \"dataset\": \"Blender_Dataset\",\n",
        "      \"dataset_size\" : 10000,\n",
        "      \"loss\" : \"BCELoss\",\n",
        "      \"epochs\": epochs,\n",
        "      \"batch_size\": batch_size,\n",
        "\n",
        "      })"
      ]
    },
    {
      "cell_type": "code",
      "execution_count": null,
      "metadata": {},
      "outputs": [],
      "source": [
        "wandb.watch(\n",
        "    model,\n",
        "    criterion = criterion,\n",
        "    log = 'all',\n",
        "    log_freq = 2\n",
        ")"
      ]
    },
    {
      "cell_type": "markdown",
      "metadata": {
        "id": "joiAYON0-Wr5"
      },
      "source": [
        "### Valid loop"
      ]
    },
    {
      "cell_type": "code",
      "execution_count": 19,
      "metadata": {
        "id": "7V9vt0rBtqDV"
      },
      "outputs": [],
      "source": [
        "def step(model: Module, optim: torch.optim.Optimizer, criterion, loader: DataLoader, device: str = \"cuda:0\", train: bool = True) -> tuple[float, float] | float:\n",
        "\n",
        "\n",
        "  avg_loss, avg_acc = 0.0, 0.0\n",
        "  for sample in tqdm(loader):\n",
        "      \n",
        "      x, target = sample[\"image\"].to(device), sample[\"target\"].to(device)\n",
        "\n",
        "\n",
        "      y_: torch.Tensor = model(x)\n",
        "\n",
        "      loss = criterion(y_,target)\n",
        "\n",
        "      \n",
        "      # acc = (y_.argmax(dim=-1) == target).sum()\n",
        "      if train:\n",
        "          optim.zero_grad(set_to_none=None)\n",
        "          loss.backward()\n",
        "          optim.step()\n",
        "      avg_loss += loss.item() / len(loader)\n",
        "      # avg_acc  += acc.item()  / len(loader.dataset)\n",
        "\n",
        "  return avg_loss\n",
        "\n",
        "      \n"
      ]
    },
    {
      "cell_type": "markdown",
      "metadata": {
        "id": "wuApBh1qKqbN"
      },
      "source": [
        "#### Useful functions"
      ]
    },
    {
      "cell_type": "code",
      "execution_count": 20,
      "metadata": {
        "id": "neWfArwnEnCL"
      },
      "outputs": [],
      "source": [
        "def verif_close(coords : np.ndarray, x,y) -> bool:\n",
        "  eps = 2\n",
        "  for i in range(len(coords[0])):\n",
        "    if coords[0][i] == x:\n",
        "      return True if coords[1][i] - eps <= y and coords[1][i] + eps >= y else False\n",
        "    \n",
        "    if coords[1][i] == x:\n",
        "      return True if coords[0][i] - eps <= y and coords[0][i] + eps >= y else False\n"
      ]
    },
    {
      "cell_type": "code",
      "execution_count": 21,
      "metadata": {
        "id": "uG_ZDWG3QBve"
      },
      "outputs": [],
      "source": [
        "\n",
        "def get_center(input : torch.Tensor, kernel_size : int = 4) -> torch :\n",
        "  width = input.size()[2]\n",
        "  height = input.size()[1]\n",
        "  ret = torch.zeros(1,height,width,dtype=torch.float32)\n",
        "  for y  in range(height):\n",
        "    for x in range(width):\n",
        "      temp_value = input[0,y,x]\n",
        "      if temp_value !=0 :\n",
        "        min_x= 0 if x-kernel_size < 0 else x -kernel_size\n",
        "        min_y= 0 if y-kernel_size < 0 else y -kernel_size\n",
        "        max_x = width-1 if x+kernel_size> width else x+kernel_size \n",
        "        max_y = height-1 if y+kernel_size> height else y+kernel_size \n",
        "        local_max = temp_value\n",
        "        # modif = False\n",
        "        for j in range(min_y,max_y):\n",
        "          for i in range(min_x,max_x):\n",
        "            if input[0,j,i] > local_max and i > 2:\n",
        "              local_max = input[0,j,i]\n",
        "              modif = True\n",
        "\n",
        "        ret[0,y,x] = 1 if temp_value == local_max and x >2 and x< width -3 else 0.0\n",
        "  return ret\n",
        "            "
      ]
    },
    {
      "cell_type": "code",
      "execution_count": 22,
      "metadata": {
        "id": "TLh0W7CIyhYf"
      },
      "outputs": [],
      "source": [
        "def extract_coords(input : torch.Tensor)-> np.darray:\n",
        "  coords = [[],[]]\n",
        "  width = input.size()[1]\n",
        "  height = input.size()[0]\n",
        "  for y in range(height):\n",
        "    for x in range(width):\n",
        "      if input[y,x] == 1 and not verif_close(coords,x,y):\n",
        "        coords[0].append(x)\n",
        "        coords[1].append(y)\n",
        "  return np.array(coords)"
      ]
    },
    {
      "cell_type": "code",
      "execution_count": 23,
      "metadata": {
        "id": "O1eKCfSIYAAV"
      },
      "outputs": [],
      "source": [
        "\n",
        "\n",
        "def mean_euclidian_distance(target_coords : np.ndarray, predict_coords : np.ndarray) -> np.ndarray :\n",
        "  dist = []\n",
        "  for x,y in zip(target_coords[0],target_coords[1]):\n",
        "    dist_min = np.min(np.sqrt(np.power(x-predict_coords[0],2) + np.power(y-predict_coords[1],2)))\n",
        "    dist.append(dist_min)\n",
        "  return (np.array(dist)).mean()"
      ]
    },
    {
      "cell_type": "markdown",
      "metadata": {
        "id": "Mi5mAwl-Kwbb"
      },
      "source": [
        "#### Final Valid function"
      ]
    },
    {
      "cell_type": "code",
      "execution_count": 24,
      "metadata": {
        "id": "I9Mn_MFR-WfZ"
      },
      "outputs": [],
      "source": [
        "def valid(model : Module, loader : DataLoader, device: str = \"cuda:0\", nb : int =  100, display : bool = False) -> float :\n",
        "  mean_dist = 0.0\n",
        "  nb_false_positive = 0.0\n",
        "  nb_true_negative = 0.0\n",
        "  # nb = nb_batch * batch_size\n",
        "\n",
        "  y_ = None\n",
        "  avg_loss, avg_acc = 0.0, 0.0\n",
        "  start = time.time()\n",
        "  for sample in loader:\n",
        "    with torch.inference_mode() :\n",
        "\n",
        "      x, target = sample[\"image\"].to(device), sample[\"target\"]\n",
        "      y_: torch.Tensor = model(x)\n",
        "\n",
        "      for _ in range(nb) :\n",
        "        ind = random.randint(0,batch_size-1)\n",
        "        # print(y_.size())\n",
        "        # print(\"0 : \",y_[0].size())\n",
        "        # print(\"1 : \",y_[1].size())\n",
        "        # print(\"2 : \",y_[2].size())\n",
        "        # print(\"3 : \",y_[3].size())\n",
        "        thresh_function = torch.nn.Threshold(0.9,0,inplace = False)\n",
        "        output_threshed = thresh_function(y_[ind])\n",
        "        # print(output_threshed.size())\n",
        "        output_centered = get_center(output_threshed)\n",
        "        output_centered = torch.squeeze(output_centered,dim = 0)\n",
        "        output_extracted, target_extracted= extract_coords(target[ind]),extract_coords(output_centered) \n",
        "        nb_false_positive += len(output_extracted) - len(target_extracted) if len(output_extracted) - len(target_extracted) >= 0 else  0.0\n",
        "        nb_true_negative += -len(output_extracted) + len(target_extracted) if -len(output_extracted) + len(target_extracted) < 0 else  0.0\n",
        "\n",
        "        dist = mean_euclidian_distance(output_extracted, target_extracted)\n",
        "        mean_dist += dist\n",
        "        print(f\"distance : {dist:.2e} Sw for one inference : {time.time() - start}\")\n",
        "        if display : \n",
        "          output_displayed = torch.squeeze(y_[ind],dim=1)\n",
        "          f, axarr = plt.subplots(2,2)\n",
        "          axarr[0,0].imshow(to_pil(output_displayed))\n",
        "          axarr[0,0].title.set_text(\"Raw output\")\n",
        "\n",
        "          axarr[0,1].imshow(to_pil(output_threshed))\n",
        "          axarr[0,1].title.set_text(\"Threshed output\")\n",
        "\n",
        "          axarr[1,0].imshow(to_pil(output_centered))\n",
        "          axarr[1,0].title.set_text(\"Local maximum output\")\n",
        "\n",
        "          axarr[1,1].imshow(to_pil(target))\n",
        "          axarr[1,1].title.set_text(\"Target\")\n",
        "      mean_dist /= nb\n",
        "      nb_false_positive /= nb\n",
        "      nb_true_negative /= nb\n",
        "      print(f\"\\nMean distance of the valid ({nb} runs) : {mean_dist:.2e}\")\n",
        "      print(f\"Number of false positive {nb_false_positive:.2e} | Number of true negative {nb_true_negative:.2e}\")\n",
        "\n",
        "      return mean_dist\n",
        "      # break\n"
      ]
    },
    {
      "cell_type": "code",
      "execution_count": 25,
      "metadata": {
        "id": "2WYBd7E7y86v"
      },
      "outputs": [],
      "source": [
        "# valid(model,test_dataloader, device = \"cuda\",nb= 100,display = False)"
      ]
    },
    {
      "cell_type": "markdown",
      "metadata": {
        "id": "TIVpstV60VN3"
      },
      "source": [
        "### Train"
      ]
    },
    {
      "cell_type": "markdown",
      "metadata": {
        "id": "9adJ-RsMPFkp"
      },
      "source": [
        "#### Train loop"
      ]
    },
    {
      "cell_type": "code",
      "execution_count": 26,
      "metadata": {
        "id": "0rUm_zz-64OK"
      },
      "outputs": [],
      "source": [
        "def train(\n",
        "    model: Module,\n",
        "    optim: torch.optim.Optimizer,\n",
        "    criterion,\n",
        "    train_loader: DataLoader,\n",
        "    test_loader : DataLoader,\n",
        "    device: str = \"cuda:0\",\n",
        "    train: bool = True,\n",
        "    epochs : int = 10\n",
        "    ) -> None:\n",
        "  best_loss = np.inf\n",
        "  for i in tqdm(range(epochs)):\n",
        "\n",
        "    # Train\n",
        "    loss = step(model, optim, criterion, train_loader, train=True)\n",
        "    wandb.log({\"train_loss\" : loss})\n",
        "\n",
        "    # test\n",
        "    loss = step(model,optim,criterion,test_loader,train = False)\n",
        "    wandb.log({\"test_loss\" : loss})\n",
        "\n",
        "    if loss < best_loss:\n",
        "      best_loss = loss\n",
        "      torch.save(model.state_dict(),\"./best_unet_v1.txt\")"
      ]
    },
    {
      "cell_type": "markdown",
      "metadata": {
        "id": "jn_uFXZCPCUl"
      },
      "source": [
        "#### Training"
      ]
    },
    {
      "cell_type": "code",
      "execution_count": 27,
      "metadata": {
        "colab": {
          "base_uri": "https://localhost:8080/",
          "height": 834
        },
        "id": "qSfUBqS10eK1",
        "outputId": "1840eba8-7918-4958-b17e-d240929aa9ac"
      },
      "outputs": [
        {
          "name": "stderr",
          "output_type": "stream",
          "text": [
            "100%|██████████| 118/118 [00:27<00:00,  4.34it/s]\n",
            "100%|██████████| 40/40 [00:03<00:00, 11.20it/s]\n",
            "100%|██████████| 118/118 [00:27<00:00,  4.26it/s]\n",
            "100%|██████████| 40/40 [00:03<00:00, 11.01it/s]\n",
            "100%|██████████| 118/118 [00:28<00:00,  4.13it/s]\n",
            "100%|██████████| 40/40 [00:03<00:00, 10.49it/s]\n",
            "100%|██████████| 118/118 [00:28<00:00,  4.10it/s]\n",
            "100%|██████████| 40/40 [00:03<00:00, 10.50it/s]\n",
            "100%|██████████| 118/118 [00:28<00:00,  4.08it/s]\n",
            "100%|██████████| 40/40 [00:03<00:00, 10.34it/s]\n",
            "100%|██████████| 118/118 [00:29<00:00,  4.05it/s]\n",
            "100%|██████████| 40/40 [00:03<00:00, 10.35it/s]\n",
            "100%|██████████| 118/118 [00:29<00:00,  4.02it/s]\n",
            "100%|██████████| 40/40 [00:03<00:00, 10.30it/s]\n",
            "100%|██████████| 118/118 [00:29<00:00,  3.99it/s]\n",
            "100%|██████████| 40/40 [00:03<00:00, 10.25it/s]\n",
            "100%|██████████| 118/118 [00:29<00:00,  3.99it/s]\n",
            "100%|██████████| 40/40 [00:03<00:00, 10.27it/s]\n",
            "100%|██████████| 118/118 [00:29<00:00,  4.00it/s]\n",
            "100%|██████████| 40/40 [00:03<00:00, 10.19it/s]\n",
            "  7%|▋         | 8/118 [00:02<00:33,  3.25it/s]\n",
            " 33%|███▎      | 10/30 [05:32<11:04, 33.24s/it]\n"
          ]
        },
        {
          "ename": "KeyboardInterrupt",
          "evalue": "",
          "output_type": "error",
          "traceback": [
            "\u001b[0;31m---------------------------------------------------------------------------\u001b[0m",
            "\u001b[0;31mKeyboardInterrupt\u001b[0m                         Traceback (most recent call last)",
            "\u001b[1;32m/home/alfred/nicolas/matthieu/Ball_tracking_u-net_V1.ipynb Cell 46\u001b[0m in \u001b[0;36m<module>\u001b[0;34m\u001b[0m\n\u001b[0;32m----> <a href='vscode-notebook-cell:/home/alfred/nicolas/matthieu/Ball_tracking_u-net_V1.ipynb#X63sZmlsZQ%3D%3D?line=0'>1</a>\u001b[0m train(model,optim \u001b[39m=\u001b[39;49m optimizer,criterion \u001b[39m=\u001b[39;49m criterion,train_loader \u001b[39m=\u001b[39;49m train_dataloader, test_loader \u001b[39m=\u001b[39;49m test_dataloader, device\u001b[39m=\u001b[39;49m\u001b[39m\"\u001b[39;49m\u001b[39mcuda:0\u001b[39;49m\u001b[39m\"\u001b[39;49m, epochs\u001b[39m=\u001b[39;49mepochs)\n",
            "\u001b[1;32m/home/alfred/nicolas/matthieu/Ball_tracking_u-net_V1.ipynb Cell 46\u001b[0m in \u001b[0;36mtrain\u001b[0;34m(model, optim, criterion, train_loader, test_loader, device, train, epochs)\u001b[0m\n\u001b[1;32m     <a href='vscode-notebook-cell:/home/alfred/nicolas/matthieu/Ball_tracking_u-net_V1.ipynb#X63sZmlsZQ%3D%3D?line=10'>11</a>\u001b[0m best_loss \u001b[39m=\u001b[39m np\u001b[39m.\u001b[39minf\n\u001b[1;32m     <a href='vscode-notebook-cell:/home/alfred/nicolas/matthieu/Ball_tracking_u-net_V1.ipynb#X63sZmlsZQ%3D%3D?line=11'>12</a>\u001b[0m \u001b[39mfor\u001b[39;00m i \u001b[39min\u001b[39;00m tqdm(\u001b[39mrange\u001b[39m(epochs)):\n\u001b[1;32m     <a href='vscode-notebook-cell:/home/alfred/nicolas/matthieu/Ball_tracking_u-net_V1.ipynb#X63sZmlsZQ%3D%3D?line=12'>13</a>\u001b[0m \n\u001b[1;32m     <a href='vscode-notebook-cell:/home/alfred/nicolas/matthieu/Ball_tracking_u-net_V1.ipynb#X63sZmlsZQ%3D%3D?line=13'>14</a>\u001b[0m   \u001b[39m# Train\u001b[39;00m\n\u001b[0;32m---> <a href='vscode-notebook-cell:/home/alfred/nicolas/matthieu/Ball_tracking_u-net_V1.ipynb#X63sZmlsZQ%3D%3D?line=14'>15</a>\u001b[0m   loss \u001b[39m=\u001b[39m step(model, optim, criterion, train_loader, train\u001b[39m=\u001b[39;49m\u001b[39mTrue\u001b[39;49;00m)\n\u001b[1;32m     <a href='vscode-notebook-cell:/home/alfred/nicolas/matthieu/Ball_tracking_u-net_V1.ipynb#X63sZmlsZQ%3D%3D?line=15'>16</a>\u001b[0m   wandb\u001b[39m.\u001b[39mlog({\u001b[39m\"\u001b[39m\u001b[39mtrain_loss\u001b[39m\u001b[39m\"\u001b[39m : loss})\n\u001b[1;32m     <a href='vscode-notebook-cell:/home/alfred/nicolas/matthieu/Ball_tracking_u-net_V1.ipynb#X63sZmlsZQ%3D%3D?line=17'>18</a>\u001b[0m   \u001b[39m# test\u001b[39;00m\n",
            "\u001b[1;32m/home/alfred/nicolas/matthieu/Ball_tracking_u-net_V1.ipynb Cell 46\u001b[0m in \u001b[0;36mstep\u001b[0;34m(model, optim, criterion, loader, device, train)\u001b[0m\n\u001b[1;32m     <a href='vscode-notebook-cell:/home/alfred/nicolas/matthieu/Ball_tracking_u-net_V1.ipynb#X63sZmlsZQ%3D%3D?line=17'>18</a>\u001b[0m         loss\u001b[39m.\u001b[39mbackward()\n\u001b[1;32m     <a href='vscode-notebook-cell:/home/alfred/nicolas/matthieu/Ball_tracking_u-net_V1.ipynb#X63sZmlsZQ%3D%3D?line=18'>19</a>\u001b[0m         optim\u001b[39m.\u001b[39mstep()\n\u001b[0;32m---> <a href='vscode-notebook-cell:/home/alfred/nicolas/matthieu/Ball_tracking_u-net_V1.ipynb#X63sZmlsZQ%3D%3D?line=19'>20</a>\u001b[0m     avg_loss \u001b[39m+\u001b[39m\u001b[39m=\u001b[39m loss\u001b[39m.\u001b[39;49mitem() \u001b[39m/\u001b[39m \u001b[39mlen\u001b[39m(loader)\n\u001b[1;32m     <a href='vscode-notebook-cell:/home/alfred/nicolas/matthieu/Ball_tracking_u-net_V1.ipynb#X63sZmlsZQ%3D%3D?line=20'>21</a>\u001b[0m     \u001b[39m# avg_acc  += acc.item()  / len(loader.dataset)\u001b[39;00m\n\u001b[1;32m     <a href='vscode-notebook-cell:/home/alfred/nicolas/matthieu/Ball_tracking_u-net_V1.ipynb#X63sZmlsZQ%3D%3D?line=22'>23</a>\u001b[0m \u001b[39mreturn\u001b[39;00m avg_loss\n",
            "\u001b[0;31mKeyboardInterrupt\u001b[0m: "
          ]
        }
      ],
      "source": [
        "train(model,optim = optimizer,criterion = criterion,train_loader = train_dataloader, test_loader = test_dataloader, device=\"cuda:0\", epochs=epochs)"
      ]
    },
    {
      "cell_type": "markdown",
      "metadata": {
        "id": "hQLCIIgc0cq3"
      },
      "source": [
        "# Inference"
      ]
    },
    {
      "cell_type": "markdown",
      "metadata": {
        "id": "RkxBltXLHyS9"
      },
      "source": [
        "### Testing "
      ]
    },
    {
      "cell_type": "code",
      "execution_count": 28,
      "metadata": {
        "id": "967-9yFSo2Fr"
      },
      "outputs": [
        {
          "data": {
            "text/plain": [
              "UNET(\n",
              "  (inc): DoubleConv(\n",
              "    (double_conv): Sequential(\n",
              "      (0): Conv2d(3, 64, kernel_size=(3, 3), stride=(1, 1), padding=(1, 1), bias=False)\n",
              "      (1): BatchNorm2d(64, eps=1e-05, momentum=0.1, affine=True, track_running_stats=True)\n",
              "      (2): ReLU(inplace=True)\n",
              "      (3): Conv2d(64, 64, kernel_size=(3, 3), stride=(1, 1), padding=(1, 1), bias=False)\n",
              "      (4): BatchNorm2d(64, eps=1e-05, momentum=0.1, affine=True, track_running_stats=True)\n",
              "      (5): ReLU(inplace=True)\n",
              "    )\n",
              "  )\n",
              "  (down1): Down(\n",
              "    (maxpool_conv): Sequential(\n",
              "      (0): MaxPool2d(kernel_size=2, stride=2, padding=0, dilation=1, ceil_mode=False)\n",
              "      (1): DoubleConv(\n",
              "        (double_conv): Sequential(\n",
              "          (0): Conv2d(64, 128, kernel_size=(3, 3), stride=(1, 1), padding=(1, 1), bias=False)\n",
              "          (1): BatchNorm2d(128, eps=1e-05, momentum=0.1, affine=True, track_running_stats=True)\n",
              "          (2): ReLU(inplace=True)\n",
              "          (3): Conv2d(128, 128, kernel_size=(3, 3), stride=(1, 1), padding=(1, 1), bias=False)\n",
              "          (4): BatchNorm2d(128, eps=1e-05, momentum=0.1, affine=True, track_running_stats=True)\n",
              "          (5): ReLU(inplace=True)\n",
              "        )\n",
              "      )\n",
              "    )\n",
              "  )\n",
              "  (down2): Down(\n",
              "    (maxpool_conv): Sequential(\n",
              "      (0): MaxPool2d(kernel_size=2, stride=2, padding=0, dilation=1, ceil_mode=False)\n",
              "      (1): DoubleConv(\n",
              "        (double_conv): Sequential(\n",
              "          (0): Conv2d(128, 256, kernel_size=(3, 3), stride=(1, 1), padding=(1, 1), bias=False)\n",
              "          (1): BatchNorm2d(256, eps=1e-05, momentum=0.1, affine=True, track_running_stats=True)\n",
              "          (2): ReLU(inplace=True)\n",
              "          (3): Conv2d(256, 256, kernel_size=(3, 3), stride=(1, 1), padding=(1, 1), bias=False)\n",
              "          (4): BatchNorm2d(256, eps=1e-05, momentum=0.1, affine=True, track_running_stats=True)\n",
              "          (5): ReLU(inplace=True)\n",
              "        )\n",
              "      )\n",
              "    )\n",
              "  )\n",
              "  (down3): Down(\n",
              "    (maxpool_conv): Sequential(\n",
              "      (0): MaxPool2d(kernel_size=2, stride=2, padding=0, dilation=1, ceil_mode=False)\n",
              "      (1): DoubleConv(\n",
              "        (double_conv): Sequential(\n",
              "          (0): Conv2d(256, 512, kernel_size=(3, 3), stride=(1, 1), padding=(1, 1), bias=False)\n",
              "          (1): BatchNorm2d(512, eps=1e-05, momentum=0.1, affine=True, track_running_stats=True)\n",
              "          (2): ReLU(inplace=True)\n",
              "          (3): Conv2d(512, 512, kernel_size=(3, 3), stride=(1, 1), padding=(1, 1), bias=False)\n",
              "          (4): BatchNorm2d(512, eps=1e-05, momentum=0.1, affine=True, track_running_stats=True)\n",
              "          (5): ReLU(inplace=True)\n",
              "        )\n",
              "      )\n",
              "    )\n",
              "  )\n",
              "  (down4): Down(\n",
              "    (maxpool_conv): Sequential(\n",
              "      (0): MaxPool2d(kernel_size=2, stride=2, padding=0, dilation=1, ceil_mode=False)\n",
              "      (1): DoubleConv(\n",
              "        (double_conv): Sequential(\n",
              "          (0): Conv2d(512, 1024, kernel_size=(3, 3), stride=(1, 1), padding=(1, 1), bias=False)\n",
              "          (1): BatchNorm2d(1024, eps=1e-05, momentum=0.1, affine=True, track_running_stats=True)\n",
              "          (2): ReLU(inplace=True)\n",
              "          (3): Conv2d(1024, 1024, kernel_size=(3, 3), stride=(1, 1), padding=(1, 1), bias=False)\n",
              "          (4): BatchNorm2d(1024, eps=1e-05, momentum=0.1, affine=True, track_running_stats=True)\n",
              "          (5): ReLU(inplace=True)\n",
              "        )\n",
              "      )\n",
              "    )\n",
              "  )\n",
              "  (up1): Up(\n",
              "    (up): ConvTranspose2d(1024, 512, kernel_size=(2, 2), stride=(2, 2))\n",
              "    (conv): DoubleConv(\n",
              "      (double_conv): Sequential(\n",
              "        (0): Conv2d(1024, 512, kernel_size=(3, 3), stride=(1, 1), padding=(1, 1), bias=False)\n",
              "        (1): BatchNorm2d(512, eps=1e-05, momentum=0.1, affine=True, track_running_stats=True)\n",
              "        (2): ReLU(inplace=True)\n",
              "        (3): Conv2d(512, 512, kernel_size=(3, 3), stride=(1, 1), padding=(1, 1), bias=False)\n",
              "        (4): BatchNorm2d(512, eps=1e-05, momentum=0.1, affine=True, track_running_stats=True)\n",
              "        (5): ReLU(inplace=True)\n",
              "      )\n",
              "    )\n",
              "  )\n",
              "  (up2): Up(\n",
              "    (up): ConvTranspose2d(512, 256, kernel_size=(2, 2), stride=(2, 2))\n",
              "    (conv): DoubleConv(\n",
              "      (double_conv): Sequential(\n",
              "        (0): Conv2d(512, 256, kernel_size=(3, 3), stride=(1, 1), padding=(1, 1), bias=False)\n",
              "        (1): BatchNorm2d(256, eps=1e-05, momentum=0.1, affine=True, track_running_stats=True)\n",
              "        (2): ReLU(inplace=True)\n",
              "        (3): Conv2d(256, 256, kernel_size=(3, 3), stride=(1, 1), padding=(1, 1), bias=False)\n",
              "        (4): BatchNorm2d(256, eps=1e-05, momentum=0.1, affine=True, track_running_stats=True)\n",
              "        (5): ReLU(inplace=True)\n",
              "      )\n",
              "    )\n",
              "  )\n",
              "  (up3): Up(\n",
              "    (up): ConvTranspose2d(256, 128, kernel_size=(2, 2), stride=(2, 2))\n",
              "    (conv): DoubleConv(\n",
              "      (double_conv): Sequential(\n",
              "        (0): Conv2d(256, 128, kernel_size=(3, 3), stride=(1, 1), padding=(1, 1), bias=False)\n",
              "        (1): BatchNorm2d(128, eps=1e-05, momentum=0.1, affine=True, track_running_stats=True)\n",
              "        (2): ReLU(inplace=True)\n",
              "        (3): Conv2d(128, 128, kernel_size=(3, 3), stride=(1, 1), padding=(1, 1), bias=False)\n",
              "        (4): BatchNorm2d(128, eps=1e-05, momentum=0.1, affine=True, track_running_stats=True)\n",
              "        (5): ReLU(inplace=True)\n",
              "      )\n",
              "    )\n",
              "  )\n",
              "  (up4): Up(\n",
              "    (up): ConvTranspose2d(128, 64, kernel_size=(2, 2), stride=(2, 2))\n",
              "    (conv): DoubleConv(\n",
              "      (double_conv): Sequential(\n",
              "        (0): Conv2d(128, 64, kernel_size=(3, 3), stride=(1, 1), padding=(1, 1), bias=False)\n",
              "        (1): BatchNorm2d(64, eps=1e-05, momentum=0.1, affine=True, track_running_stats=True)\n",
              "        (2): ReLU(inplace=True)\n",
              "        (3): Conv2d(64, 64, kernel_size=(3, 3), stride=(1, 1), padding=(1, 1), bias=False)\n",
              "        (4): BatchNorm2d(64, eps=1e-05, momentum=0.1, affine=True, track_running_stats=True)\n",
              "        (5): ReLU(inplace=True)\n",
              "      )\n",
              "    )\n",
              "  )\n",
              "  (fconv): FinalConv(\n",
              "    (conv): Conv2d(64, 1, kernel_size=(1, 1), stride=(1, 1))\n",
              "  )\n",
              "  (sig): Sigmoid()\n",
              ")"
            ]
          },
          "execution_count": 28,
          "metadata": {},
          "output_type": "execute_result"
        }
      ],
      "source": [
        "####################################### For testing purpose only #########################################\n",
        "model.load_state_dict(torch.load(\"./best_unet_v1.txt\", map_location = torch.device('cuda')))\n",
        "model.eval()\n",
        "model.cuda() ####TO CHANGE IF I HAVE COLAB CREDITS"
      ]
    },
    {
      "cell_type": "code",
      "execution_count": 29,
      "metadata": {
        "id": "r0ZYF8HLsBcs"
      },
      "outputs": [
        {
          "name": "stdout",
          "output_type": "stream",
          "text": [
            "<class 'dict'>\n"
          ]
        }
      ],
      "source": [
        "sample = None\n",
        "for i, batch in enumerate(test_dataloader):\n",
        "  if i == 0:\n",
        "    sample = batch\n",
        "    break\n",
        "print(type(sample))\n",
        "transform = ToTen()\n",
        "# sample = transform(sample)\n",
        "image_sample , target= sample[\"image\"].to('cuda'), sample[\"target\"][0]\n",
        "output = model(image_sample)\n",
        "# output = None\n",
        "# \n",
        "# for sample in test_dataloader:\n",
        "  # with torch.inference_mode() :\n",
        "    # x, target = sample[\"image\"].to(\"cuda\"), sample[\"target\"]\n",
        "    # break\n",
        "# output"
      ]
    },
    {
      "cell_type": "code",
      "execution_count": null,
      "metadata": {
        "id": "RvBxxaFtsPyO"
      },
      "outputs": [],
      "source": [
        "# image_sample\n",
        "output.max()\n",
        "thresh = torch.nn.Threshold(0.9,0,inplace = False)\n",
        "logic = thresh(output[0])\n",
        "logic\n",
        "# torch.max(output)"
      ]
    },
    {
      "cell_type": "code",
      "execution_count": null,
      "metadata": {
        "id": "dQNQxtyVYG-o"
      },
      "outputs": [],
      "source": [
        "hope_centered = get_center(logic)"
      ]
    },
    {
      "cell_type": "code",
      "execution_count": null,
      "metadata": {
        "id": "L67fbwRB05i3"
      },
      "outputs": [],
      "source": [
        "hope_centered = torch.squeeze(hope_centered, dim = 0)\n",
        "hope_centered.size()"
      ]
    },
    {
      "cell_type": "code",
      "execution_count": null,
      "metadata": {
        "id": "vh-hT2zsziJE"
      },
      "outputs": [],
      "source": [
        "predict_coords = extract_coords(hope_centered)\n",
        "print(f\"Model output coords (x y) : \\n{predict_coords}\")\n",
        "# print(target.size())\n",
        "target_coords = extract_coords(target)\n",
        "print(f\"Target coords (x y) : \\n{target_coords}\")"
      ]
    },
    {
      "cell_type": "code",
      "execution_count": null,
      "metadata": {
        "id": "SOsn0EXNaEoa"
      },
      "outputs": [],
      "source": [
        "dist = mean_euclidian_distance(target_coords,predict_coords)\n",
        "dist"
      ]
    },
    {
      "cell_type": "code",
      "execution_count": null,
      "metadata": {
        "id": "i5gIlElbBsmX"
      },
      "outputs": [],
      "source": [
        "# model = UNET(3,1)\n",
        "# model.load_state_dict(torch.load(\"/content/drive/MyDrive/Createch/Pool_Project/weigths/best_upgrade.txt\", map_location = torch.device('cuda')))\n",
        "# model.eval()\n",
        "# model.cuda() ####TO CHANGE IF I HAVE COLAB CREDITS\n"
      ]
    },
    {
      "cell_type": "code",
      "execution_count": null,
      "metadata": {
        "id": "beLGYxxEjQHB"
      },
      "outputs": [],
      "source": [
        "# summary(model,(128,64))\n",
        "summary(model,(3,64,128),batch_size=batch_size)"
      ]
    },
    {
      "cell_type": "code",
      "execution_count": 31,
      "metadata": {
        "id": "MfTeyvXL8NOi"
      },
      "outputs": [
        {
          "ename": "NameError",
          "evalue": "name 'logic' is not defined",
          "output_type": "error",
          "traceback": [
            "\u001b[0;31m---------------------------------------------------------------------------\u001b[0m",
            "\u001b[0;31mNameError\u001b[0m                                 Traceback (most recent call last)",
            "\u001b[1;32m/home/alfred/nicolas/matthieu/Ball_tracking_u-net_V1.ipynb Cell 58\u001b[0m in \u001b[0;36m<module>\u001b[0;34m\u001b[0m\n\u001b[1;32m      <a href='vscode-notebook-cell:/home/alfred/nicolas/matthieu/Ball_tracking_u-net_V1.ipynb#Y111sZmlsZQ%3D%3D?line=7'>8</a>\u001b[0m axarr[\u001b[39m0\u001b[39m,\u001b[39m0\u001b[39m]\u001b[39m.\u001b[39mimshow(to_pil(output[\u001b[39m0\u001b[39m]))\n\u001b[1;32m      <a href='vscode-notebook-cell:/home/alfred/nicolas/matthieu/Ball_tracking_u-net_V1.ipynb#Y111sZmlsZQ%3D%3D?line=8'>9</a>\u001b[0m axarr[\u001b[39m0\u001b[39m,\u001b[39m0\u001b[39m]\u001b[39m.\u001b[39mtitle\u001b[39m.\u001b[39mset_text(\u001b[39m\"\u001b[39m\u001b[39m1\u001b[39m\u001b[39m\"\u001b[39m)\n\u001b[0;32m---> <a href='vscode-notebook-cell:/home/alfred/nicolas/matthieu/Ball_tracking_u-net_V1.ipynb#Y111sZmlsZQ%3D%3D?line=10'>11</a>\u001b[0m axarr[\u001b[39m0\u001b[39m,\u001b[39m1\u001b[39m]\u001b[39m.\u001b[39mimshow(to_pil(logic))\n\u001b[1;32m     <a href='vscode-notebook-cell:/home/alfred/nicolas/matthieu/Ball_tracking_u-net_V1.ipynb#Y111sZmlsZQ%3D%3D?line=11'>12</a>\u001b[0m axarr[\u001b[39m0\u001b[39m,\u001b[39m1\u001b[39m]\u001b[39m.\u001b[39mtitle\u001b[39m.\u001b[39mset_text(\u001b[39m\"\u001b[39m\u001b[39m2\u001b[39m\u001b[39m\"\u001b[39m)\n\u001b[1;32m     <a href='vscode-notebook-cell:/home/alfred/nicolas/matthieu/Ball_tracking_u-net_V1.ipynb#Y111sZmlsZQ%3D%3D?line=13'>14</a>\u001b[0m axarr[\u001b[39m1\u001b[39m,\u001b[39m0\u001b[39m]\u001b[39m.\u001b[39mimshow(to_pil(hope_centered))\n",
            "\u001b[0;31mNameError\u001b[0m: name 'logic' is not defined"
          ]
        },
        {
          "data": {
            "image/png": "[encoded data removed]",
            "text/plain": [
              "<Figure size 432x288 with 4 Axes>"
            ]
          },
          "metadata": {
            "needs_background": "light"
          },
          "output_type": "display_data"
        }
      ],
      "source": [
        "f, axarr = plt.subplots(2,2)\n",
        "\n",
        "to_pil = T.ToPILImage()\n",
        "# print(logic.size())\n",
        "\n",
        "# print(logic.size())\n",
        "\n",
        "axarr[0,0].imshow(to_pil(output[0]))\n",
        "axarr[0,0].title.set_text(\"1\")\n",
        "\n",
        "axarr[0,1].imshow(to_pil(logic))\n",
        "axarr[0,1].title.set_text(\"2\")\n",
        "\n",
        "axarr[1,0].imshow(to_pil(hope_centered))\n",
        "axarr[1,0].title.set_text(\"3\")\n",
        "\n",
        "axarr[1,1].imshow(to_pil(target))\n",
        "axarr[1,1].title.set_text(\"4\")\n"
      ]
    },
    {
      "cell_type": "code",
      "execution_count": null,
      "metadata": {
        "id": "yHDBnqCVyVJp"
      },
      "outputs": [],
      "source": []
    }
  ],
  "metadata": {
    "accelerator": "GPU",
    "colab": {
      "collapsed_sections": [
        "q7uFX7IqcKiD",
        "E71a3tBeARJS"
      ],
      "provenance": []
    },
    "gpuClass": "standard",
    "kernelspec": {
      "display_name": "Python 3",
      "language": "python",
      "name": "python3"
    },
    "language_info": {
      "codemirror_mode": {
        "name": "ipython",
        "version": 3
      },
      "file_extension": ".py",
      "mimetype": "text/x-python",
      "name": "python",
      "nbconvert_exporter": "python",
      "pygments_lexer": "ipython3",
      "version": "3.8.10 (default, Nov 14 2022, 12:59:47) \n[GCC 9.4.0]"
    },
    "vscode": {
      "interpreter": {
        "hash": "916dbcbb3f70747c44a77c7bcd40155683ae19c65e1c03b4aa3499c5328201f1"
      }
    }
  },
  "nbformat": 4,
  "nbformat_minor": 0
}
