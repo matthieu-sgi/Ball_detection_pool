{
  "cells": [
    {
      "cell_type": "markdown",
      "source": [
        "# Imports and paths set-up"
      ],
      "metadata": {
        "id": "z7otaEPZSwgT"
      }
    },
    {
      "cell_type": "code",
      "execution_count": null,
      "metadata": {
        "id": "kFF9NvvZapx9"
      },
      "outputs": [],
      "source": [
        "from __future__ import annotations\n",
        "\n",
        "from matplotlib import pyplot as plt, cm\n",
        "from PIL import Image, ImageOps\n",
        "from scipy.ndimage import gaussian_filter\n",
        "from torch.optim import SGD\n",
        "from torch.utils.data import DataLoader, Dataset\n",
        "from torchsummary import summary\n",
        "from tqdm import tqdm\n",
        "\n",
        "import numpy as np\n",
        "import os,os.path\n",
        "import pandas as pd\n",
        "import time\n",
        "import torch\n",
        "import torch.nn as nn\n",
        "import torch.nn.functional as F\n",
        "import torchvision.transforms as T\n",
        "import random\n",
        "\n",
        "%matplotlib inline"
      ]
    },
    {
      "cell_type": "code",
      "execution_count": null,
      "metadata": {
        "id": "ukYowww6SRhw",
        "colab": {
          "base_uri": "https://localhost:8080/"
        },
        "outputId": "ec127775-d0e7-48f1-90d0-a3bdb74dc047"
      },
      "outputs": [
        {
          "output_type": "stream",
          "name": "stdout",
          "text": [
            "Mounted at /content/drive\n"
          ]
        }
      ],
      "source": [
        "################################### If you are using google colab, uncomment the following lines ###################################\n",
        "from google.colab import drive\n",
        "drive.mount('/content/drive')"
      ]
    },
    {
      "cell_type": "code",
      "execution_count": null,
      "metadata": {
        "id": "M2p1c89YwYlo"
      },
      "outputs": [],
      "source": [
        "#################################### If working on colab ####################################\n",
        "csv_file_path =\"/content/drive/MyDrive/Createch/Pool_Project/.dataset/coords.csv\"\n",
        "data_path =\"/content/drive/MyDrive/Createch/Pool_Project/.dataset/images/\"\n",
        "\n",
        "#################################### If working on local machine ####################################\n",
        "# csv_file_path = \"./.dataset/coords.csv\"\n",
        "# data_path = \"./.dataset/images/\""
      ]
    },
    {
      "cell_type": "markdown",
      "metadata": {
        "id": "1NVS267Bz4xv"
      },
      "source": [
        "# Dataset building"
      ]
    },
    {
      "cell_type": "markdown",
      "metadata": {
        "id": "eHVQXDuf1CUQ"
      },
      "source": [
        "### Transforms\n",
        "\n",
        "The transforms are applied to the images and the masks. The images are normalized and the masks are converted to tensors."
      ]
    },
    {
      "cell_type": "code",
      "execution_count": null,
      "metadata": {
        "id": "MDcf8fRP1TRl"
      },
      "outputs": [],
      "source": [
        "class ToTen(object):\n",
        "    \"\"\"Convert PIL image and numpy ndarray in sample to Tensors.\"\"\"\n",
        "\n",
        "    def __call__(self, sample : dict) -> tuple[torch.tensor, torch.tensor] :\n",
        "        image, masks = sample['image'], sample['target']\n",
        "        transform = T.ToTensor()\n",
        "        masks_to_tensors = torch.from_numpy(masks)\n",
        "        masks_to_tensors = torch.unsqueeze(masks_to_tensors, dim = 0)\n",
        "        image = transform(image)\n",
        "        # This is a test of normalizing the image \n",
        "        # image = nn.functional.normalize(image)\n",
        "        return {'image': image,\n",
        "                'target': masks_to_tensors}\n",
        "\n",
        "    @property\n",
        "    def get_name(self) -> str:\n",
        "      return \"ToTensor\""
      ]
    },
    {
      "cell_type": "markdown",
      "metadata": {
        "id": "gOpEO3AH1zoQ"
      },
      "source": [
        "### Dataset class"
      ]
    },
    {
      "cell_type": "code",
      "execution_count": null,
      "metadata": {
        "id": "f-qx0tsYay_U"
      },
      "outputs": [],
      "source": [
        "class PoolImageDatasetSimplest(Dataset):\n",
        "  '''A class that generates a dataset of images and their corresponding target'''\n",
        "  global x_min,x_max,y_min,y_max, train_prop\n",
        "\n",
        "  #Dimensions of my pool\n",
        "  width , height = 1.900, 0.956\n",
        "  x_min,x_max = -(width/2),width/2\n",
        "  y_min,y_max = -(height/2),height/2\n",
        "  train_prop = 0.75\n",
        "\n",
        "  def __init__(\n",
        "      self,\n",
        "      transforms = None,\n",
        "      csv_file_path : str = './coords.csv',\n",
        "      data_path : str = \"./images/\",\n",
        "      train : bool = True\n",
        "      ) -> None:\n",
        "      \n",
        "\n",
        "    super().__init__()\n",
        "    self.labels = pd.read_csv(csv_file_path)\n",
        "    self.images_path = data_path\n",
        "    self.transforms = transforms\n",
        "    #define the resolution of the image in order to do the origine translation\n",
        "    self.image_width, self.image_height = Image.open(data_path+\"0.png\").size\n",
        "    # calling the cleaning function that includes mapping and translation of x and y\n",
        "    self._clean_values()\n",
        "    self.train = train\n",
        "    self.len = self.__len__()\n",
        "\n",
        "  @staticmethod\n",
        "  def mapping_and_translation(\n",
        "      value : float,\n",
        "      actual_ref_min : float,\n",
        "      actual_ref_max : float,\n",
        "      offset : int # offset = translation quantity\n",
        "      ) -> int :\n",
        "      '''A function that maps a value from a reference to another reference'''\n",
        "      \n",
        "      new_ref_max = offset\n",
        "      new_ref_min = -offset\n",
        "\n",
        "       # +0.5 is just for the rounding by excess\n",
        "       # And for the math formula I took the one from arduino function \"map()\"\n",
        "      new_value = int(((value - actual_ref_min) * (new_ref_max - new_ref_min)/ (actual_ref_max - actual_ref_min) + new_ref_min))\n",
        "      return new_value + offset\n",
        "    \n",
        "  def _clean_values(self):\n",
        "    '''A function that cleans the values of the csv file and maps them to the image size'''\n",
        "    # Removing Z value \n",
        "    self.labels.drop('z', inplace = True,axis=1)\n",
        "    #Removing all extreme X and Y values that are out of the pool table\n",
        "    self.labels.drop(self.labels[(self.labels['x']>=x_max) | (self.labels['x'] <= x_min) ].index, inplace=True) \n",
        "    self.labels.drop(self.labels[(self.labels.y >= y_max) | (self.labels.y <= y_min) ].index, inplace=True) #\n",
        "\n",
        "    #change coords if the translation changed\n",
        "    self.labels[\"x\"] = self.labels[\"x\"].apply(lambda x : self.mapping_and_translation(x,x_min,x_max,int(self.image_width/2)))\n",
        "    self.labels[\"y\"] = self.labels[\"y\"].apply(lambda y : self.mapping_and_translation(y,y_min,y_max,int(self.image_height/2)))\n",
        "  \n",
        "  def draw_ones(self,coords : np.ndarray) -> np.ndarray :\n",
        "    '''Draws a 2D array of ones on the coordinates given'''\n",
        "    arr = np.zeros((self.image_height,self.image_width),dtype = np.float32)\n",
        "    for x, y in coords:\n",
        "      arr[self.image_height - y,x] = 1.0 # self.image_height-y to flip\n",
        "    # arr_gaussian = gaussian_filter(arr, sigma=1.5)\n",
        "    # return torch.from_numpy(arr_gaussian)\n",
        "    return arr.astype(dtype=np.float32)\n",
        "\n",
        "  def __len__(self):\n",
        "    '''Length of the dataset wether training or testing'''\n",
        "    return int(len(os.listdir(self.images_path)) * train_prop) if self.train else int(len(os.listdir(self.images_path)) * (1-train_prop))\n",
        "  \n",
        "  def __getitem__(self, idx) -> dict:\n",
        "    if not self.train :\n",
        "      idx = idx + self.len\n",
        "    if torch.is_tensor(idx):\n",
        "        idx = idx.tolist()\n",
        "\n",
        "    img_name = os.path.join(self.images_path,\n",
        "                              f\"{str(idx)}.png\") # Fetching the image name\n",
        "\n",
        "    image = Image.open(img_name).convert('RGB') #Apply rgb conversion -> have 3 input channels instead of 4\n",
        "\n",
        "    coords = np.array(self.labels[self.labels.id == idx].iloc[:,[1,2]])\n",
        "    \n",
        "\n",
        "    target = self.draw_ones(coords)\n",
        "    sample = {'image': image, 'target': target}\n",
        "\n",
        "    if self.transforms:\n",
        "      sample = self.transforms(sample)\n",
        "\n",
        "\n",
        "    return sample"
      ]
    },
    {
      "cell_type": "markdown",
      "metadata": {
        "id": "GiwJg9YnSHCP"
      },
      "source": [
        "### Testing and displaying example of the dataset"
      ]
    },
    {
      "cell_type": "code",
      "execution_count": null,
      "metadata": {
        "id": "tjOTPCLebiax"
      },
      "outputs": [],
      "source": [
        "dataset = PoolImageDatasetSimplest(csv_file_path=csv_file_path,data_path = data_path, train = True)"
      ]
    },
    {
      "cell_type": "code",
      "execution_count": null,
      "metadata": {
        "colab": {
          "base_uri": "https://localhost:8080/",
          "height": 106
        },
        "id": "yVJvVbbqb1mo",
        "outputId": "c1c32cfb-2569-41da-b568-f51abe4a503d"
      },
      "outputs": [
        {
          "output_type": "execute_result",
          "data": {
            "text/plain": [
              "<matplotlib.image.AxesImage at 0x7f0d3c934220>"
            ]
          },
          "metadata": {},
          "execution_count": 7
        },
        {
          "output_type": "display_data",
          "data": {
            "text/plain": [
              "<Figure size 432x288 with 1 Axes>"
            ],
            "image/png": "[encoded data removed]"
          },
          "metadata": {
            "needs_background": "light"
          }
        }
      ],
      "source": [
        "plt.imshow(dataset[0][\"image\"])"
      ]
    },
    {
      "cell_type": "code",
      "execution_count": null,
      "metadata": {
        "colab": {
          "base_uri": "https://localhost:8080/",
          "height": 106
        },
        "id": "37ijrU8PfM_m",
        "outputId": "5851c14f-a1f7-4457-c93d-9586e4adc672"
      },
      "outputs": [
        {
          "output_type": "execute_result",
          "data": {
            "text/plain": [
              "<matplotlib.image.AxesImage at 0x7f0d3cb135e0>"
            ]
          },
          "metadata": {},
          "execution_count": 8
        },
        {
          "output_type": "display_data",
          "data": {
            "text/plain": [
              "<Figure size 432x288 with 1 Axes>"
            ],
            "image/png": "[encoded data removed]"
          },
          "metadata": {
            "needs_background": "light"
          }
        }
      ],
      "source": [
        "target = dataset[0][\"target\"]\n",
        "plt.imshow(target)"
      ]
    },
    {
      "cell_type": "markdown",
      "metadata": {
        "id": "C6u4B2sYz9rs"
      },
      "source": [
        "### DataLoader"
      ]
    },
    {
      "cell_type": "code",
      "execution_count": null,
      "metadata": {
        "id": "Q7AsjNtC0BW7"
      },
      "outputs": [],
      "source": [
        "batch_size = 256\n",
        "train_dataset = PoolImageDatasetSimplest(transforms=ToTen(),csv_file_path=csv_file_path,data_path = data_path,train = True)\n",
        "test_dataset = PoolImageDatasetSimplest(transforms=ToTen(),csv_file_path=csv_file_path,data_path = data_path,train = False)\n",
        "train_dataloader = DataLoader(train_dataset,batch_size=batch_size,shuffle = True,num_workers=2)\n",
        "test_dataloader = DataLoader(test_dataset,batch_size=batch_size,shuffle = False,num_workers=2)"
      ]
    },
    {
      "cell_type": "markdown",
      "metadata": {
        "id": "90w7DXMRoW-5"
      },
      "source": [
        "# Model building\n",
        "\n",
        "Building a U-Net, you have to define different parts of the model.\n",
        "\n",
        "As the name indicate, it's built in U shape. First you have to go down, using convolution and pooling. Then you go up and add previous states.\n",
        "\n",
        "At the end, we do an upscaling and conv to retrieve our original size. This is less computation than a de-conv.\n",
        "\n",
        "At the bottom of the U, there is also a MLP, this becoming fully connected"
      ]
    },
    {
      "cell_type": "markdown",
      "metadata": {
        "id": "b9LsACoaMh4A"
      },
      "source": [
        "### Building the U-NET model\n"
      ]
    },
    {
      "cell_type": "code",
      "execution_count": null,
      "metadata": {
        "id": "bewT_UyNolDe"
      },
      "outputs": [],
      "source": [
        "class myUnet(nn.Module):\n",
        "    def __init__(self):\n",
        "        super(myUnet, self).__init__()\n",
        "        #  down-sampling blocks\n",
        "        k_size = 3\n",
        "        self.conv1 = nn.Conv2d(3, 32, k_size, padding=(k_size-1)//2)\n",
        "        self.conv2 = nn.Conv2d(32, 64, k_size, padding=(k_size-1)//2)\n",
        "        self.conv3 = nn.Conv2d(64, 32, k_size, padding=(k_size-1)//2)\n",
        "        # self.conv4 = nn.Conv2d(64, 128, k_size, padding=(k_size-1)//2)\n",
        "        #  up-sampling locks\n",
        "        # self.conv5 = nn.Conv2d(128, 64, k_size, padding=(k_size-1)//2)\n",
        "        self.conv6 = nn.Conv2d(2* 32, 64, k_size, padding=(k_size-1)//2)\n",
        "        self.conv7 = nn.Conv2d(2* 64, 32, k_size, padding=(k_size-1)//2)\n",
        "        self.conv8 = nn.Conv2d(2 * 32, 1, k_size, padding=(k_size-1)//2)\n",
        "        #  fully connected layer\n",
        "        self.fc1 = nn.Linear(32*8*16, 128)\n",
        "        self.fc2 = nn.Linear(128, 128)\n",
        "        self.fc3 = nn.Linear(128, 32*8*16)\n",
        "        #  maxpooling\n",
        "        self.maxpool = nn.MaxPool2d(2, 2)\n",
        "        #  upsampling\n",
        "        self.upsample = nn.Upsample(scale_factor=2, mode='bilinear', align_corners=True)\n",
        "        #  batch normalization\n",
        "        self.bn1 = nn.BatchNorm2d(32)\n",
        "        self.bn2 = nn.BatchNorm2d(64)\n",
        "        self.bn3 = nn.BatchNorm2d(32)\n",
        "        self.bn4 = nn.BatchNorm2d(128)\n",
        "        self.bn5 = nn.BatchNorm2d(64)\n",
        "        self.bn6 = nn.BatchNorm2d(64)\n",
        "        self.bn7 = nn.BatchNorm2d(32)\n",
        "        self.bn8 = nn.BatchNorm2d(1)\n",
        "        #  dropout\n",
        "        self.dropout = nn.Dropout(0.2)\n",
        "        # activation function\n",
        "        self.activ_conv = nn.ReLU()\n",
        "        self.activ_linear = nn.SELU()\n",
        "        # flatten and reshape\n",
        "        self.flatten = nn.Flatten()\n",
        "        self.reshape = nn.Unflatten(1, (32, 8, 16))\n",
        "        self.final = nn.Sigmoid()\n",
        "\n",
        "        # #  initialize weights\n",
        "        # for m in self.modules():\n",
        "        #     if isinstance(m, nn.Conv2d):\n",
        "        #         nn.init.kaiming_normal_(m.weight, mode='fan_out', nonlinearity='relu')\n",
        "        #         if m.bias is not None:\n",
        "        #             nn.init.constant_(m.bias, 0)\n",
        "        #     elif isinstance(m, nn.BatchNorm2d):\n",
        "        #         nn.init.constant_(m.weight, 1)\n",
        "        #         nn.init.constant_(m.bias, 0)\n",
        "        #     elif isinstance(m, nn.Linear):\n",
        "        #         nn.init.normal_(m.weight, 0, 0.01)\n",
        "        #         nn.init.constant_(m.bias, 0)\n",
        "        \n",
        "    def forward(self, x):\n",
        "        #  down-sampling blocks\n",
        "        x1 = self.bn1(self.activ_conv(self.conv1(x)))\n",
        "        x = self.maxpool(x1)\n",
        "        x2 = self.bn2(self.activ_conv(self.conv2(x)))\n",
        "        x = self.maxpool(x2)\n",
        "        x3 = self.bn3(self.activ_conv(self.conv3(x)))\n",
        "        x = self.maxpool(x3)\n",
        "\n",
        "        x = self.flatten(x)\n",
        "        x = (self.activ_linear(self.fc1(x)))\n",
        "        x = self.dropout(x)\n",
        "        x = (self.activ_linear(self.fc2(x)))\n",
        "        x = self.dropout(x)\n",
        "        x = (self.activ_linear(self.fc3(x)))\n",
        "        #  up-sampling blocks\n",
        "        x = self.reshape(x)\n",
        "        x = self.upsample(x)\n",
        "\n",
        "        x = torch.cat((x,x3), dim = 1)\n",
        "        # print(x.shape)\n",
        "        x = self.bn6(self.activ_conv(self.conv6(x)))\n",
        "        x = self.upsample(x)\n",
        "        x = torch.cat((x,x2), dim = 1)\n",
        "        # x = x + x2\n",
        "        # print(x.shape)\n",
        "        x = self.bn7(self.activ_conv(self.conv7(x)))\n",
        "        x = self.upsample(x)\n",
        "        x = torch.cat((x,x1), dim = 1)\n",
        "        # x = x + x1\n",
        "        x = self.conv8(x) # self.bn8(self.final(self.conv8(x)))\n",
        "        return x"
      ]
    },
    {
      "cell_type": "markdown",
      "metadata": {
        "id": "TIVpstV60VN3"
      },
      "source": [
        "### Train"
      ]
    },
    {
      "cell_type": "markdown",
      "metadata": {
        "id": "9adJ-RsMPFkp"
      },
      "source": [
        "#### Train loop"
      ]
    },
    {
      "cell_type": "code",
      "execution_count": null,
      "metadata": {
        "id": "0rUm_zz-64OK"
      },
      "outputs": [],
      "source": [
        "def train(\n",
        "    model: Module,\n",
        "    optim: torch.optim.Optimizer,\n",
        "    criterion,\n",
        "    train_loader: DataLoader,\n",
        "    test_loader : DataLoader,\n",
        "    device: str = \"cuda:0\",\n",
        "    train: bool = True,\n",
        "    epochs : int = 10\n",
        "    ) -> None:\n",
        "  best_loss = np.inf\n",
        "  for i in tqdm(range(epochs)):\n",
        "\n",
        "    # Train\n",
        "    loss = step(model, optim, criterion, train_loader, train=True)\n",
        "    wandb.log({\"train_loss\" : loss})\n",
        "\n",
        "    # test\n",
        "    loss = step(model,optim,criterion,test_loader,train = False)\n",
        "    wandb.log({\"test_loss\" : loss})\n",
        "    # if i%2 == 0:\n",
        "    #   mean_dist = valid(model, test_loader, nb = 50 )\n",
        "    #   wandb.log({\"mean_distance\" : mean_dist})\n",
        "\n",
        "\n",
        "    if loss < best_loss:\n",
        "      best_loss = loss\n",
        "      torch.save(model.state_dict(),\"./weights_unet_v2.txt\")"
      ]
    },
    {
      "cell_type": "markdown",
      "metadata": {
        "id": "jn_uFXZCPCUl"
      },
      "source": [
        "#### Training"
      ]
    },
    {
      "cell_type": "code",
      "execution_count": null,
      "metadata": {
        "colab": {
          "base_uri": "https://localhost:8080/",
          "height": 1000
        },
        "id": "qSfUBqS10eK1",
        "outputId": "bf0cc42a-d9f9-4090-f571-18dfe8ebab36"
      },
      "outputs": [
        {
          "name": "stderr",
          "output_type": "stream",
          "text": [
            "100%|██████████| 30/30 [00:09<00:00,  3.33it/s]\n",
            "100%|██████████| 10/10 [00:02<00:00,  4.56it/s]\n",
            "100%|██████████| 30/30 [00:09<00:00,  3.16it/s]\n",
            "100%|██████████| 10/10 [00:02<00:00,  4.69it/s]\n",
            "100%|██████████| 30/30 [00:09<00:00,  3.12it/s]\n",
            "100%|██████████| 10/10 [00:02<00:00,  4.78it/s]\n",
            "100%|██████████| 30/30 [00:09<00:00,  3.21it/s]\n",
            "100%|██████████| 10/10 [00:02<00:00,  4.75it/s]\n",
            "100%|██████████| 30/30 [00:09<00:00,  3.26it/s]\n",
            "100%|██████████| 10/10 [00:02<00:00,  4.79it/s]\n",
            "100%|██████████| 30/30 [00:09<00:00,  3.25it/s]\n",
            "100%|██████████| 10/10 [00:02<00:00,  4.57it/s]\n",
            "100%|██████████| 30/30 [00:09<00:00,  3.22it/s]\n",
            "100%|██████████| 10/10 [00:02<00:00,  4.84it/s]\n",
            "100%|██████████| 30/30 [00:08<00:00,  3.34it/s]\n",
            "100%|██████████| 10/10 [00:02<00:00,  4.90it/s]\n",
            "100%|██████████| 30/30 [00:09<00:00,  3.26it/s]\n",
            "100%|██████████| 10/10 [00:02<00:00,  4.62it/s]\n",
            "100%|██████████| 30/30 [00:09<00:00,  3.30it/s]\n",
            "100%|██████████| 10/10 [00:02<00:00,  4.23it/s]\n",
            "100%|██████████| 30/30 [00:08<00:00,  3.44it/s]]\n",
            "100%|██████████| 10/10 [00:02<00:00,  4.55it/s]\n",
            "100%|██████████| 30/30 [00:09<00:00,  3.27it/s]]\n",
            "100%|██████████| 10/10 [00:02<00:00,  4.49it/s]\n",
            "100%|██████████| 30/30 [00:09<00:00,  3.21it/s]]\n",
            "100%|██████████| 10/10 [00:02<00:00,  4.70it/s]\n",
            "100%|██████████| 30/30 [00:08<00:00,  3.35it/s]]\n",
            "100%|██████████| 10/10 [00:02<00:00,  4.64it/s]\n",
            "100%|██████████| 30/30 [00:08<00:00,  3.48it/s]]\n",
            "100%|██████████| 10/10 [00:02<00:00,  4.65it/s]\n",
            "100%|██████████| 30/30 [00:08<00:00,  3.52it/s]]\n",
            "100%|██████████| 10/10 [00:02<00:00,  4.61it/s]\n",
            "100%|██████████| 30/30 [00:09<00:00,  3.24it/s]]\n",
            "100%|██████████| 10/10 [00:02<00:00,  4.66it/s]\n",
            "100%|██████████| 30/30 [00:09<00:00,  3.28it/s]]\n",
            "100%|██████████| 10/10 [00:02<00:00,  4.71it/s]\n",
            "100%|██████████| 30/30 [00:09<00:00,  3.18it/s]]\n",
            "100%|██████████| 10/10 [00:02<00:00,  4.83it/s]\n",
            "100%|██████████| 30/30 [00:09<00:00,  3.12it/s]]\n",
            "100%|██████████| 10/10 [00:02<00:00,  4.68it/s]\n",
            "100%|██████████| 30/30 [00:09<00:00,  3.22it/s]]\n",
            "100%|██████████| 10/10 [00:02<00:00,  4.54it/s]\n",
            "100%|██████████| 30/30 [00:09<00:00,  3.16it/s]]\n",
            "100%|██████████| 10/10 [00:02<00:00,  4.66it/s]\n",
            "100%|██████████| 30/30 [00:09<00:00,  3.15it/s]]\n",
            "100%|██████████| 10/10 [00:02<00:00,  4.41it/s]\n",
            "100%|██████████| 30/30 [00:08<00:00,  3.38it/s]]\n",
            "100%|██████████| 10/10 [00:02<00:00,  4.50it/s]\n",
            "100%|██████████| 30/30 [00:09<00:00,  3.24it/s]]\n",
            "100%|██████████| 10/10 [00:02<00:00,  4.70it/s]\n",
            "100%|██████████| 30/30 [00:09<00:00,  3.28it/s]]\n",
            "100%|██████████| 10/10 [00:02<00:00,  4.70it/s]\n",
            "100%|██████████| 30/30 [00:09<00:00,  3.23it/s]]\n",
            "100%|██████████| 10/10 [00:02<00:00,  4.93it/s]\n",
            "100%|██████████| 30/30 [00:09<00:00,  3.26it/s]]\n",
            "100%|██████████| 10/10 [00:02<00:00,  4.62it/s]\n",
            "100%|██████████| 30/30 [00:09<00:00,  3.16it/s]]\n",
            "100%|██████████| 10/10 [00:02<00:00,  4.54it/s]\n",
            "100%|██████████| 30/30 [00:09<00:00,  3.11it/s]]\n",
            "100%|██████████| 10/10 [00:02<00:00,  4.53it/s]\n",
            "100%|██████████| 30/30 [00:09<00:00,  3.19it/s]]\n",
            "100%|██████████| 10/10 [00:02<00:00,  4.52it/s]\n",
            "100%|██████████| 30/30 [00:09<00:00,  3.31it/s]]\n",
            "100%|██████████| 10/10 [00:02<00:00,  4.15it/s]\n",
            "100%|██████████| 30/30 [00:09<00:00,  3.20it/s]]\n",
            "100%|██████████| 10/10 [00:02<00:00,  4.60it/s]\n",
            "100%|██████████| 30/30 [00:09<00:00,  3.16it/s]]\n",
            "100%|██████████| 10/10 [00:02<00:00,  4.43it/s]\n",
            "100%|██████████| 30/30 [00:08<00:00,  3.36it/s]]\n",
            "100%|██████████| 10/10 [00:02<00:00,  4.80it/s]\n",
            "100%|██████████| 30/30 [00:09<00:00,  3.21it/s]]\n",
            "100%|██████████| 10/10 [00:02<00:00,  4.78it/s]\n",
            "100%|██████████| 30/30 [00:09<00:00,  3.06it/s]]\n",
            "100%|██████████| 10/10 [00:02<00:00,  4.58it/s]\n",
            "100%|██████████| 30/30 [00:09<00:00,  3.23it/s]]\n",
            "100%|██████████| 10/10 [00:02<00:00,  4.88it/s]\n",
            "100%|██████████| 30/30 [00:09<00:00,  3.10it/s]]\n",
            "100%|██████████| 10/10 [00:02<00:00,  4.71it/s]\n",
            "100%|██████████| 30/30 [00:09<00:00,  3.28it/s]]\n",
            "100%|██████████| 10/10 [00:02<00:00,  4.41it/s]\n",
            "100%|██████████| 30/30 [00:09<00:00,  3.17it/s]]\n",
            "100%|██████████| 10/10 [00:02<00:00,  4.37it/s]\n",
            "100%|██████████| 30/30 [00:09<00:00,  3.09it/s]]\n",
            "100%|██████████| 10/10 [00:02<00:00,  4.68it/s]\n",
            "100%|██████████| 30/30 [00:09<00:00,  3.21it/s]]\n",
            "100%|██████████| 10/10 [00:02<00:00,  4.70it/s]\n",
            "100%|██████████| 30/30 [00:09<00:00,  3.26it/s]]\n",
            "100%|██████████| 10/10 [00:02<00:00,  4.81it/s]\n",
            "100%|██████████| 30/30 [00:09<00:00,  3.22it/s]]\n",
            "100%|██████████| 10/10 [00:02<00:00,  4.90it/s]\n",
            "100%|██████████| 30/30 [00:09<00:00,  3.19it/s]]\n",
            "100%|██████████| 10/10 [00:02<00:00,  4.38it/s]\n",
            "100%|██████████| 30/30 [00:09<00:00,  3.16it/s]]\n",
            "100%|██████████| 10/10 [00:02<00:00,  4.79it/s]\n",
            "100%|██████████| 30/30 [00:09<00:00,  3.11it/s]]\n",
            "100%|██████████| 10/10 [00:02<00:00,  4.39it/s]\n",
            "100%|██████████| 30/30 [00:09<00:00,  3.27it/s]]\n",
            "100%|██████████| 10/10 [00:02<00:00,  4.52it/s]\n",
            "100%|██████████| 30/30 [00:09<00:00,  3.16it/s]]\n",
            "100%|██████████| 10/10 [00:02<00:00,  4.91it/s]\n",
            "100%|██████████| 30/30 [00:09<00:00,  3.16it/s]]\n",
            "100%|██████████| 10/10 [00:02<00:00,  4.42it/s]\n",
            "100%|██████████| 30/30 [00:08<00:00,  3.36it/s]]\n",
            "100%|██████████| 10/10 [00:02<00:00,  4.72it/s]\n",
            "100%|██████████| 30/30 [00:09<00:00,  3.11it/s]]\n",
            "100%|██████████| 10/10 [00:02<00:00,  4.94it/s]\n",
            "100%|██████████| 30/30 [00:09<00:00,  3.08it/s]]\n",
            "100%|██████████| 10/10 [00:02<00:00,  4.41it/s]\n",
            "100%|██████████| 30/30 [00:09<00:00,  3.18it/s]]\n",
            "100%|██████████| 10/10 [00:02<00:00,  4.45it/s]\n",
            "100%|██████████| 30/30 [00:09<00:00,  3.25it/s]]\n",
            "100%|██████████| 10/10 [00:02<00:00,  4.56it/s]\n",
            "100%|██████████| 30/30 [00:09<00:00,  3.23it/s]]\n",
            "100%|██████████| 10/10 [00:02<00:00,  4.54it/s]\n",
            "100%|██████████| 30/30 [00:09<00:00,  3.19it/s]]\n",
            "100%|██████████| 10/10 [00:01<00:00,  5.09it/s]\n",
            "100%|██████████| 30/30 [00:09<00:00,  3.26it/s]]\n",
            "100%|██████████| 10/10 [00:02<00:00,  4.52it/s]\n",
            "100%|██████████| 30/30 [00:09<00:00,  3.14it/s]]\n",
            "100%|██████████| 10/10 [00:02<00:00,  4.64it/s]\n",
            "100%|██████████| 30/30 [00:09<00:00,  3.18it/s]]\n",
            "100%|██████████| 10/10 [00:02<00:00,  4.71it/s]\n",
            "100%|██████████| 30/30 [00:09<00:00,  3.07it/s]]\n",
            "100%|██████████| 10/10 [00:02<00:00,  4.70it/s]\n",
            "100%|██████████| 30/30 [00:09<00:00,  3.22it/s]]\n",
            "100%|██████████| 10/10 [00:02<00:00,  4.51it/s]\n",
            "100%|██████████| 30/30 [00:08<00:00,  3.34it/s]]\n",
            "100%|██████████| 10/10 [00:02<00:00,  4.40it/s]\n",
            "100%|██████████| 30/30 [00:09<00:00,  3.27it/s]]\n",
            "100%|██████████| 10/10 [00:02<00:00,  4.21it/s]\n",
            "100%|██████████| 30/30 [00:09<00:00,  3.21it/s]]\n",
            "100%|██████████| 10/10 [00:02<00:00,  4.97it/s]\n",
            "100%|██████████| 30/30 [00:09<00:00,  3.20it/s]]\n",
            "100%|██████████| 10/10 [00:02<00:00,  4.42it/s]\n",
            "100%|██████████| 30/30 [00:09<00:00,  3.14it/s]]\n",
            "100%|██████████| 10/10 [00:01<00:00,  5.07it/s]\n",
            "100%|██████████| 30/30 [00:09<00:00,  3.28it/s]]\n",
            "100%|██████████| 10/10 [00:02<00:00,  4.60it/s]\n",
            "100%|██████████| 30/30 [00:09<00:00,  3.30it/s]]\n",
            "100%|██████████| 10/10 [00:02<00:00,  4.66it/s]\n",
            "100%|██████████| 30/30 [00:09<00:00,  3.12it/s]]\n",
            "100%|██████████| 10/10 [00:02<00:00,  4.81it/s]\n",
            "100%|██████████| 30/30 [00:09<00:00,  3.18it/s]]\n",
            "100%|██████████| 10/10 [00:02<00:00,  4.23it/s]\n",
            "100%|██████████| 30/30 [00:09<00:00,  3.16it/s]]\n",
            "100%|██████████| 10/10 [00:02<00:00,  4.58it/s]\n",
            "100%|██████████| 30/30 [00:09<00:00,  3.16it/s]]\n",
            "100%|██████████| 10/10 [00:02<00:00,  4.60it/s]\n",
            "100%|██████████| 30/30 [00:08<00:00,  3.35it/s]]\n",
            "100%|██████████| 10/10 [00:02<00:00,  4.74it/s]\n",
            "100%|██████████| 30/30 [00:09<00:00,  3.17it/s]]\n",
            "100%|██████████| 10/10 [00:02<00:00,  4.67it/s]\n",
            "100%|██████████| 30/30 [00:09<00:00,  3.23it/s]]\n",
            "100%|██████████| 10/10 [00:02<00:00,  4.58it/s]\n",
            "100%|██████████| 30/30 [00:09<00:00,  3.11it/s]]\n",
            "100%|██████████| 10/10 [00:02<00:00,  4.75it/s]\n",
            "100%|██████████| 30/30 [00:09<00:00,  3.20it/s]]\n",
            "100%|██████████| 10/10 [00:02<00:00,  4.63it/s]\n",
            "100%|██████████| 30/30 [00:09<00:00,  3.22it/s]]\n",
            "100%|██████████| 10/10 [00:02<00:00,  4.64it/s]\n",
            "100%|██████████| 30/30 [00:09<00:00,  3.26it/s]]\n",
            "100%|██████████| 10/10 [00:02<00:00,  4.36it/s]\n",
            "100%|██████████| 30/30 [00:09<00:00,  3.15it/s]]\n",
            "100%|██████████| 10/10 [00:02<00:00,  4.92it/s]\n",
            "100%|██████████| 30/30 [00:09<00:00,  3.19it/s]]\n",
            "100%|██████████| 10/10 [00:02<00:00,  4.67it/s]\n",
            "100%|██████████| 30/30 [00:09<00:00,  3.10it/s]]\n",
            "100%|██████████| 10/10 [00:02<00:00,  4.62it/s]\n",
            "100%|██████████| 30/30 [00:09<00:00,  3.20it/s]]\n",
            "100%|██████████| 10/10 [00:01<00:00,  5.04it/s]\n",
            "100%|██████████| 30/30 [00:09<00:00,  3.24it/s]]\n",
            "100%|██████████| 10/10 [00:02<00:00,  4.80it/s]\n",
            "100%|██████████| 30/30 [00:09<00:00,  3.21it/s]]\n",
            "100%|██████████| 10/10 [00:02<00:00,  4.77it/s]\n",
            "100%|██████████| 30/30 [00:09<00:00,  3.31it/s]]\n",
            "100%|██████████| 10/10 [00:02<00:00,  4.80it/s]\n",
            "100%|██████████| 30/30 [00:09<00:00,  3.14it/s]]\n",
            "100%|██████████| 10/10 [00:02<00:00,  4.44it/s]\n",
            "100%|██████████| 30/30 [00:09<00:00,  3.14it/s]]\n",
            "100%|██████████| 10/10 [00:02<00:00,  4.32it/s]\n",
            "100%|██████████| 30/30 [00:09<00:00,  3.27it/s]]\n",
            "100%|██████████| 10/10 [00:02<00:00,  4.50it/s]\n",
            "100%|██████████| 30/30 [00:09<00:00,  3.20it/s]]\n",
            "100%|██████████| 10/10 [00:02<00:00,  4.94it/s]\n",
            "100%|██████████| 30/30 [00:09<00:00,  3.24it/s]]\n",
            "100%|██████████| 10/10 [00:02<00:00,  4.65it/s]\n",
            "100%|██████████| 30/30 [00:09<00:00,  3.21it/s]]\n",
            "100%|██████████| 10/10 [00:02<00:00,  4.69it/s]\n",
            "100%|██████████| 30/30 [00:09<00:00,  3.33it/s]]\n",
            "100%|██████████| 10/10 [00:02<00:00,  4.54it/s]\n",
            "100%|██████████| 30/30 [00:09<00:00,  3.27it/s]]\n",
            "100%|██████████| 10/10 [00:02<00:00,  4.86it/s]\n",
            "100%|██████████| 30/30 [00:08<00:00,  3.40it/s]]\n",
            "100%|██████████| 10/10 [00:02<00:00,  4.97it/s]\n",
            "100%|██████████| 30/30 [00:09<00:00,  3.12it/s]]\n",
            "100%|██████████| 10/10 [00:02<00:00,  4.62it/s]\n",
            "100%|██████████| 30/30 [00:08<00:00,  3.40it/s]]\n",
            "100%|██████████| 10/10 [00:02<00:00,  4.47it/s]\n",
            "100%|██████████| 30/30 [00:09<00:00,  3.29it/s]]\n",
            "100%|██████████| 10/10 [00:02<00:00,  4.55it/s]\n",
            "100%|██████████| 30/30 [00:09<00:00,  3.00it/s]t]\n",
            "100%|██████████| 10/10 [00:02<00:00,  4.65it/s]\n",
            "100%|██████████| 30/30 [00:08<00:00,  3.34it/s]t]\n",
            "100%|██████████| 10/10 [00:02<00:00,  4.31it/s]\n",
            "100%|██████████| 30/30 [00:08<00:00,  3.41it/s]t]\n",
            "100%|██████████| 10/10 [00:02<00:00,  4.47it/s]\n",
            "100%|██████████| 30/30 [00:09<00:00,  3.12it/s]t]\n",
            "100%|██████████| 10/10 [00:02<00:00,  4.95it/s]\n",
            "100%|██████████| 30/30 [00:09<00:00,  3.09it/s]t]\n",
            "100%|██████████| 10/10 [00:02<00:00,  4.77it/s]\n",
            "100%|██████████| 30/30 [00:09<00:00,  3.16it/s]t]\n",
            "100%|██████████| 10/10 [00:02<00:00,  4.57it/s]\n",
            "100%|██████████| 30/30 [00:09<00:00,  3.31it/s]t]\n",
            "100%|██████████| 10/10 [00:02<00:00,  4.61it/s]\n",
            "100%|██████████| 30/30 [00:09<00:00,  3.10it/s]t]\n",
            "100%|██████████| 10/10 [00:02<00:00,  4.54it/s]\n",
            "100%|██████████| 30/30 [00:09<00:00,  3.22it/s]t]\n",
            "100%|██████████| 10/10 [00:02<00:00,  4.61it/s]\n",
            "100%|██████████| 30/30 [00:09<00:00,  3.25it/s]t]\n",
            "100%|██████████| 10/10 [00:02<00:00,  4.48it/s]\n",
            "100%|██████████| 30/30 [00:09<00:00,  3.11it/s]t]\n",
            "100%|██████████| 10/10 [00:02<00:00,  4.64it/s]\n",
            "100%|██████████| 30/30 [00:09<00:00,  3.32it/s]t]\n",
            "100%|██████████| 10/10 [00:02<00:00,  4.71it/s]\n",
            "100%|██████████| 30/30 [00:09<00:00,  3.09it/s]t]\n",
            "100%|██████████| 10/10 [00:02<00:00,  4.73it/s]\n",
            "100%|██████████| 30/30 [00:10<00:00,  2.94it/s]t]\n",
            "100%|██████████| 10/10 [00:02<00:00,  4.79it/s]\n",
            "100%|██████████| 30/30 [00:09<00:00,  3.16it/s]t]\n",
            "100%|██████████| 10/10 [00:02<00:00,  4.55it/s]\n",
            "100%|██████████| 30/30 [00:09<00:00,  3.12it/s]t]\n",
            "100%|██████████| 10/10 [00:02<00:00,  4.49it/s]\n",
            "100%|██████████| 30/30 [00:09<00:00,  3.17it/s]t]\n",
            "100%|██████████| 10/10 [00:02<00:00,  4.34it/s]\n",
            "100%|██████████| 30/30 [00:08<00:00,  3.34it/s]t]\n",
            "100%|██████████| 10/10 [00:02<00:00,  4.37it/s]\n",
            "100%|██████████| 30/30 [00:09<00:00,  3.33it/s]t]\n",
            "100%|██████████| 10/10 [00:02<00:00,  4.71it/s]\n",
            "100%|██████████| 30/30 [00:09<00:00,  3.10it/s]t]\n",
            "100%|██████████| 10/10 [00:02<00:00,  4.48it/s]\n",
            "100%|██████████| 30/30 [00:09<00:00,  3.25it/s]t]\n",
            "100%|██████████| 10/10 [00:02<00:00,  4.48it/s]\n",
            "100%|██████████| 30/30 [00:09<00:00,  3.11it/s]t]\n",
            "100%|██████████| 10/10 [00:02<00:00,  4.73it/s]\n",
            "100%|██████████| 30/30 [00:09<00:00,  3.23it/s]t]\n",
            "100%|██████████| 10/10 [00:02<00:00,  4.39it/s]\n",
            "100%|██████████| 30/30 [00:09<00:00,  3.32it/s]t]\n",
            "100%|██████████| 10/10 [00:01<00:00,  5.02it/s]\n",
            "100%|██████████| 30/30 [00:08<00:00,  3.54it/s]t]\n",
            "100%|██████████| 10/10 [00:02<00:00,  4.43it/s]\n",
            "100%|██████████| 30/30 [00:09<00:00,  3.12it/s]t]\n",
            "100%|██████████| 10/10 [00:02<00:00,  4.23it/s]\n",
            "100%|██████████| 30/30 [00:09<00:00,  3.25it/s]t]\n",
            "100%|██████████| 10/10 [00:02<00:00,  4.37it/s]\n",
            "100%|██████████| 30/30 [00:09<00:00,  3.10it/s]t]\n",
            "100%|██████████| 10/10 [00:02<00:00,  4.68it/s]\n",
            "100%|██████████| 30/30 [00:09<00:00,  3.22it/s]t]\n",
            "100%|██████████| 10/10 [00:02<00:00,  4.78it/s]\n",
            "100%|██████████| 30/30 [00:09<00:00,  3.16it/s]t]\n",
            "100%|██████████| 10/10 [00:02<00:00,  4.59it/s]\n",
            "100%|██████████| 30/30 [00:09<00:00,  3.18it/s]t]\n",
            "100%|██████████| 10/10 [00:02<00:00,  4.63it/s]\n",
            "100%|██████████| 30/30 [00:08<00:00,  3.34it/s]t]\n",
            "100%|██████████| 10/10 [00:02<00:00,  4.41it/s]\n",
            "100%|██████████| 30/30 [00:09<00:00,  3.14it/s]t]\n",
            "100%|██████████| 10/10 [00:02<00:00,  4.18it/s]\n",
            "100%|██████████| 30/30 [00:09<00:00,  3.13it/s]t]\n",
            "100%|██████████| 10/10 [00:02<00:00,  4.92it/s]\n",
            "100%|██████████| 30/30 [00:09<00:00,  3.15it/s]t]\n",
            "100%|██████████| 10/10 [00:02<00:00,  4.59it/s]\n",
            "100%|██████████| 30/30 [00:08<00:00,  3.38it/s]t]\n",
            "100%|██████████| 10/10 [00:02<00:00,  4.72it/s]\n",
            "100%|██████████| 30/30 [00:09<00:00,  3.06it/s]t]\n",
            "100%|██████████| 10/10 [00:02<00:00,  4.69it/s]\n",
            "100%|██████████| 30/30 [00:09<00:00,  3.28it/s]t]\n",
            "100%|██████████| 10/10 [00:02<00:00,  4.39it/s]\n",
            "100%|██████████| 30/30 [00:09<00:00,  3.18it/s]t]\n",
            "100%|██████████| 10/10 [00:02<00:00,  4.52it/s]\n",
            "100%|██████████| 30/30 [00:09<00:00,  3.06it/s]t]\n",
            "100%|██████████| 10/10 [00:02<00:00,  4.52it/s]\n",
            "100%|██████████| 30/30 [00:09<00:00,  3.23it/s]t]\n",
            "100%|██████████| 10/10 [00:02<00:00,  4.69it/s]\n",
            "100%|██████████| 30/30 [00:09<00:00,  3.18it/s]t]\n",
            "100%|██████████| 10/10 [00:02<00:00,  4.68it/s]\n",
            "100%|██████████| 30/30 [00:09<00:00,  3.25it/s]t]\n",
            "100%|██████████| 10/10 [00:02<00:00,  4.86it/s]\n",
            "100%|██████████| 30/30 [00:09<00:00,  3.14it/s]t]\n",
            "100%|██████████| 10/10 [00:02<00:00,  4.83it/s]\n",
            "100%|██████████| 30/30 [00:09<00:00,  3.13it/s]t]\n",
            "100%|██████████| 10/10 [00:02<00:00,  4.65it/s]\n",
            "100%|██████████| 30/30 [00:09<00:00,  3.14it/s]t]\n",
            "100%|██████████| 10/10 [00:02<00:00,  4.74it/s]\n",
            "100%|██████████| 30/30 [00:09<00:00,  3.20it/s]t]\n",
            "100%|██████████| 10/10 [00:02<00:00,  4.33it/s]\n",
            "100%|██████████| 30/30 [00:09<00:00,  3.10it/s]t]\n",
            "100%|██████████| 10/10 [00:02<00:00,  4.47it/s]\n",
            "100%|██████████| 30/30 [00:09<00:00,  3.24it/s]t]\n",
            "100%|██████████| 10/10 [00:02<00:00,  4.51it/s]\n",
            "100%|██████████| 30/30 [00:09<00:00,  3.17it/s]t]\n",
            "100%|██████████| 10/10 [00:02<00:00,  4.71it/s]\n",
            "100%|██████████| 30/30 [00:09<00:00,  3.14it/s]t]\n",
            "100%|██████████| 10/10 [00:02<00:00,  4.71it/s]\n",
            "100%|██████████| 30/30 [00:09<00:00,  3.21it/s]t]\n",
            "100%|██████████| 10/10 [00:02<00:00,  4.54it/s]\n",
            "100%|██████████| 30/30 [00:09<00:00,  3.20it/s]t]\n",
            "100%|██████████| 10/10 [00:02<00:00,  4.39it/s]\n",
            "100%|██████████| 30/30 [00:09<00:00,  3.03it/s]t]\n",
            "100%|██████████| 10/10 [00:02<00:00,  4.55it/s]\n",
            "100%|██████████| 30/30 [00:09<00:00,  3.12it/s]t]\n",
            "100%|██████████| 10/10 [00:02<00:00,  4.08it/s]\n",
            "100%|██████████| 30/30 [00:09<00:00,  3.21it/s]t]\n",
            "100%|██████████| 10/10 [00:02<00:00,  4.69it/s]\n",
            "100%|██████████| 30/30 [00:09<00:00,  3.16it/s]t]\n",
            "100%|██████████| 10/10 [00:02<00:00,  4.60it/s]\n",
            "100%|██████████| 30/30 [00:09<00:00,  3.27it/s]t]\n",
            "100%|██████████| 10/10 [00:02<00:00,  4.69it/s]\n",
            "100%|██████████| 30/30 [00:08<00:00,  3.33it/s]t]\n",
            "100%|██████████| 10/10 [00:02<00:00,  4.75it/s]\n",
            "100%|██████████| 30/30 [00:08<00:00,  3.34it/s]t]\n",
            "100%|██████████| 10/10 [00:02<00:00,  4.73it/s]\n",
            "100%|██████████| 30/30 [00:09<00:00,  3.27it/s]t]\n",
            "100%|██████████| 10/10 [00:02<00:00,  4.66it/s]\n",
            "100%|██████████| 30/30 [00:09<00:00,  3.22it/s]t]\n",
            "100%|██████████| 10/10 [00:02<00:00,  4.62it/s]\n",
            "100%|██████████| 30/30 [00:09<00:00,  3.14it/s]t]\n",
            "100%|██████████| 10/10 [00:02<00:00,  4.55it/s]\n",
            "100%|██████████| 30/30 [00:09<00:00,  3.16it/s]t]\n",
            "100%|██████████| 10/10 [00:02<00:00,  4.20it/s]\n",
            "100%|██████████| 30/30 [00:09<00:00,  3.20it/s]t]\n",
            "100%|██████████| 10/10 [00:02<00:00,  4.73it/s]\n",
            "100%|██████████| 30/30 [00:09<00:00,  3.20it/s]t]\n",
            "100%|██████████| 10/10 [00:02<00:00,  4.99it/s]\n",
            "100%|██████████| 30/30 [00:09<00:00,  3.12it/s]t]\n",
            "100%|██████████| 10/10 [00:02<00:00,  4.46it/s]\n",
            "100%|██████████| 30/30 [00:09<00:00,  3.16it/s]t]\n",
            "100%|██████████| 10/10 [00:02<00:00,  4.66it/s]\n",
            "100%|██████████| 30/30 [00:10<00:00,  2.97it/s]t]\n",
            "100%|██████████| 10/10 [00:02<00:00,  4.40it/s]\n",
            "100%|██████████| 30/30 [00:09<00:00,  3.24it/s]t]\n",
            "100%|██████████| 10/10 [00:02<00:00,  4.23it/s]\n",
            "100%|██████████| 30/30 [00:09<00:00,  3.03it/s]t]\n",
            "100%|██████████| 10/10 [00:02<00:00,  4.38it/s]\n",
            "100%|██████████| 30/30 [00:10<00:00,  2.97it/s]t]\n",
            "100%|██████████| 10/10 [00:02<00:00,  4.60it/s]\n",
            "100%|██████████| 30/30 [00:09<00:00,  3.04it/s]t]\n",
            "100%|██████████| 10/10 [00:02<00:00,  4.74it/s]\n",
            "100%|██████████| 30/30 [00:08<00:00,  3.34it/s]t]\n",
            "100%|██████████| 10/10 [00:02<00:00,  4.72it/s]\n",
            "100%|██████████| 30/30 [00:09<00:00,  3.24it/s]t]\n",
            "100%|██████████| 10/10 [00:02<00:00,  4.29it/s]\n",
            "100%|██████████| 30/30 [00:09<00:00,  3.27it/s]t]\n",
            "100%|██████████| 10/10 [00:02<00:00,  4.03it/s]\n",
            "100%|██████████| 30/30 [00:09<00:00,  3.02it/s]t]\n",
            "100%|██████████| 10/10 [00:02<00:00,  4.41it/s]\n",
            "100%|██████████| 30/30 [00:09<00:00,  3.24it/s]t]\n",
            "100%|██████████| 10/10 [00:02<00:00,  4.65it/s]\n",
            "100%|██████████| 30/30 [00:09<00:00,  3.27it/s]t]\n",
            "100%|██████████| 10/10 [00:02<00:00,  4.74it/s]\n",
            "100%|██████████| 30/30 [00:09<00:00,  3.30it/s]t]\n",
            "100%|██████████| 10/10 [00:02<00:00,  4.69it/s]\n",
            "100%|██████████| 30/30 [00:09<00:00,  3.18it/s]t]\n",
            "100%|██████████| 10/10 [00:02<00:00,  4.90it/s]\n",
            "100%|██████████| 30/30 [00:09<00:00,  3.11it/s]t]\n",
            "100%|██████████| 10/10 [00:02<00:00,  4.49it/s]\n",
            "100%|██████████| 30/30 [00:09<00:00,  3.16it/s]t]\n",
            "100%|██████████| 10/10 [00:02<00:00,  4.58it/s]\n",
            "100%|██████████| 30/30 [00:09<00:00,  3.15it/s]t]\n",
            "100%|██████████| 10/10 [00:02<00:00,  4.52it/s]\n",
            "100%|██████████| 30/30 [00:09<00:00,  3.28it/s]t]\n",
            "100%|██████████| 10/10 [00:02<00:00,  4.59it/s]\n",
            "100%|██████████| 30/30 [00:09<00:00,  3.09it/s]t]\n",
            "100%|██████████| 10/10 [00:02<00:00,  4.49it/s]\n",
            "100%|██████████| 30/30 [00:09<00:00,  3.20it/s]t]\n",
            "100%|██████████| 10/10 [00:02<00:00,  4.79it/s]\n",
            "100%|██████████| 30/30 [00:09<00:00,  3.23it/s]t]\n",
            "100%|██████████| 10/10 [00:02<00:00,  4.76it/s]\n",
            "100%|██████████| 30/30 [00:09<00:00,  3.15it/s]t]\n",
            "100%|██████████| 10/10 [00:02<00:00,  4.64it/s]\n",
            "100%|██████████| 30/30 [00:09<00:00,  3.16it/s]t]\n",
            "100%|██████████| 10/10 [00:02<00:00,  4.54it/s]\n",
            "100%|██████████| 30/30 [00:09<00:00,  3.24it/s]t]\n",
            "100%|██████████| 10/10 [00:02<00:00,  4.16it/s]\n",
            "100%|██████████| 30/30 [00:09<00:00,  3.15it/s]t]\n",
            "100%|██████████| 10/10 [00:01<00:00,  5.02it/s]\n",
            "100%|██████████| 30/30 [00:09<00:00,  3.21it/s]t]\n",
            "100%|██████████| 10/10 [00:02<00:00,  4.76it/s]\n",
            "100%|██████████| 30/30 [00:09<00:00,  3.14it/s]t]\n",
            "100%|██████████| 10/10 [00:02<00:00,  4.69it/s]\n",
            "100%|██████████| 30/30 [00:09<00:00,  3.23it/s]t]\n",
            "100%|██████████| 10/10 [00:02<00:00,  4.75it/s]\n",
            "100%|██████████| 30/30 [00:09<00:00,  3.23it/s]t]\n",
            "100%|██████████| 10/10 [00:02<00:00,  4.93it/s]\n",
            "100%|██████████| 30/30 [00:09<00:00,  3.16it/s]t]\n",
            "100%|██████████| 10/10 [00:02<00:00,  4.69it/s]\n",
            "100%|██████████| 30/30 [00:09<00:00,  3.17it/s]t]\n",
            "100%|██████████| 10/10 [00:02<00:00,  4.61it/s]\n",
            "100%|██████████| 30/30 [00:09<00:00,  3.26it/s]t]\n",
            "100%|██████████| 10/10 [00:02<00:00,  4.11it/s]\n",
            "100%|██████████| 30/30 [00:09<00:00,  3.32it/s]t]\n",
            "100%|██████████| 10/10 [00:02<00:00,  4.64it/s]\n",
            "100%|██████████| 30/30 [00:09<00:00,  3.17it/s]t]\n",
            "100%|██████████| 10/10 [00:02<00:00,  4.67it/s]\n",
            "100%|██████████| 30/30 [00:09<00:00,  3.18it/s]t]\n",
            "100%|██████████| 10/10 [00:02<00:00,  4.69it/s]\n",
            "100%|██████████| 30/30 [00:08<00:00,  3.37it/s]t]\n",
            "100%|██████████| 10/10 [00:02<00:00,  4.79it/s]\n",
            "100%|██████████| 30/30 [00:09<00:00,  3.28it/s]t]\n",
            "100%|██████████| 10/10 [00:02<00:00,  4.94it/s]\n",
            "100%|██████████| 30/30 [00:09<00:00,  3.13it/s]t]\n",
            "100%|██████████| 10/10 [00:02<00:00,  4.68it/s]\n",
            "100%|██████████| 30/30 [00:09<00:00,  3.13it/s]t]\n",
            "100%|██████████| 10/10 [00:02<00:00,  4.57it/s]\n",
            "100%|██████████| 30/30 [00:09<00:00,  3.20it/s]t]\n",
            "100%|██████████| 10/10 [00:02<00:00,  4.59it/s]\n",
            "100%|██████████| 30/30 [00:09<00:00,  3.23it/s]t]\n",
            "100%|██████████| 10/10 [00:02<00:00,  4.55it/s]\n",
            "100%|██████████| 30/30 [00:09<00:00,  3.20it/s]t]\n",
            "100%|██████████| 10/10 [00:02<00:00,  4.75it/s]\n",
            "100%|██████████| 30/30 [00:09<00:00,  3.13it/s]t]\n",
            "100%|██████████| 10/10 [00:02<00:00,  4.76it/s]\n",
            "100%|██████████| 30/30 [00:09<00:00,  3.27it/s]t]\n",
            "100%|██████████| 10/10 [00:02<00:00,  4.65it/s]\n",
            "100%|██████████| 30/30 [00:09<00:00,  3.18it/s]t]\n",
            "100%|██████████| 10/10 [00:02<00:00,  4.70it/s]\n",
            "100%|██████████| 30/30 [00:09<00:00,  3.05it/s]t]\n",
            "100%|██████████| 10/10 [00:02<00:00,  4.69it/s]\n",
            "100%|██████████| 30/30 [00:09<00:00,  3.13it/s]t]\n",
            "100%|██████████| 10/10 [00:02<00:00,  4.68it/s]\n",
            "100%|██████████| 30/30 [00:09<00:00,  3.20it/s]t]\n",
            "100%|██████████| 10/10 [00:02<00:00,  4.48it/s]\n",
            "100%|██████████| 30/30 [00:09<00:00,  3.22it/s]t]\n",
            "100%|██████████| 10/10 [00:02<00:00,  4.56it/s]\n",
            "100%|██████████| 30/30 [00:09<00:00,  3.02it/s]t]\n",
            "100%|██████████| 10/10 [00:02<00:00,  4.40it/s]\n",
            "100%|██████████| 30/30 [00:09<00:00,  3.33it/s]t]\n",
            "100%|██████████| 10/10 [00:02<00:00,  4.56it/s]\n",
            "100%|██████████| 30/30 [00:09<00:00,  3.12it/s]t]\n",
            "100%|██████████| 10/10 [00:02<00:00,  4.81it/s]\n",
            "100%|██████████| 30/30 [00:09<00:00,  3.09it/s]t]\n",
            "100%|██████████| 10/10 [00:02<00:00,  4.22it/s]\n",
            "100%|██████████| 30/30 [00:09<00:00,  3.18it/s]t]\n",
            "100%|██████████| 10/10 [00:02<00:00,  4.41it/s]\n",
            "100%|██████████| 30/30 [00:09<00:00,  3.28it/s]t]\n",
            "100%|██████████| 10/10 [00:02<00:00,  4.53it/s]\n",
            "100%|██████████| 30/30 [00:09<00:00,  3.14it/s]t]\n",
            "100%|██████████| 10/10 [00:02<00:00,  4.55it/s]\n",
            "100%|██████████| 30/30 [00:09<00:00,  3.30it/s]t]\n",
            "100%|██████████| 10/10 [00:02<00:00,  4.56it/s]\n",
            "100%|██████████| 30/30 [00:09<00:00,  3.23it/s]t]\n",
            "100%|██████████| 10/10 [00:02<00:00,  4.89it/s]\n",
            "100%|██████████| 30/30 [00:09<00:00,  3.27it/s]t]\n",
            "100%|██████████| 10/10 [00:01<00:00,  5.00it/s]\n",
            "100%|██████████| 30/30 [00:09<00:00,  3.27it/s]t]\n",
            "100%|██████████| 10/10 [00:02<00:00,  4.98it/s]\n",
            "100%|██████████| 30/30 [00:09<00:00,  3.14it/s]t]\n",
            "100%|██████████| 10/10 [00:02<00:00,  4.55it/s]\n",
            "100%|██████████| 30/30 [00:09<00:00,  3.06it/s]t]\n",
            "100%|██████████| 10/10 [00:02<00:00,  4.56it/s]\n",
            "100%|██████████| 30/30 [00:09<00:00,  3.16it/s]t]\n",
            "100%|██████████| 10/10 [00:02<00:00,  4.46it/s]\n",
            "100%|██████████| 230/230 [44:24<00:00, 11.59s/it]\n"
          ]
        }
      ],
      "source": [
        "train(model,optim = optimizer,criterion = criterion,train_loader = train_dataloader, test_loader = test_dataloader, device=\"cuda:0\", epochs=epochs)\n",
        "# except KeyboardInterrupt:\n",
        "  # torch.save(model.state_dict(),\"/content/drive/MyDrive/Createch/Pool_Project/weigths/best_upgrade.txt\")"
      ]
    },
    {
      "cell_type": "markdown",
      "metadata": {
        "id": "U4Fz-uImRA6d"
      },
      "source": [
        "# Setting-up the training"
      ]
    },
    {
      "cell_type": "markdown",
      "source": [
        "## Creating the model and the summary"
      ],
      "metadata": {
        "id": "VZSS9Z3oTvsp"
      }
    },
    {
      "cell_type": "code",
      "source": [
        "device = \"cuda\" if torch.cuda.is_available() else \"cpu\""
      ],
      "metadata": {
        "id": "D-76FMqLUf_r"
      },
      "execution_count": null,
      "outputs": []
    },
    {
      "cell_type": "code",
      "source": [
        "model = myUnet()\n",
        "model.to(device)\n",
        "summary(model, (3,64,128)) \n"
      ],
      "metadata": {
        "id": "F4BLxTvqT2dB",
        "colab": {
          "base_uri": "https://localhost:8080/"
        },
        "outputId": "492e774b-31ef-4569-c8cc-90179c2b5863"
      },
      "execution_count": null,
      "outputs": [
        {
          "output_type": "stream",
          "name": "stdout",
          "text": [
            "----------------------------------------------------------------\n",
            "        Layer (type)               Output Shape         Param #\n",
            "================================================================\n",
            "            Conv2d-1          [-1, 32, 64, 128]             896\n",
            "              ReLU-2          [-1, 32, 64, 128]               0\n",
            "       BatchNorm2d-3          [-1, 32, 64, 128]              64\n",
            "         MaxPool2d-4           [-1, 32, 32, 64]               0\n",
            "            Conv2d-5           [-1, 64, 32, 64]          18,496\n",
            "              ReLU-6           [-1, 64, 32, 64]               0\n",
            "       BatchNorm2d-7           [-1, 64, 32, 64]             128\n",
            "         MaxPool2d-8           [-1, 64, 16, 32]               0\n",
            "            Conv2d-9           [-1, 32, 16, 32]          18,464\n",
            "             ReLU-10           [-1, 32, 16, 32]               0\n",
            "      BatchNorm2d-11           [-1, 32, 16, 32]              64\n",
            "        MaxPool2d-12            [-1, 32, 8, 16]               0\n",
            "         Upsample-13           [-1, 32, 16, 32]               0\n",
            "           Conv2d-14           [-1, 64, 16, 32]          36,928\n",
            "             ReLU-15           [-1, 64, 16, 32]               0\n",
            "      BatchNorm2d-16           [-1, 64, 16, 32]             128\n",
            "         Upsample-17           [-1, 64, 32, 64]               0\n",
            "           Conv2d-18           [-1, 32, 32, 64]          36,896\n",
            "             ReLU-19           [-1, 32, 32, 64]               0\n",
            "      BatchNorm2d-20           [-1, 32, 32, 64]              64\n",
            "         Upsample-21          [-1, 32, 64, 128]               0\n",
            "           Conv2d-22           [-1, 1, 64, 128]             577\n",
            "================================================================\n",
            "Total params: 112,705\n",
            "Trainable params: 112,705\n",
            "Non-trainable params: 0\n",
            "----------------------------------------------------------------\n",
            "Input size (MB): 0.09\n",
            "Forward/backward pass size (MB): 15.59\n",
            "Params size (MB): 0.43\n",
            "Estimated Total Size (MB): 16.12\n",
            "----------------------------------------------------------------\n"
          ]
        }
      ]
    },
    {
      "cell_type": "markdown",
      "metadata": {
        "id": "LRRI5ye8RA6j"
      },
      "source": [
        "## Hyperparameters"
      ]
    },
    {
      "cell_type": "code",
      "execution_count": null,
      "metadata": {
        "id": "qvZVh-HxRA6k"
      },
      "outputs": [],
      "source": [
        "lr = 1e-3\n",
        "optimizer = SGD(model.parameters(),lr=lr)\n",
        "criterion = nn.BCEWithLogitsLoss()\n",
        "criterion = criterion.to(device)\n",
        "epochs = 30"
      ]
    },
    {
      "cell_type": "markdown",
      "metadata": {
        "id": "JZyAhfZeRA6l"
      },
      "source": [
        "## Visualization setup\n"
      ]
    },
    {
      "cell_type": "code",
      "execution_count": null,
      "metadata": {
        "colab": {
          "base_uri": "https://localhost:8080/",
          "height": 1000
        },
        "outputId": "a07ebe4d-e54f-4693-cc06-d80db1db1071",
        "id": "W4uAW7-ORA6l"
      },
      "outputs": [
        {
          "output_type": "stream",
          "name": "stdout",
          "text": [
            "Looking in indexes: https://pypi.org/simple, https://us-python.pkg.dev/colab-wheels/public/simple/\n",
            "Collecting wandb\n",
            "  Downloading wandb-0.13.8-py2.py3-none-any.whl (2.0 MB)\n",
            "\u001b[2K     \u001b[90m━━━━━━━━━━━━━━━━━━━━━━━━━━━━━━━━━━━━━━━━\u001b[0m \u001b[32m2.0/2.0 MB\u001b[0m \u001b[31m70.2 MB/s\u001b[0m eta \u001b[36m0:00:00\u001b[0m\n",
            "\u001b[?25hRequirement already satisfied: requests<3,>=2.0.0 in /usr/local/lib/python3.8/dist-packages (from wandb) (2.25.1)\n",
            "Requirement already satisfied: protobuf!=4.21.0,<5,>=3.12.0 in /usr/local/lib/python3.8/dist-packages (from wandb) (3.19.6)\n",
            "Requirement already satisfied: appdirs>=1.4.3 in /usr/local/lib/python3.8/dist-packages (from wandb) (1.4.4)\n",
            "Collecting setproctitle\n",
            "  Downloading setproctitle-1.3.2-cp38-cp38-manylinux_2_5_x86_64.manylinux1_x86_64.manylinux_2_17_x86_64.manylinux2014_x86_64.whl (31 kB)\n",
            "Requirement already satisfied: setuptools in /usr/local/lib/python3.8/dist-packages (from wandb) (57.4.0)\n",
            "Collecting pathtools\n",
            "  Downloading pathtools-0.1.2.tar.gz (11 kB)\n",
            "  Preparing metadata (setup.py) ... \u001b[?25l\u001b[?25hdone\n",
            "Collecting docker-pycreds>=0.4.0\n",
            "  Downloading docker_pycreds-0.4.0-py2.py3-none-any.whl (9.0 kB)\n",
            "Collecting GitPython>=1.0.0\n",
            "  Downloading GitPython-3.1.30-py3-none-any.whl (184 kB)\n",
            "\u001b[2K     \u001b[90m━━━━━━━━━━━━━━━━━━━━━━━━━━━━━━━━━━━━━━\u001b[0m \u001b[32m184.0/184.0 KB\u001b[0m \u001b[31m24.1 MB/s\u001b[0m eta \u001b[36m0:00:00\u001b[0m\n",
            "\u001b[?25hRequirement already satisfied: psutil>=5.0.0 in /usr/local/lib/python3.8/dist-packages (from wandb) (5.4.8)\n",
            "Requirement already satisfied: Click!=8.0.0,>=7.0 in /usr/local/lib/python3.8/dist-packages (from wandb) (7.1.2)\n",
            "Collecting sentry-sdk>=1.0.0\n",
            "  Downloading sentry_sdk-1.12.1-py2.py3-none-any.whl (174 kB)\n",
            "\u001b[2K     \u001b[90m━━━━━━━━━━━━━━━━━━━━━━━━━━━━━━━━━━━━━━\u001b[0m \u001b[32m174.3/174.3 KB\u001b[0m \u001b[31m21.4 MB/s\u001b[0m eta \u001b[36m0:00:00\u001b[0m\n",
            "\u001b[?25hRequirement already satisfied: PyYAML in /usr/local/lib/python3.8/dist-packages (from wandb) (6.0)\n",
            "Requirement already satisfied: typing-extensions in /usr/local/lib/python3.8/dist-packages (from wandb) (4.4.0)\n",
            "Requirement already satisfied: six>=1.4.0 in /usr/local/lib/python3.8/dist-packages (from docker-pycreds>=0.4.0->wandb) (1.15.0)\n",
            "Collecting gitdb<5,>=4.0.1\n",
            "  Downloading gitdb-4.0.10-py3-none-any.whl (62 kB)\n",
            "\u001b[2K     \u001b[90m━━━━━━━━━━━━━━━━━━━━━━━━━━━━━━━━━━━━━━━━\u001b[0m \u001b[32m62.7/62.7 KB\u001b[0m \u001b[31m9.2 MB/s\u001b[0m eta \u001b[36m0:00:00\u001b[0m\n",
            "\u001b[?25hRequirement already satisfied: chardet<5,>=3.0.2 in /usr/local/lib/python3.8/dist-packages (from requests<3,>=2.0.0->wandb) (4.0.0)\n",
            "Requirement already satisfied: urllib3<1.27,>=1.21.1 in /usr/local/lib/python3.8/dist-packages (from requests<3,>=2.0.0->wandb) (1.24.3)\n",
            "Requirement already satisfied: certifi>=2017.4.17 in /usr/local/lib/python3.8/dist-packages (from requests<3,>=2.0.0->wandb) (2022.12.7)\n",
            "Requirement already satisfied: idna<3,>=2.5 in /usr/local/lib/python3.8/dist-packages (from requests<3,>=2.0.0->wandb) (2.10)\n",
            "Collecting urllib3<1.27,>=1.21.1\n",
            "  Downloading urllib3-1.26.14-py2.py3-none-any.whl (140 kB)\n",
            "\u001b[2K     \u001b[90m━━━━━━━━━━━━━━━━━━━━━━━━━━━━━━━━━━━━━━\u001b[0m \u001b[32m140.6/140.6 KB\u001b[0m \u001b[31m20.2 MB/s\u001b[0m eta \u001b[36m0:00:00\u001b[0m\n",
            "\u001b[?25hCollecting smmap<6,>=3.0.1\n",
            "  Downloading smmap-5.0.0-py3-none-any.whl (24 kB)\n",
            "Building wheels for collected packages: pathtools\n",
            "  Building wheel for pathtools (setup.py) ... \u001b[?25l\u001b[?25hdone\n",
            "  Created wheel for pathtools: filename=pathtools-0.1.2-py3-none-any.whl size=8806 sha256=5b733cc3f30a811622a798168eeedd385e89f058f05d69aa9ef4a0863a0b996a\n",
            "  Stored in directory: /root/.cache/pip/wheels/4c/8e/7e/72fbc243e1aeecae64a96875432e70d4e92f3d2d18123be004\n",
            "Successfully built pathtools\n",
            "Installing collected packages: pathtools, urllib3, smmap, setproctitle, docker-pycreds, sentry-sdk, gitdb, GitPython, wandb\n",
            "  Attempting uninstall: urllib3\n",
            "    Found existing installation: urllib3 1.24.3\n",
            "    Uninstalling urllib3-1.24.3:\n",
            "      Successfully uninstalled urllib3-1.24.3\n",
            "Successfully installed GitPython-3.1.30 docker-pycreds-0.4.0 gitdb-4.0.10 pathtools-0.1.2 sentry-sdk-1.12.1 setproctitle-1.3.2 smmap-5.0.0 urllib3-1.26.14 wandb-0.13.8\n"
          ]
        },
        {
          "output_type": "display_data",
          "data": {
            "application/vnd.colab-display-data+json": {
              "pip_warning": {
                "packages": [
                  "urllib3"
                ]
              }
            }
          },
          "metadata": {}
        },
        {
          "output_type": "stream",
          "name": "stderr",
          "text": [
            "ERROR:wandb.jupyter:Failed to detect the name of this notebook, you can set it manually with the WANDB_NOTEBOOK_NAME environment variable to enable code saving.\n"
          ]
        },
        {
          "output_type": "display_data",
          "data": {
            "text/plain": [
              "<IPython.core.display.Javascript object>"
            ],
            "application/javascript": [
              "\n",
              "        window._wandbApiKey = new Promise((resolve, reject) => {\n",
              "            function loadScript(url) {\n",
              "            return new Promise(function(resolve, reject) {\n",
              "                let newScript = document.createElement(\"script\");\n",
              "                newScript.onerror = reject;\n",
              "                newScript.onload = resolve;\n",
              "                document.body.appendChild(newScript);\n",
              "                newScript.src = url;\n",
              "            });\n",
              "            }\n",
              "            loadScript(\"https://cdn.jsdelivr.net/npm/postmate/build/postmate.min.js\").then(() => {\n",
              "            const iframe = document.createElement('iframe')\n",
              "            iframe.style.cssText = \"width:0;height:0;border:none\"\n",
              "            document.body.appendChild(iframe)\n",
              "            const handshake = new Postmate({\n",
              "                container: iframe,\n",
              "                url: 'https://wandb.ai/authorize'\n",
              "            });\n",
              "            const timeout = setTimeout(() => reject(\"Couldn't auto authenticate\"), 5000)\n",
              "            handshake.then(function(child) {\n",
              "                child.on('authorize', data => {\n",
              "                    clearTimeout(timeout)\n",
              "                    resolve(data)\n",
              "                });\n",
              "            });\n",
              "            })\n",
              "        });\n",
              "    "
            ]
          },
          "metadata": {}
        },
        {
          "output_type": "stream",
          "name": "stderr",
          "text": [
            "\u001b[34m\u001b[1mwandb\u001b[0m: Logging into wandb.ai. (Learn how to deploy a W&B server locally: https://wandb.me/wandb-server)\n",
            "\u001b[34m\u001b[1mwandb\u001b[0m: You can find your API key in your browser here: https://wandb.ai/authorize\n",
            "wandb: Paste an API key from your profile and hit enter, or press ctrl+c to quit: "
          ]
        },
        {
          "name": "stdout",
          "output_type": "stream",
          "text": [
            "··········\n"
          ]
        },
        {
          "output_type": "stream",
          "name": "stderr",
          "text": [
            "\u001b[34m\u001b[1mwandb\u001b[0m: Appending key for api.wandb.ai to your netrc file: /root/.netrc\n"
          ]
        },
        {
          "output_type": "execute_result",
          "data": {
            "text/plain": [
              "True"
            ]
          },
          "metadata": {},
          "execution_count": 14
        }
      ],
      "source": [
        "!pip3 install wandb\n",
        "import wandb\n",
        "\n",
        "wandb.login()"
      ]
    },
    {
      "cell_type": "code",
      "execution_count": null,
      "metadata": {
        "colab": {
          "base_uri": "https://localhost:8080/",
          "height": 143
        },
        "outputId": "835ba126-8b91-4ecb-b001-cee2a4b2bbf7",
        "id": "o7CPWtmERA6m"
      },
      "outputs": [
        {
          "output_type": "stream",
          "name": "stderr",
          "text": [
            "\u001b[34m\u001b[1mwandb\u001b[0m: Currently logged in as: \u001b[33msn00wden\u001b[0m. Use \u001b[1m`wandb login --relogin`\u001b[0m to force relogin\n"
          ]
        },
        {
          "output_type": "display_data",
          "data": {
            "text/plain": [
              "<IPython.core.display.HTML object>"
            ],
            "text/html": [
              "Tracking run with wandb version 0.13.8"
            ]
          },
          "metadata": {}
        },
        {
          "output_type": "display_data",
          "data": {
            "text/plain": [
              "<IPython.core.display.HTML object>"
            ],
            "text/html": [
              "Run data is saved locally in <code>/content/wandb/run-20230112_092535-shf89b5y</code>"
            ]
          },
          "metadata": {}
        },
        {
          "output_type": "display_data",
          "data": {
            "text/plain": [
              "<IPython.core.display.HTML object>"
            ],
            "text/html": [
              "Syncing run <strong><a href=\"https://wandb.ai/sn00wden/simplest_IA/runs/shf89b5y\" target=\"_blank\">experiment_w_Unet_V1</a></strong> to <a href=\"https://wandb.ai/sn00wden/simplest_IA\" target=\"_blank\">Weights & Biases</a> (<a href=\"https://wandb.me/run\" target=\"_blank\">docs</a>)<br/>"
            ]
          },
          "metadata": {}
        },
        {
          "output_type": "display_data",
          "data": {
            "text/plain": [
              "<IPython.core.display.HTML object>"
            ],
            "text/html": [
              " View project at <a href=\"https://wandb.ai/sn00wden/simplest_IA\" target=\"_blank\">https://wandb.ai/sn00wden/simplest_IA</a>"
            ]
          },
          "metadata": {}
        },
        {
          "output_type": "display_data",
          "data": {
            "text/plain": [
              "<IPython.core.display.HTML object>"
            ],
            "text/html": [
              " View run at <a href=\"https://wandb.ai/sn00wden/simplest_IA/runs/shf89b5y\" target=\"_blank\">https://wandb.ai/sn00wden/simplest_IA/runs/shf89b5y</a>"
            ]
          },
          "metadata": {}
        },
        {
          "output_type": "execute_result",
          "data": {
            "text/html": [
              "<button onClick=\"this.nextSibling.style.display='block';this.style.display='none';\">Display W&B run</button><iframe src=\"https://wandb.ai/sn00wden/simplest_IA/runs/shf89b5y?jupyter=true\" style=\"border:none;width:100%;height:420px;display:none;\"></iframe>"
            ],
            "text/plain": [
              "<wandb.sdk.wandb_run.Run at 0x7f0d307bc910>"
            ]
          },
          "metadata": {},
          "execution_count": 15
        }
      ],
      "source": [
        "\n",
        "wandb.init(\n",
        "      # Set the project where this run will be logged\n",
        "      project=\"simplest_IA\", \n",
        "      # We pass a run name (otherwise it’ll be randomly assigned, like sunshine-lollypop-10)\n",
        "      name=f\"experiment_w_Unet_V1\", \n",
        "      # Track hyperparameters and run metadata\n",
        "      config={\n",
        "      \"learning_rate\": lr,\n",
        "      \"architecture\": \"U-NET\",\n",
        "      \"dataset\": \"Blender_Dataset\",\n",
        "      \"dataset_size\" : 10000,\n",
        "      \"loss\" : \"BCELoss\",\n",
        "      \"epochs\": epochs,\n",
        "      \"batch_size\": batch_size,\n",
        "\n",
        "      })"
      ]
    },
    {
      "cell_type": "code",
      "execution_count": null,
      "metadata": {
        "id": "HmUNEW5ySHCc",
        "colab": {
          "base_uri": "https://localhost:8080/"
        },
        "outputId": "1fa832d4-8a60-45ab-f748-64fec3fa8a09"
      },
      "outputs": [
        {
          "output_type": "execute_result",
          "data": {
            "text/plain": [
              "[]"
            ]
          },
          "metadata": {},
          "execution_count": 16
        }
      ],
      "source": [
        "wandb.watch(\n",
        "    model,\n",
        "    criterion = criterion,\n",
        "    log = 'all',\n",
        "    log_freq = 2\n",
        ")"
      ]
    },
    {
      "cell_type": "markdown",
      "source": [
        "# Training"
      ],
      "metadata": {
        "id": "kVBybBC3VV11"
      }
    },
    {
      "cell_type": "markdown",
      "metadata": {
        "id": "joiAYON0-Wr5"
      },
      "source": [
        "## Step function"
      ]
    },
    {
      "cell_type": "code",
      "execution_count": null,
      "metadata": {
        "id": "7V9vt0rBtqDV"
      },
      "outputs": [],
      "source": [
        "def step(model: nn.Module, optim: torch.optim.Optimizer, criterion, loader: DataLoader, device: str = \"cuda:0\", train: bool = True) -> tuple[float, float] | float:\n",
        "\n",
        "\n",
        "  avg_loss, avg_acc = 0.0, 0.0\n",
        "  for sample in tqdm(loader):\n",
        "      \n",
        "      x, target = sample[\"image\"].to(device), sample[\"target\"].to(device)\n",
        "\n",
        "      y_: torch.Tensor = model(x)\n",
        "\n",
        "      loss = criterion(y_,target)\n",
        "\n",
        "      if train:\n",
        "          optim.zero_grad(set_to_none=None)\n",
        "          loss.backward()\n",
        "          optim.step()\n",
        "      avg_loss += loss.item() / len(loader)\n",
        "\n",
        "  return avg_loss\n",
        "\n",
        "      \n"
      ]
    },
    {
      "cell_type": "markdown",
      "metadata": {
        "id": "3dpo-pLuToZS"
      },
      "source": [
        "## Train loop"
      ]
    },
    {
      "cell_type": "code",
      "execution_count": null,
      "metadata": {
        "id": "tGA0rPgYToZX"
      },
      "outputs": [],
      "source": [
        "def train(\n",
        "    model: nn.Module,\n",
        "    optim: torch.optim.Optimizer,\n",
        "    criterion,\n",
        "    train_loader: DataLoader,\n",
        "    test_loader : DataLoader,\n",
        "    device: str = \"cuda:0\",\n",
        "    train: bool = True,\n",
        "    epochs : int = 10\n",
        "    ) -> None:\n",
        "  best_loss = np.inf\n",
        "  for i in tqdm(range(epochs)):\n",
        "\n",
        "    # Train\n",
        "    loss = step(model, optim, criterion, train_loader, train=True)\n",
        "    wandb.log({\"train_loss\" : loss})\n",
        "\n",
        "    # test\n",
        "    loss = step(model,optim,criterion,test_loader,train = False)\n",
        "    wandb.log({\"test_loss\" : loss})\n",
        "\n",
        "    if loss < best_loss:\n",
        "      best_loss = loss\n",
        "      torch.save(model.state_dict(),\"/content/drive/MyDrive/Createch/Pool_Project/weights/best_unet_v2\")# If on local : \"./best_unet_v3.txt\")"
      ]
    },
    {
      "cell_type": "markdown",
      "metadata": {
        "id": "Bf6DSLYQToZb"
      },
      "source": [
        "## Let's train now "
      ]
    },
    {
      "cell_type": "code",
      "execution_count": null,
      "metadata": {
        "colab": {
          "base_uri": "https://localhost:8080/"
        },
        "outputId": "0f1e9735-f03d-4dfb-abb4-6402f912a8db",
        "id": "BZz5K3XvToZd"
      },
      "outputs": [
        {
          "output_type": "stream",
          "name": "stderr",
          "text": [
            "  0%|          | 0/30 [00:00<?, ?it/s]\n",
            "  0%|          | 0/118 [00:00<?, ?it/s]\u001b[A\n",
            "  1%|          | 1/118 [00:58<1:54:49, 58.89s/it]\u001b[A\n",
            "  2%|▏         | 2/118 [00:59<47:10, 24.40s/it]  \u001b[A"
          ]
        }
      ],
      "source": [
        "train(model,optim = optimizer,criterion = criterion,train_loader = train_dataloader, test_loader = test_dataloader, device=\"cuda:0\", epochs=epochs)"
      ]
    },
    {
      "cell_type": "markdown",
      "metadata": {
        "id": "hQLCIIgc0cq3"
      },
      "source": [
        "# Inference"
      ]
    },
    {
      "cell_type": "markdown",
      "source": [
        "## Validation set-up ################ NOT WORKING"
      ],
      "metadata": {
        "id": "Wb50dfMCVm9P"
      }
    },
    {
      "cell_type": "markdown",
      "metadata": {
        "id": "wuApBh1qKqbN"
      },
      "source": [
        "#### Useful functions for testing and validation"
      ]
    },
    {
      "cell_type": "code",
      "execution_count": null,
      "metadata": {
        "id": "neWfArwnEnCL"
      },
      "outputs": [],
      "source": [
        "def verif_close(coords : np.ndarray, x,y) -> bool:\n",
        "  eps = 2\n",
        "  for i in range(len(coords[0])):\n",
        "    if coords[0][i] == x:\n",
        "      return True if coords[1][i] - eps <= y and coords[1][i] + eps >= y else False\n",
        "    \n",
        "    if coords[1][i] == x:\n",
        "      return True if coords[0][i] - eps <= y and coords[0][i] + eps >= y else False\n"
      ]
    },
    {
      "cell_type": "code",
      "execution_count": null,
      "metadata": {
        "id": "uG_ZDWG3QBve"
      },
      "outputs": [],
      "source": [
        "\n",
        "def get_center(input : torch.Tensor, kernel_size : int = 4) -> torch :\n",
        "  width = input.size()[2]\n",
        "  height = input.size()[1]\n",
        "  ret = torch.zeros(1,height,width,dtype=torch.float32)\n",
        "  for y  in range(height):\n",
        "    for x in range(width):\n",
        "      temp_value = input[0,y,x]\n",
        "      if temp_value !=0 :\n",
        "        min_x= 0 if x-kernel_size < 0 else x -kernel_size\n",
        "        min_y= 0 if y-kernel_size < 0 else y -kernel_size\n",
        "        max_x = width-1 if x+kernel_size> width else x+kernel_size \n",
        "        max_y = height-1 if y+kernel_size> height else y+kernel_size \n",
        "        local_max = temp_value\n",
        "        # modif = False\n",
        "        for j in range(min_y,max_y):\n",
        "          for i in range(min_x,max_x):\n",
        "            if input[0,j,i] > local_max and i > 2:\n",
        "              local_max = input[0,j,i]\n",
        "              modif = True\n",
        "\n",
        "        ret[0,y,x] = 1 if temp_value == local_max and x >2 and x< width -3 else 0.0\n",
        "  return ret\n",
        "            "
      ]
    },
    {
      "cell_type": "code",
      "execution_count": null,
      "metadata": {
        "id": "TLh0W7CIyhYf"
      },
      "outputs": [],
      "source": [
        "def extract_coords(input : torch.Tensor)-> np.darray:\n",
        "  coords = [[],[]]\n",
        "  width = input.size()[2]\n",
        "  height = input.size()[1]\n",
        "\n",
        "  for y in range(height):\n",
        "    for x in range(width):\n",
        "      if input[0,y,x] == 1 and not verif_close(coords,x,y):\n",
        "        coords[0].append(x) # Append in list with x values\n",
        "        coords[1].append(y) # Append in list with y values\n",
        "  return np.array(coords)"
      ]
    },
    {
      "cell_type": "code",
      "execution_count": null,
      "metadata": {
        "id": "O1eKCfSIYAAV"
      },
      "outputs": [],
      "source": [
        "\n",
        "\n",
        "def mean_euclidian_distance(target_coords : np.ndarray, predict_coords : np.ndarray) -> np.ndarray :\n",
        "  dist = []\n",
        "  for x,y in zip(target_coords[0],target_coords[1]):\n",
        "    dist_min = np.sqrt(np.power(x-predict_coords[0],2) + np.power(y-predict_coords[1],2))\n",
        "    dist_min = np.min(dist_min) if len(dist_min) > 0 else 0 \n",
        "    dist.append(dist_min)\n",
        "  return (np.array(dist)).mean()"
      ]
    },
    {
      "cell_type": "markdown",
      "metadata": {
        "id": "Mi5mAwl-Kwbb"
      },
      "source": [
        "#### Final Valid function"
      ]
    },
    {
      "cell_type": "code",
      "execution_count": null,
      "metadata": {
        "id": "I9Mn_MFR-WfZ"
      },
      "outputs": [],
      "source": [
        "def valid(model : nn.Module, loader : DataLoader, device: str = \"cuda:0\", nb : int =  100, display : bool = False) -> float :\n",
        "  mean_dist = 0.0\n",
        "  nb_false_positive = 0.0\n",
        "  nb_true_negative = 0.0\n",
        "  # nb = nb_batch * batch_size\n",
        "\n",
        "  y_ = None\n",
        "  avg_loss, avg_acc = 0.0, 0.0\n",
        "  start = time.time()\n",
        "  for sample in loader:\n",
        "    with torch.inference_mode() :\n",
        "\n",
        "      x, target = sample[\"image\"].to(device), sample[\"target\"]\n",
        "      y_: torch.Tensor = model(x)\n",
        "\n",
        "      for _ in range(nb) :\n",
        "        ind = random.randint(0,batch_size-1)\n",
        "\n",
        "        thresh_function = torch.nn.Threshold(0.9,0,inplace = False)\n",
        "        output_threshed = thresh_function(y_[ind])\n",
        "        output_displayed = torch.squeeze(y_[ind],dim=1)\n",
        "        to_pil = T.ToPILImage()\n",
        "\n",
        "        f, axarr = plt.subplots(2,2)\n",
        "        axarr[0,0].imshow(to_pil(output_displayed))\n",
        "        axarr[0,0].title.set_text(\"Raw output\")\n",
        "\n",
        "        axarr[0,1].imshow(to_pil(output_threshed))\n",
        "        axarr[0,1].title.set_text(\"Threshed output\")\n",
        "        # print(output_threshed.size())\n",
        "        output_centered = get_center(output_threshed)\n",
        "        # output_centered = torch.squeeze(output_centered,dim = 0)\n",
        "        print(\"shape of tensor target\", target[ind].shape)\n",
        "        print(\"shape of tensor output\", output_centered.shape)\n",
        "        output_extracted, target_extracted= extract_coords(output_centered), extract_coords(target[ind])\n",
        "        print(\"output_extracted : \", output_extracted)\n",
        "        print(\"target_extracted : \", target_extracted)\n",
        "        nb_false_positive += len(output_extracted) - len(target_extracted) if len(output_extracted) - len(target_extracted) >= 0 else  0.0\n",
        "        nb_true_negative += -len(output_extracted) + len(target_extracted) if -len(output_extracted) + len(target_extracted) < 0 else  0.0\n",
        "\n",
        "        # print(target_extracted)\n",
        "\n",
        "        dist = mean_euclidian_distance(output_extracted, target_extracted)\n",
        "        mean_dist += dist\n",
        "        print(f\"distance : {dist:.2e} Sw for one inference : {time.time() - start}\")\n",
        "        if display : \n",
        "          to_pil = T.ToPILImage()\n",
        "\n",
        "          output_displayed = torch.squeeze(y_[ind],dim=1)\n",
        "          f, axarr = plt.subplots(2,2)\n",
        "          axarr[0,0].imshow(to_pil(output_displayed))\n",
        "          axarr[0,0].title.set_text(\"Raw output\")\n",
        "\n",
        "          axarr[0,1].imshow(to_pil(output_threshed))\n",
        "          axarr[0,1].title.set_text(\"Threshed output\")\n",
        "\n",
        "          axarr[1,0].imshow(to_pil(output_centered))\n",
        "          axarr[1,0].title.set_text(\"Local maximum output\")\n",
        "\n",
        "          axarr[1,1].imshow(to_pil(target))\n",
        "          axarr[1,1].title.set_text(\"Target\")\n",
        "      mean_dist /= nb\n",
        "      nb_false_positive /= nb\n",
        "      nb_true_negative /= nb\n",
        "      print(f\"\\nMean distance of the valid ({nb} runs) : {mean_dist:.2e}\")\n",
        "      print(f\"Number of false positive {nb_false_positive:.2e} | Number of true negative {nb_true_negative:.2e}\")\n",
        "\n",
        "      return mean_dist\n",
        "      # break\n"
      ]
    },
    {
      "cell_type": "markdown",
      "metadata": {
        "id": "RkxBltXLHyS9"
      },
      "source": [
        "## Validating "
      ]
    },
    {
      "cell_type": "markdown",
      "source": [
        "### Import state dict of the trained model"
      ],
      "metadata": {
        "id": "B-WDWRGFqK5L"
      }
    },
    {
      "cell_type": "code",
      "execution_count": null,
      "metadata": {
        "id": "967-9yFSo2Fr"
      },
      "outputs": [],
      "source": [
        "####################################### For testing purpose only #########################################\n",
        "device = \"cuda\" if torch.cuda.is_available() else \"cpu\"\n",
        "model = myUnet()\n",
        "model.load_state_dict(torch.load(\"/content/drive/MyDrive/Createch/Pool_Project/weights/best_unet_v2\", map_location = torch.device(device)))\n",
        "model.eval()\n",
        "model.to(device)"
      ]
    },
    {
      "cell_type": "markdown",
      "source": [
        "### Results"
      ],
      "metadata": {
        "id": "BChMcU8_qUlY"
      }
    },
    {
      "cell_type": "code",
      "source": [
        "c = valid(model,test_dataloader,device = device,nb = 1, display = True)"
      ],
      "metadata": {
        "id": "6nGtmnAV19yK"
      },
      "execution_count": null,
      "outputs": []
    }
  ],
  "metadata": {
    "colab": {
      "collapsed_sections": [
        "gOpEO3AH1zoQ",
        "wuApBh1qKqbN",
        "Mi5mAwl-Kwbb"
      ],
      "provenance": []
    },
    "gpuClass": "standard",
    "kernelspec": {
      "display_name": "Python 3",
      "language": "python",
      "name": "python3"
    },
    "language_info": {
      "codemirror_mode": {
        "name": "ipython",
        "version": 3
      },
      "file_extension": ".py",
      "mimetype": "text/x-python",
      "name": "python",
      "nbconvert_exporter": "python",
      "pygments_lexer": "ipython3",
      "version": "3.8.10"
    },
    "vscode": {
      "interpreter": {
        "hash": "916dbcbb3f70747c44a77c7bcd40155683ae19c65e1c03b4aa3499c5328201f1"
      }
    },
    "accelerator": "GPU"
  },
  "nbformat": 4,
  "nbformat_minor": 0
}